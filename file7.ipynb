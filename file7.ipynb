{
 "cells": [
  {
   "cell_type": "code",
   "execution_count": 1,
   "metadata": {},
   "outputs": [],
   "source": [
    "# !pip install gurobipy"
   ]
  },
  {
   "cell_type": "code",
   "execution_count": 1,
   "metadata": {},
   "outputs": [],
   "source": [
    "from gurobipy import *"
   ]
  },
  {
   "cell_type": "markdown",
   "metadata": {},
   "source": [
    "## 問題例7 複数のシナリオを生成し同時に解く"
   ]
  },
  {
   "cell_type": "code",
   "execution_count": 71,
   "metadata": {},
   "outputs": [],
   "source": [
    "def order(a,b,c,d):\n",
    "  return [a,b,c,d]"
   ]
  },
  {
   "cell_type": "code",
   "execution_count": 85,
   "metadata": {},
   "outputs": [
    {
     "data": {
      "text/plain": [
       "([1, 2, 3, 4],\n",
       " [1, 2, 3, 4],\n",
       " [1, 2, 3, 4],\n",
       " [1, 2, 3, 4, 5, 6],\n",
       " [1, 2, 4, 3],\n",
       " [2, 1, 4, 3],\n",
       " [1, 2, 3, 4],\n",
       " [2, 1, 3, 4])"
      ]
     },
     "execution_count": 85,
     "metadata": {},
     "output_type": "execute_result"
    }
   ],
   "source": [
    "# nと初期配置を変更しなければいけない\n",
    "O1=order(1,2,3,4)\n",
    "O2=order(2,1,3,4)\n",
    "O3=order(1,3,2,4)\n",
    "O4=order(1,2,4,3)\n",
    "O5=order(2,3,1,4)\n",
    "\n",
    "O=[O1,O2,O3]\n",
    "\n",
    "S=[i for i in range(1,5)]\n",
    "H=[i for i in range(1,5)]\n",
    "P=[i for i in range(1,5)]\n",
    "T=[i for i in range(1,7)]\n",
    "n_=[1,2,4,3]\n",
    "n1=[n_[O1[0]-1],n_[O1[1]-1],n_[O1[2]-1],n_[O1[3]-1]]\n",
    "n2=[n_[O2[0]-1],n_[O2[1]-1],n_[O2[2]-1],n_[O2[3]-1]]\n",
    "n3=[n_[O3[0]-1],n_[O3[1]-1],n_[O3[2]-1],n_[O3[3]-1]]\n",
    "# n3=[n_[O3[0]-1],n_[O3[1]-1],n_[O3[2]-1],n_[O3[3]-1]]\n",
    "# n4=[n_[O4[0]-1],n_[O4[1]-1],n_[O4[2]-1],n_[O4[3]-1]]\n",
    "# n5=[n_[O5[0]-1],n_[O5[1]-1],n_[O5[2]-1],n_[O5[3]-1]]\n",
    "\n",
    "S,H,P,T,n1,n2,O1,O2"
   ]
  },
  {
   "cell_type": "code",
   "execution_count": 86,
   "metadata": {},
   "outputs": [],
   "source": [
    "m=Model(\"IP3\")"
   ]
  },
  {
   "cell_type": "code",
   "execution_count": 87,
   "metadata": {},
   "outputs": [],
   "source": [
    "x,y,pre,penalty={},{},{},{}\n",
    "for s in S:\n",
    "  for h in H:\n",
    "    for p in P:\n",
    "      for t in T:\n",
    "        x[s,h,p,t]=m.addVar(vtype=\"B\")\n",
    "\n",
    "\n",
    "for s in S:\n",
    "  for k in S:\n",
    "    if s!=k:\n",
    "      for t in T:\n",
    "        if t!=len(T):\n",
    "          y[s,k,t]=m.addVar(vtype=\"B\")\n",
    "\n",
    "\n",
    "for s in S:\n",
    "  for h in range(1,len(H)):\n",
    "    for p in P:\n",
    "      pre[s,h,p]=m.addVar(vtype=\"C\")\n",
    "      penalty[s,h,p]=m.addVar(vtype=\"c\")"
   ]
  },
  {
   "cell_type": "code",
   "execution_count": 88,
   "metadata": {},
   "outputs": [],
   "source": [
    "for p in P:\n",
    "   for t in T:\n",
    "      m.addConstr(quicksum(x[s,h,p,t] for s in S for h in H)==n1[p-1])\n",
    "      # m.addConstr(quicksum(x[s,h,p,t] for s in S for h in H)==n2[p-1])\n",
    "      # m.addConstr(quicksum(x[s,h,p,t] for s in S for h in H)==n3[p-1])\n",
    "      # m.addConstr(quicksum(x[s,h,p,t] for s in S for h in H)==n4[p-1])\n",
    "      # m.addConstr(quicksum(x[s,h,p,t] for s in S for h in H)==n5[p-1])\n",
    "\n",
    "for t in range(1,len(T)):\n",
    "   m.addConstr(quicksum(y[s,k,t] for s in S for k in S if k!=s)<=1)"
   ]
  },
  {
   "cell_type": "code",
   "execution_count": 89,
   "metadata": {},
   "outputs": [],
   "source": [
    "for t in range(1,len(T)-1):\n",
    "  m.addConstr(quicksum(y[s,k,t+1] for s in S for k in S if s!=k)<=quicksum(y[s,k,t] for s in S for k in S if k!=s))\n",
    "\n",
    "for s in S:\n",
    "  for t in range(2,len(T)+1):\n",
    "    m.addConstr(quicksum(x[s,1,p,t] for p in P)<=1)\n",
    "\n",
    "for s in S:\n",
    "  for h in range(1,len(H)):\n",
    "    for t in range(2,len(T)+1):\n",
    "      m.addConstr(quicksum(x[s,h+1,p,t] for p in P)<=quicksum(x[s,h,p,t] for p in P))\n",
    "\n",
    "for s in S:\n",
    "  for h in range(1,len(H)):\n",
    "    for p in P:\n",
    "      for t in range(1,len(T)):\n",
    "        m.addConstr(x[s,h,p,t]+quicksum(x[s,h+1,k,t] for k in P)<=1+x[s,h,p,t+1])"
   ]
  },
  {
   "cell_type": "code",
   "execution_count": 90,
   "metadata": {},
   "outputs": [],
   "source": [
    "for s in S:\n",
    "  for h in H:\n",
    "    for p in P:\n",
    "      for t in range(1,len(T)):\n",
    "        m.addConstr(x[s,h,p,t]<=x[s,h,p,t+1]+quicksum(y[s,k,t] for k in S if k!=s))\n",
    "        m.addConstr(x[s,h,p,t+1]<=x[s,h,p,t]+quicksum(y[k,s,t] for k in S if k!=s))\n",
    "\n",
    "# for s in S:\n",
    "#   for h in range(1,len(H)):\n",
    "#     for p in P:\n",
    "#       m.addConstr(quicksum(x[s,h+1,k,len(T)] for k in range(p,len(P)+1))<=quicksum(x[s,h,k,len(T)] for k in range(p,len(P)+1)))\n",
    "\n",
    "for k in S:\n",
    "   for t in range(1,len(T)-1):\n",
    "    m.addConstr(quicksum(y[s,k,t] for s in S if s!=k)+quicksum(y[k,s,t+1] for s in S if s!=k)<=1)"
   ]
  },
  {
   "cell_type": "code",
   "execution_count": 91,
   "metadata": {},
   "outputs": [],
   "source": [
    "for s in S:\n",
    "  for h in range(1,len(H)):\n",
    "\n",
    "    for o in O:\n",
    "      for i,p in enumerate(o):\n",
    "        m.addConstr(penalty[s,h,p]>=quicksum(x[s,h+1,k,len(T)] for k in o[i:])-quicksum(x[s,h,k,len(T)] for k in o[i:]))\n",
    "\n",
    "\n",
    "    # for p in O1:\n",
    "    #   m.addConstr(penalty[s,h,p]>=quicksum(x[s,h+1,k,len(T)] for k in range(p,len(P)+1))-quicksum(x[s,h,k,len(T)] for k in range(p,len(P)+1)))\n",
    "    #   m.addConstr(penalty[s,h,p]>=0)\n",
    "\n",
    "    # for i,p in enumerate(O2):\n",
    "    #   m.addConstr(penalty[s,h,p]>=quicksum(x[s,h+1,k,len(T)] for k in O2[i:])-quicksum(x[s,h,k,len(T)] for k in O2[i:]))\n",
    "    #   m.addConstr(penalty[s,h,p]>=0)\n",
    "      # m.addConstr(penalty[s,h,p]>=pre[s,h,p])\n",
    "      # print(penalty[s,h,p])\n"
   ]
  },
  {
   "cell_type": "code",
   "execution_count": 92,
   "metadata": {},
   "outputs": [],
   "source": [
    "# for i,p in enumerate(O2):\n",
    "#   print(O2[O2[p]:])"
   ]
  },
  {
   "cell_type": "code",
   "execution_count": 93,
   "metadata": {},
   "outputs": [],
   "source": [
    "# for i,p in enumerate(O2):\n",
    "#   print(O2[i:])"
   ]
  },
  {
   "cell_type": "code",
   "execution_count": 94,
   "metadata": {},
   "outputs": [
    {
     "data": {
      "text/plain": [
       "<gurobi.Constr *Awaiting Model Update*>"
      ]
     },
     "execution_count": 94,
     "metadata": {},
     "output_type": "execute_result"
    }
   ],
   "source": [
    "m.addConstr(x[1,1,O1[3],1]==1)\n",
    "m.addConstr(x[1,2,O1[3],1]==1)\n",
    "m.addConstr(x[1,3,O1[2],1]==1)\n",
    "m.addConstr(x[2,1,O1[3],1]==1)\n",
    "m.addConstr(x[2,2,O1[2],1]==1)\n",
    "m.addConstr(x[2,3,O1[1],1]==1)\n",
    "m.addConstr(x[3,1,O1[2],1]==1)\n",
    "m.addConstr(x[3,2,O1[2],1]==1)\n",
    "m.addConstr(x[4,1,O1[1],1]==1)\n",
    "m.addConstr(x[4,2,O1[0],1]==1)\n",
    "\n",
    "# m.addConstr(x[1,1,O[0],1]==1)\n",
    "# m.addConstr(x[1,2,O[1],1]==1)\n",
    "# m.addConstr(x[2,1,O[1],1]==1)"
   ]
  },
  {
   "cell_type": "code",
   "execution_count": 95,
   "metadata": {},
   "outputs": [],
   "source": [
    "m.setObjective(quicksum(y[s,k,t] for s in S for k in S if k!=s for t in range(1,len(T)))\n",
    "+5*quicksum(penalty[s,h,p] for s in S for h in H if h!=len(H) for p in P))"
   ]
  },
  {
   "cell_type": "code",
   "execution_count": 96,
   "metadata": {},
   "outputs": [
    {
     "name": "stdout",
     "output_type": "stream",
     "text": [
      "Gurobi Optimizer version 9.5.2 build v9.5.2rc0 (win64)\n",
      "Thread count: 4 physical cores, 8 logical processors, using up to 8 threads\n",
      "Optimize a model with 1163 rows, 540 columns and 6710 nonzeros\n",
      "Model fingerprint: 0xc2f8a7e0\n",
      "Variable types: 96 continuous, 444 integer (444 binary)\n",
      "Coefficient statistics:\n",
      "  Matrix range     [1e+00, 1e+00]\n",
      "  Objective range  [1e+00, 5e+00]\n",
      "  Bounds range     [1e+00, 1e+00]\n",
      "  RHS range        [1e+00, 4e+00]\n",
      "Presolve removed 447 rows and 193 columns\n",
      "Presolve time: 0.05s\n",
      "Presolved: 716 rows, 347 columns, 4007 nonzeros\n",
      "Variable types: 0 continuous, 347 integer (311 binary)\n",
      "Found heuristic solution: objective 7.0000000\n",
      "\n",
      "Root relaxation: objective 1.111111e+00, 373 iterations, 0.03 seconds (0.01 work units)\n",
      "\n",
      "    Nodes    |    Current Node    |     Objective Bounds      |     Work\n",
      " Expl Unexpl |  Obj  Depth IntInf | Incumbent    BestBd   Gap | It/Node Time\n",
      "\n",
      "     0     0    1.50000    0   87    7.00000    1.50000  78.6%     -    0s\n",
      "H    0     0                       5.0000000    1.50000  70.0%     -    0s\n",
      "H    0     0                       2.0000000    2.00000  0.00%     -    0s\n",
      "     0     0          -    0         2.00000    2.00000  0.00%     -    0s\n",
      "\n",
      "Cutting planes:\n",
      "  Gomory: 5\n",
      "  Implied bound: 1\n",
      "  MIR: 12\n",
      "  Zero half: 24\n",
      "  RLT: 7\n",
      "\n",
      "Explored 1 nodes (1126 simplex iterations) in 0.30 seconds (0.06 work units)\n",
      "Thread count was 8 (of 8 available processors)\n",
      "\n",
      "Solution count 3: 2 5 7 \n",
      "\n",
      "Optimal solution found (tolerance 1.00e-04)\n",
      "Best objective 2.000000000000e+00, best bound 2.000000000000e+00, gap 0.0000%\n",
      "2\n"
     ]
    }
   ],
   "source": [
    "m.optimize()\n",
    "print(m.Status)"
   ]
  },
  {
   "cell_type": "code",
   "execution_count": 97,
   "metadata": {},
   "outputs": [
    {
     "name": "stdout",
     "output_type": "stream",
     "text": [
      "x[ 1, 1, 4, 1]=1.0\n",
      "x[ 1, 2, 4, 1]=1.0\n",
      "x[ 1, 3, 3, 1]=1.0\n",
      "x[ 2, 1, 4, 1]=1.0\n",
      "x[ 2, 2, 3, 1]=1.0\n",
      "x[ 2, 3, 2, 1]=1.0\n",
      "x[ 3, 1, 3, 1]=1.0\n",
      "x[ 3, 2, 3, 1]=1.0\n",
      "x[ 3, 3, 1, 2]=1.0\n",
      "x[ 4, 1, 2, 1]=1.0\n",
      "x[ 4, 2, 1, 1]=1.0\n",
      "x[ 4, 2, 2, 3]=1.0\n",
      "y[ 2, 4, 2]=1.0\n",
      "y[ 4, 3, 1]=1.0\n",
      "the objective function 2.0\n"
     ]
    }
   ],
   "source": [
    "EPS=1.e-6\n",
    "\n",
    "if m.Status == GRB.OPTIMAL:\n",
    "  for (s,h,p,t) in x:\n",
    "    if t==1:\n",
    "      if x[s,h,p,t].X>EPS:\n",
    "        print(\"x[%2s,%2s,%2s,%2s]=%3s\" %(s,h,p,t,x[s,h,p,t].X))\n",
    "\n",
    "    if t>=2:\n",
    "      if (x[s,h,p,t].X-x[s,h,p,t-1].X)>EPS:\n",
    "        print(\"x[%2s,%2s,%2s,%2s]=%3s\" %(s,h,p,t,x[s,h,p,t].X))\n",
    "\n",
    "    # if t==len(T):\n",
    "    #   if x[s,h,p,t].X>EPS:\n",
    "    #     print(\"x[%2s,%2s,%2s,%2s]=%3s\" %(s,h,p,t,x[s,h,p,t].X))\n",
    "\n",
    "  for (s,k,t) in y:\n",
    "    if y[s,k,t].X>EPS:\n",
    "      print(\"y[%2s,%2s,%2s]=%3s\" %(s,k,t,y[s,k,t].X))\n",
    "\n",
    "  for (s,h,p) in penalty:\n",
    "    if penalty[s,h,p].X>EPS:\n",
    "      print(\"penalty[%2s,%2s,%2s]=%3s\" %(s,h,p,penalty[s,h,p].X))\n",
    "  print(\"the objective function\", m.objVal)"
   ]
  },
  {
   "cell_type": "code",
   "execution_count": 44,
   "metadata": {},
   "outputs": [
    {
     "name": "stdout",
     "output_type": "stream",
     "text": [
      "x[ 1, 1, 4, 4]=1.0\n",
      "x[ 1, 2, 4, 4]=1.0\n",
      "x[ 1, 3, 3, 4]=1.0\n",
      "x[ 2, 1, 4, 4]=1.0\n",
      "x[ 2, 2, 3, 4]=1.0\n",
      "x[ 2, 3, 2, 4]=1.0\n",
      "x[ 2, 4, 2, 4]=1.0\n",
      "x[ 3, 1, 3, 4]=1.0\n",
      "x[ 3, 2, 3, 4]=1.0\n",
      "x[ 3, 3, 1, 4]=1.0\n"
     ]
    }
   ],
   "source": [
    "EPS=1.e-6\n",
    "\n",
    "if m.Status == GRB.OPTIMAL:\n",
    "  for (s,h,p,t) in x:\n",
    "\n",
    "    if t==len(T):\n",
    "        if x[s,h,p,t].X>EPS:\n",
    "            print(\"x[%2s,%2s,%2s,%2s]=%3s\" %(s,h,p,t,x[s,h,p,t].X))\n"
   ]
  },
  {
   "cell_type": "code",
   "execution_count": null,
   "metadata": {},
   "outputs": [],
   "source": []
  }
 ],
 "metadata": {
  "kernelspec": {
   "display_name": "Python 3.8.3 ('base')",
   "language": "python",
   "name": "python3"
  },
  "language_info": {
   "codemirror_mode": {
    "name": "ipython",
    "version": 3
   },
   "file_extension": ".py",
   "mimetype": "text/x-python",
   "name": "python",
   "nbconvert_exporter": "python",
   "pygments_lexer": "ipython3",
   "version": "3.8.3"
  },
  "orig_nbformat": 4,
  "vscode": {
   "interpreter": {
    "hash": "2844b23249f28ed4b814590c1b3b84af338e5b1fa5afd1b04b6f0a149a030b4b"
   }
  }
 },
 "nbformat": 4,
 "nbformat_minor": 2
}
