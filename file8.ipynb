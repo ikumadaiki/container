{
 "cells": [
  {
   "cell_type": "code",
   "execution_count": 23,
   "metadata": {},
   "outputs": [],
   "source": [
    "# !pip install gurobipy"
   ]
  },
  {
   "cell_type": "code",
   "execution_count": 24,
   "metadata": {},
   "outputs": [],
   "source": [
    "from gurobipy import *"
   ]
  },
  {
   "cell_type": "markdown",
   "metadata": {},
   "source": [
    "## 問題例8 目的関数を変更"
   ]
  },
  {
   "cell_type": "code",
   "execution_count": 25,
   "metadata": {},
   "outputs": [],
   "source": [
    "def order(a,b,c,d):\n",
    "  return [a,b,c,d]"
   ]
  },
  {
   "cell_type": "code",
   "execution_count": 26,
   "metadata": {},
   "outputs": [
    {
     "data": {
      "text/plain": [
       "([1, 2, 3, 4],\n",
       " [1, 2, 3, 4],\n",
       " [1, 2, 3, 4],\n",
       " [1, 2, 3, 4, 5, 6],\n",
       " [1, 2, 4, 3],\n",
       " [4, 1, 2, 3],\n",
       " [1, 2, 3, 4],\n",
       " [3, 1, 2, 4])"
      ]
     },
     "execution_count": 26,
     "metadata": {},
     "output_type": "execute_result"
    }
   ],
   "source": [
    "# nと初期配置を変更しなければいけない\n",
    "O1=order(1,2,3,4)\n",
    "O2=order(3,1,2,4)\n",
    "O3=order(3,4,1,2)\n",
    "O4=order(1,2,4,3)\n",
    "O5=order(2,3,1,4)\n",
    "\n",
    "O=[O1,O2,O3,O4,O5]\n",
    "\n",
    "S=[i for i in range(1,5)]\n",
    "H=[i for i in range(1,5)]\n",
    "P=[i for i in range(1,5)]\n",
    "T=[i for i in range(1,7)]\n",
    "n_=[1,2,4,3]\n",
    "n1=[n_[O1[0]-1],n_[O1[1]-1],n_[O1[2]-1],n_[O1[3]-1]]\n",
    "n2=[n_[O2[0]-1],n_[O2[1]-1],n_[O2[2]-1],n_[O2[3]-1]]\n",
    "n3=[n_[O3[0]-1],n_[O3[1]-1],n_[O3[2]-1],n_[O3[3]-1]]\n",
    "# n3=[n_[O3[0]-1],n_[O3[1]-1],n_[O3[2]-1],n_[O3[3]-1]]\n",
    "# n4=[n_[O4[0]-1],n_[O4[1]-1],n_[O4[2]-1],n_[O4[3]-1]]\n",
    "# n5=[n_[O5[0]-1],n_[O5[1]-1],n_[O5[2]-1],n_[O5[3]-1]]\n",
    "\n",
    "S,H,P,T,n1,n2,O1,O2"
   ]
  },
  {
   "cell_type": "code",
   "execution_count": 27,
   "metadata": {},
   "outputs": [],
   "source": [
    "m=Model(\"IP3\")"
   ]
  },
  {
   "cell_type": "code",
   "execution_count": 28,
   "metadata": {},
   "outputs": [],
   "source": [
    "x,y,pre,penalty,minus={},{},{},{},{}\n",
    "for s in S:\n",
    "  for h in H:\n",
    "    for p in P:\n",
    "      for t in T:\n",
    "        x[s,h,p,t]=m.addVar(vtype=\"B\")\n",
    "\n",
    "\n",
    "for s in S:\n",
    "  for k in S:\n",
    "    if s!=k:\n",
    "      for t in T:\n",
    "        if t!=len(T):\n",
    "          y[s,k,t]=m.addVar(vtype=\"B\")\n",
    "\n",
    "\n",
    "for s in S:\n",
    "  for h in range(1,len(H)):\n",
    "    for i,o in enumerate(O):\n",
    "      penalty[s,h,i]=m.addVar(vtype=\"c\",lb=0)\n"
   ]
  },
  {
   "cell_type": "code",
   "execution_count": 29,
   "metadata": {},
   "outputs": [],
   "source": [
    "for p in P:\n",
    "   for t in T:\n",
    "      m.addConstr(quicksum(x[s,h,p,t] for s in S for h in H)==n1[p-1])\n",
    "      # m.addConstr(quicksum(x[s,h,p,t] for s in S for h in H)==n2[p-1])\n",
    "      # m.addConstr(quicksum(x[s,h,p,t] for s in S for h in H)==n3[p-1])\n",
    "      # m.addConstr(quicksum(x[s,h,p,t] for s in S for h in H)==n4[p-1])\n",
    "      # m.addConstr(quicksum(x[s,h,p,t] for s in S for h in H)==n5[p-1])\n",
    "\n",
    "for t in range(1,len(T)):\n",
    "   m.addConstr(quicksum(y[s,k,t] for s in S for k in S if k!=s)<=1)"
   ]
  },
  {
   "cell_type": "code",
   "execution_count": 30,
   "metadata": {},
   "outputs": [],
   "source": [
    "for t in range(1,len(T)-1):\n",
    "  m.addConstr(quicksum(y[s,k,t+1] for s in S for k in S if s!=k)<=quicksum(y[s,k,t] for s in S for k in S if k!=s))\n",
    "\n",
    "for s in S:\n",
    "  for t in range(2,len(T)+1):\n",
    "    m.addConstr(quicksum(x[s,1,p,t] for p in P)<=1)\n",
    "\n",
    "for s in S:\n",
    "  for h in range(1,len(H)):\n",
    "    for t in range(2,len(T)+1):\n",
    "      m.addConstr(quicksum(x[s,h+1,p,t] for p in P)<=quicksum(x[s,h,p,t] for p in P))\n",
    "\n",
    "for s in S:\n",
    "  for h in range(1,len(H)):\n",
    "    for p in P:\n",
    "      for t in range(1,len(T)):\n",
    "        m.addConstr(x[s,h,p,t]+quicksum(x[s,h+1,k,t] for k in P)<=1+x[s,h,p,t+1])"
   ]
  },
  {
   "cell_type": "code",
   "execution_count": 31,
   "metadata": {},
   "outputs": [],
   "source": [
    "for s in S:\n",
    "  for h in H:\n",
    "    for p in P:\n",
    "      for t in range(1,len(T)):\n",
    "        m.addConstr(x[s,h,p,t]<=x[s,h,p,t+1]+quicksum(y[s,k,t] for k in S if k!=s))\n",
    "        m.addConstr(x[s,h,p,t+1]<=x[s,h,p,t]+quicksum(y[k,s,t] for k in S if k!=s))\n",
    "\n",
    "# for s in S:\n",
    "#   for h in range(1,len(H)):\n",
    "#     for p in P:\n",
    "#       m.addConstr(quicksum(x[s,h+1,k,len(T)] for k in range(p,len(P)+1))<=quicksum(x[s,h,k,len(T)] for k in range(p,len(P)+1)))\n",
    "\n",
    "for k in S:\n",
    "   for t in range(1,len(T)-1):\n",
    "    m.addConstr(quicksum(y[s,k,t] for s in S if s!=k)+quicksum(y[k,s,t+1] for s in S if s!=k)<=1)"
   ]
  },
  {
   "cell_type": "code",
   "execution_count": 32,
   "metadata": {},
   "outputs": [],
   "source": [
    "# 同じ場所でpenaltyが加算される場合がある。\n",
    "for s in S:\n",
    "  for h in range(1,len(H)):\n",
    "\n",
    "    for i,o in enumerate(O):\n",
    "      # m.addConstr(minus[s,h,i]<=quicksum(penalty[s,h,p,i] for p in P))\n",
    "      for j,p in enumerate(o):\n",
    "        m.addConstr(penalty[s,h,i]>=quicksum(x[s,h+1,k,len(T)] for k in o[j:])-quicksum(x[s,h,k,len(T)] for k in o[j:]))\n",
    "\n"
   ]
  },
  {
   "cell_type": "code",
   "execution_count": 33,
   "metadata": {},
   "outputs": [
    {
     "name": "stdout",
     "output_type": "stream",
     "text": [
      "0 [1, 2, 3, 4]\n",
      "1 [3, 1, 2, 4]\n",
      "2 [3, 4, 1, 2]\n",
      "0 3\n",
      "1 4\n",
      "2 1\n",
      "3 2\n",
      "3 [1, 2, 4, 3]\n",
      "4 [2, 3, 1, 4]\n"
     ]
    }
   ],
   "source": [
    "for i,o in enumerate(O):\n",
    "  print(i,o)\n",
    "  for j,p in enumerate(o):\n",
    "    if i==2:\n",
    "      print(j,p)"
   ]
  },
  {
   "cell_type": "code",
   "execution_count": 34,
   "metadata": {},
   "outputs": [
    {
     "data": {
      "text/plain": [
       "<gurobi.Constr *Awaiting Model Update*>"
      ]
     },
     "execution_count": 34,
     "metadata": {},
     "output_type": "execute_result"
    }
   ],
   "source": [
    "m.addConstr(quicksum(y[s,k,t] for s in S for k in S if k!=s for t in range(1,len(T)))<=3)"
   ]
  },
  {
   "cell_type": "code",
   "execution_count": 35,
   "metadata": {},
   "outputs": [],
   "source": [
    "# for i,p in enumerate(O2):\n",
    "#   print(O2[i:])"
   ]
  },
  {
   "cell_type": "code",
   "execution_count": 36,
   "metadata": {},
   "outputs": [
    {
     "data": {
      "text/plain": [
       "<gurobi.Constr *Awaiting Model Update*>"
      ]
     },
     "execution_count": 36,
     "metadata": {},
     "output_type": "execute_result"
    }
   ],
   "source": [
    "m.addConstr(x[1,1,O1[3],1]==1)\n",
    "m.addConstr(x[1,2,O1[3],1]==1)\n",
    "m.addConstr(x[1,3,O1[2],1]==1)\n",
    "m.addConstr(x[2,1,O1[3],1]==1)\n",
    "m.addConstr(x[2,2,O1[2],1]==1)\n",
    "m.addConstr(x[2,3,O1[1],1]==1)\n",
    "m.addConstr(x[3,1,O1[2],1]==1)\n",
    "m.addConstr(x[3,2,O1[2],1]==1)\n",
    "m.addConstr(x[4,1,O1[1],1]==1)\n",
    "m.addConstr(x[4,2,O1[0],1]==1)\n",
    "\n",
    "# m.addConstr(x[1,1,O[0],1]==1)\n",
    "# m.addConstr(x[1,2,O[1],1]==1)\n",
    "# m.addConstr(x[2,1,O[1],1]==1)"
   ]
  },
  {
   "cell_type": "code",
   "execution_count": 37,
   "metadata": {},
   "outputs": [],
   "source": [
    "m.setObjective(quicksum(penalty[s,h,i] for s in S for h in H if h!=len(H) for i in range(len(O))))"
   ]
  },
  {
   "cell_type": "code",
   "execution_count": 38,
   "metadata": {},
   "outputs": [
    {
     "name": "stdout",
     "output_type": "stream",
     "text": [
      "Gurobi Optimizer version 9.5.1 build v9.5.1rc2 (win64)\n",
      "Thread count: 4 physical cores, 8 logical processors, using up to 8 threads\n",
      "Optimize a model with 1260 rows, 504 columns and 7346 nonzeros\n",
      "Model fingerprint: 0x7b145999\n",
      "Variable types: 60 continuous, 444 integer (444 binary)\n",
      "Coefficient statistics:\n",
      "  Matrix range     [1e+00, 1e+00]\n",
      "  Objective range  [1e+00, 1e+00]\n",
      "  Bounds range     [1e+00, 1e+00]\n",
      "  RHS range        [1e+00, 4e+00]\n",
      "Presolve removed 435 rows and 145 columns\n",
      "Presolve time: 0.11s\n",
      "Presolved: 825 rows, 359 columns, 4559 nonzeros\n",
      "Variable types: 0 continuous, 359 integer (299 binary)\n",
      "\n",
      "Root relaxation: objective 0.000000e+00, 501 iterations, 0.06 seconds (0.02 work units)\n",
      "\n",
      "    Nodes    |    Current Node    |     Objective Bounds      |     Work\n",
      " Expl Unexpl |  Obj  Depth IntInf | Incumbent    BestBd   Gap | It/Node Time\n",
      "\n",
      "     0     0    0.00000    0   66          -    0.00000      -     -    0s\n",
      "H    0     0                       5.0000000    0.00000   100%     -    0s\n",
      "H    0     0                       4.0000000    0.00000   100%     -    0s\n",
      "     0     0    0.00000    0  127    4.00000    0.00000   100%     -    0s\n",
      "H    0     0                       3.0000000    0.00000   100%     -    0s\n",
      "     0     0    0.00000    0  163    3.00000    0.00000   100%     -    0s\n",
      "     0     0    0.03378    0  184    3.00000    0.03378  98.9%     -    0s\n",
      "     0     0    0.27647    0  180    3.00000    0.27647  90.8%     -    1s\n",
      "     0     0    0.27647    0  184    3.00000    0.27647  90.8%     -    1s\n",
      "     0     0    0.66667    0  121    3.00000    0.66667  77.8%     -    1s\n",
      "     0     0    0.66667    0  105    3.00000    0.66667  77.8%     -    1s\n",
      "     0     0    1.11765    0   95    3.00000    1.11765  62.7%     -    1s\n",
      "     0     0    1.27378    0  116    3.00000    1.27378  57.5%     -    1s\n",
      "     0     0    1.30712    0  131    3.00000    1.30712  56.4%     -    1s\n",
      "     0     0    1.31250    0  143    3.00000    1.31250  56.3%     -    1s\n",
      "     0     0    1.31671    0  143    3.00000    1.31671  56.1%     -    1s\n",
      "     0     0    1.34221    0  139    3.00000    1.34221  55.3%     -    1s\n",
      "*    0     0               0       2.0000000    2.00000  0.00%     -    1s\n",
      "\n",
      "Explored 1 nodes (6124 simplex iterations) in 1.61 seconds (0.45 work units)\n",
      "Thread count was 8 (of 8 available processors)\n",
      "\n",
      "Solution count 5: 2 3 3 ... 5\n",
      "\n",
      "Optimal solution found (tolerance 1.00e-04)\n",
      "Best objective 2.000000000000e+00, best bound 2.000000000000e+00, gap 0.0000%\n",
      "2\n"
     ]
    }
   ],
   "source": [
    "m.optimize()\n",
    "print(m.Status)"
   ]
  },
  {
   "cell_type": "code",
   "execution_count": 39,
   "metadata": {},
   "outputs": [
    {
     "name": "stdout",
     "output_type": "stream",
     "text": [
      "x[ 1, 1, 4, 1]=1.0\n",
      "x[ 1, 2, 4, 1]=1.0\n",
      "x[ 1, 3, 1, 3]=1.0\n",
      "x[ 1, 3, 3, 1]=1.0\n",
      "x[ 2, 1, 4, 1]=1.0\n",
      "x[ 2, 2, 3, 1]=1.0\n",
      "x[ 2, 3, 2, 1]=1.0\n",
      "x[ 3, 1, 3, 1]=1.0\n",
      "x[ 3, 2, 3, 1]=1.0\n",
      "x[ 3, 3, 3, 2]=1.0\n",
      "x[ 4, 1, 2, 1]=1.0\n",
      "x[ 4, 2, 1, 1]=1.0\n",
      "x[ 4, 2, 2, 4]=1.0\n",
      "y[ 1, 3, 1]=1.0\n",
      "y[ 2, 4, 3]=1.0\n",
      "y[ 4, 1, 2]=1.0\n",
      "penalty[ 1, 2, 2]=1.0\n",
      "penalty[ 2, 1, 3]=1.0\n",
      "the objective function 2.0\n"
     ]
    }
   ],
   "source": [
    "EPS=1.e-6\n",
    "\n",
    "if m.Status == GRB.OPTIMAL:\n",
    "  for (s,h,p,t) in x:\n",
    "    if t==1:\n",
    "      if x[s,h,p,t].X>EPS:\n",
    "        print(\"x[%2s,%2s,%2s,%2s]=%3s\" %(s,h,p,t,x[s,h,p,t].X))\n",
    "\n",
    "    if t>=2:\n",
    "      if (x[s,h,p,t].X-x[s,h,p,t-1].X)>EPS:\n",
    "        print(\"x[%2s,%2s,%2s,%2s]=%3s\" %(s,h,p,t,x[s,h,p,t].X))\n",
    "\n",
    "    # if t==len(T):\n",
    "    #   if x[s,h,p,t].X>EPS:\n",
    "    #     print(\"x[%2s,%2s,%2s,%2s]=%3s\" %(s,h,p,t,x[s,h,p,t].X))\n",
    "\n",
    "  for (s,k,t) in y:\n",
    "    if y[s,k,t].X>EPS:\n",
    "      print(\"y[%2s,%2s,%2s]=%3s\" %(s,k,t,y[s,k,t].X))\n",
    "\n",
    "  for (s,h,i) in penalty:\n",
    "    if penalty[s,h,i].X>EPS:\n",
    "      print(\"penalty[%2s,%2s,%2s]=%3s\" %(s,h,i,penalty[s,h,i].X))\n",
    "  print(\"the objective function\", m.objVal)"
   ]
  },
  {
   "cell_type": "code",
   "execution_count": 22,
   "metadata": {},
   "outputs": [
    {
     "data": {
      "text/plain": [
       "[[1, 2, 3, 4], [3, 1, 2, 4], [3, 4, 1, 2], [1, 2, 4, 3], [2, 3, 1, 4]]"
      ]
     },
     "execution_count": 22,
     "metadata": {},
     "output_type": "execute_result"
    }
   ],
   "source": [
    "O"
   ]
  },
  {
   "cell_type": "code",
   "execution_count": 40,
   "metadata": {},
   "outputs": [
    {
     "name": "stdout",
     "output_type": "stream",
     "text": [
      "x[ 1, 1, 4, 6]=1.0\n",
      "x[ 1, 2, 4, 6]=1.0\n",
      "x[ 1, 3, 1, 6]=1.0\n",
      "x[ 2, 1, 4, 6]=1.0\n",
      "x[ 2, 2, 3, 6]=1.0\n",
      "x[ 3, 1, 3, 6]=1.0\n",
      "x[ 3, 2, 3, 6]=1.0\n",
      "x[ 3, 3, 3, 6]=1.0\n",
      "x[ 4, 1, 2, 6]=1.0\n",
      "x[ 4, 2, 2, 6]=1.0\n"
     ]
    }
   ],
   "source": [
    "EPS=1.e-6\n",
    "\n",
    "if m.Status == GRB.OPTIMAL:\n",
    "  for (s,h,p,t) in x:\n",
    "\n",
    "    if t==len(T):\n",
    "        if x[s,h,p,t].X>EPS:\n",
    "            print(\"x[%2s,%2s,%2s,%2s]=%3s\" %(s,h,p,t,x[s,h,p,t].X))\n"
   ]
  },
  {
   "cell_type": "code",
   "execution_count": 163,
   "metadata": {},
   "outputs": [
    {
     "name": "stdout",
     "output_type": "stream",
     "text": [
      "0\n",
      "1\n",
      "2\n",
      "3\n"
     ]
    }
   ],
   "source": [
    "for i in range(len(O)):\n",
    "  print(i)"
   ]
  },
  {
   "cell_type": "code",
   "execution_count": null,
   "metadata": {},
   "outputs": [],
   "source": []
  }
 ],
 "metadata": {
  "kernelspec": {
   "display_name": "Python 3.9.13 64-bit (windows store)",
   "language": "python",
   "name": "python3"
  },
  "language_info": {
   "codemirror_mode": {
    "name": "ipython",
    "version": 3
   },
   "file_extension": ".py",
   "mimetype": "text/x-python",
   "name": "python",
   "nbconvert_exporter": "python",
   "pygments_lexer": "ipython3",
   "version": "3.9.13"
  },
  "orig_nbformat": 4,
  "vscode": {
   "interpreter": {
    "hash": "0bc652a6662848c169ddaad7e75fc7966486f1f662e7670e7ffb2b305ef6abae"
   }
  }
 },
 "nbformat": 4,
 "nbformat_minor": 2
}
