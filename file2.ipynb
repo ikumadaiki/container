{
 "cells": [
  {
   "cell_type": "code",
   "execution_count": 1,
   "metadata": {},
   "outputs": [
    {
     "name": "stdout",
     "output_type": "stream",
     "text": [
      "Collecting gurobipy\n",
      "  Downloading gurobipy-9.5.2-cp38-cp38-win_amd64.whl (8.9 MB)\n",
      "Installing collected packages: gurobipy\n",
      "Successfully installed gurobipy-9.5.2\n"
     ]
    }
   ],
   "source": [
    "!pip install gurobipy"
   ]
  },
  {
   "cell_type": "code",
   "execution_count": 2,
   "metadata": {},
   "outputs": [],
   "source": [
    "from gurobipy import *"
   ]
  },
  {
   "cell_type": "markdown",
   "metadata": {},
   "source": [
    "## 問題例2"
   ]
  },
  {
   "cell_type": "code",
   "execution_count": 3,
   "metadata": {},
   "outputs": [],
   "source": [
    "S=[i for i in range(1,5)]\n",
    "H=[i for i in range(1,4)]\n",
    "P=[i for i in range(1,9)]\n",
    "T=[i for i in range(1,5)]\n",
    "n=[1 for i in range(1,9)]\n"
   ]
  },
  {
   "cell_type": "code",
   "execution_count": 4,
   "metadata": {},
   "outputs": [
    {
     "name": "stdout",
     "output_type": "stream",
     "text": [
      "Restricted license - for non-production use only - expires 2023-10-25\n"
     ]
    }
   ],
   "source": [
    "m=Model(\"IP3\")"
   ]
  },
  {
   "cell_type": "code",
   "execution_count": 6,
   "metadata": {},
   "outputs": [],
   "source": [
    "x,y={},{}\n",
    "for s in S:\n",
    "  for h in H:\n",
    "    for p in P:\n",
    "      for t in T:\n",
    "        x[s,h,p,t]=m.addVar(vtype=\"B\")\n",
    "\n",
    "for s in S:\n",
    "  for k in S:\n",
    "    if s!=k:\n",
    "      for t in T:\n",
    "        if t!=len(T):\n",
    "          y[s,k,t]=m.addVar(vtype=\"C\",lb=0)\n",
    "\n"
   ]
  },
  {
   "cell_type": "code",
   "execution_count": 7,
   "metadata": {},
   "outputs": [],
   "source": [
    "for p in P:\n",
    "   for t in T:\n",
    "      m.addConstr(quicksum(x[s,h,p,t] for s in S for h in H)==n[p-1])\n",
    "\n",
    "for t in range(1,len(T)):\n",
    "   m.addConstr(quicksum(y[s,k,t] for s in S for k in S if k!=s)<=1)"
   ]
  },
  {
   "cell_type": "code",
   "execution_count": 8,
   "metadata": {},
   "outputs": [],
   "source": [
    "for t in range(1,len(T)-1):\n",
    "  m.addConstr(quicksum(y[s,k,t+1] for s in S for k in S if s!=k)<=quicksum(y[s,k,t] for s in S for k in S if k!=s))\n",
    "\n",
    "for s in S:\n",
    "  for t in range(2,len(T)+1):\n",
    "    m.addConstr(quicksum(x[s,1,p,t] for p in P)<=1)\n",
    "\n",
    "for s in S:\n",
    "  for h in range(1,len(H)):\n",
    "    for t in range(2,len(T)):\n",
    "      m.addConstr(quicksum(x[s,h+1,p,t] for p in P)<=quicksum(x[s,h,p,t] for p in P))\n",
    "\n",
    "for s in S:\n",
    "  for h in range(1,len(H)):\n",
    "    for p in P:\n",
    "      for t in range(1,len(T)):\n",
    "        m.addConstr(x[s,h,p,t]+quicksum(x[s,h+1,k,t] for k in P)<=1+x[s,h,p,t+1])"
   ]
  },
  {
   "cell_type": "code",
   "execution_count": 9,
   "metadata": {},
   "outputs": [],
   "source": [
    "for s in S:\n",
    "  for h in H:\n",
    "    for p in P:\n",
    "      for t in range(1,len(T)):\n",
    "        m.addConstr(x[s,h,p,t]<=x[s,h,p,t+1]+quicksum(y[s,k,t] for k in S if k!=s))\n",
    "        m.addConstr(x[s,h,p,t+1]<=x[s,h,p,t]+quicksum(y[k,s,t] for k in S if k!=s))\n",
    "\n",
    "for s in S:\n",
    "  for h in range(1,len(H)):\n",
    "    for p in P:\n",
    "      m.addConstr(quicksum(x[s,h+1,k,len(T)] for k in range(p,len(P)+1))<=quicksum(x[s,h,k,len(T)] for k in range(p,len(P)+1)))\n",
    "\n",
    "for k in S:\n",
    "   for t in range(1,len(T)-1):\n",
    "    m.addConstr(quicksum(y[s,k,t] for s in S if s!=k)+quicksum(y[s,k,t+1] for s in S if s!=k)<=1)"
   ]
  },
  {
   "cell_type": "code",
   "execution_count": 10,
   "metadata": {},
   "outputs": [
    {
     "data": {
      "text/plain": [
       "<gurobi.Constr *Awaiting Model Update*>"
      ]
     },
     "execution_count": 10,
     "metadata": {},
     "output_type": "execute_result"
    }
   ],
   "source": [
    "m.addConstr(x[1,1,6,1]==1)\n",
    "m.addConstr(x[1,2,5,1]==1)\n",
    "m.addConstr(x[2,1,1,1]==1)\n",
    "m.addConstr(x[2,2,7,1]==1)\n",
    "m.addConstr(x[3,1,3,1]==1)\n",
    "m.addConstr(x[3,2,4,1]==1)\n",
    "m.addConstr(x[3,3,2,1]==1)\n",
    "m.addConstr(x[4,1,8,1]==1)\n"
   ]
  },
  {
   "cell_type": "code",
   "execution_count": 23,
   "metadata": {},
   "outputs": [
    {
     "name": "stdout",
     "output_type": "stream",
     "text": [
      "Gurobi Optimizer version 9.5.1 build v9.5.1rc2 (win64)\n",
      "Thread count: 4 physical cores, 8 logical processors, using up to 8 threads\n",
      "Optimize a model with 913 rows, 420 columns and 6252 nonzeros\n",
      "Model fingerprint: 0x04511dba\n",
      "Variable types: 36 continuous, 384 integer (384 binary)\n",
      "Coefficient statistics:\n",
      "  Matrix range     [1e+00, 1e+00]\n",
      "  Objective range  [1e+00, 1e+00]\n",
      "  Bounds range     [1e+00, 1e+00]\n",
      "  RHS range        [1e+00, 1e+00]\n",
      "\n",
      "MIP start from previous solve produced solution with objective 3 (0.02s)\n",
      "Loaded MIP start from previous solve with objective 3\n",
      "\n",
      "Presolve removed 432 rows and 191 columns\n",
      "Presolve time: 0.05s\n",
      "Presolved: 481 rows, 229 columns, 3104 nonzeros\n",
      "Variable types: 36 continuous, 193 integer (193 binary)\n",
      "\n",
      "Root relaxation: objective 2.142857e+00, 216 iterations, 0.01 seconds (0.00 work units)\n",
      "\n",
      "    Nodes    |    Current Node    |     Objective Bounds      |     Work\n",
      " Expl Unexpl |  Obj  Depth IntInf | Incumbent    BestBd   Gap | It/Node Time\n",
      "\n",
      "     0     0    2.14286    0   22    3.00000    2.14286  28.6%     -    0s\n",
      "\n",
      "Cutting planes:\n",
      "  Gomory: 1\n",
      "  Flow cover: 2\n",
      "  RLT: 3\n",
      "\n",
      "Explored 1 nodes (379 simplex iterations) in 0.16 seconds (0.03 work units)\n",
      "Thread count was 8 (of 8 available processors)\n",
      "\n",
      "Solution count 1: 3 \n",
      "\n",
      "Optimal solution found (tolerance 1.00e-04)\n",
      "Best objective 3.000000000000e+00, best bound 3.000000000000e+00, gap 0.0000%\n"
     ]
    }
   ],
   "source": [
    "m.setObjective(quicksum(y[s,k,t] for s in S for k in S if k!=s for t in range(1,len(T))))\n",
    "m.optimize()"
   ]
  },
  {
   "cell_type": "code",
   "execution_count": 25,
   "metadata": {},
   "outputs": [
    {
     "name": "stdout",
     "output_type": "stream",
     "text": [
      "x[ 1, 1, 6, 1]=1.0\n",
      "x[ 1, 2, 5, 1]=1.0\n",
      "x[ 1, 3, 2, 3]=1.0\n",
      "x[ 2, 1, 1, 1]=1.0\n",
      "x[ 2, 2, 7, 1]=1.0\n",
      "x[ 3, 1, 3, 1]=1.0\n",
      "x[ 3, 2, 4, 1]=1.0\n",
      "x[ 3, 3, 2, 1]=1.0\n",
      "x[ 4, 1, 8, 1]=1.0\n",
      "x[ 4, 2, 7, 2]=1.0\n",
      "x[ 4, 3, 4, 4]=1.0\n",
      "y[ 2, 4, 1]=1.0\n",
      "y[ 3, 1, 2]=1.0\n",
      "y[ 3, 4, 3]=1.0\n",
      "the number of moves 3.0\n"
     ]
    }
   ],
   "source": [
    "EPS=1.e-6\n",
    "\n",
    "for (s,h,p,t) in x:\n",
    "  if t==1:\n",
    "    if x[s,h,p,t].X>EPS:\n",
    "      print(\"x[%2s,%2s,%2s,%2s]=%3s\" %(s,h,p,t,x[s,h,p,t].X))\n",
    "\n",
    "  if t>=2:\n",
    "    if (x[s,h,p,t].X-x[s,h,p,t-1].X)>EPS:\n",
    "      print(\"x[%2s,%2s,%2s,%2s]=%3s\" %(s,h,p,t,x[s,h,p,t].X))\n",
    "\n",
    "for (s,k,t) in y:\n",
    "  if y[s,k,t].X>EPS:\n",
    "    print(\"y[%2s,%2s,%2s]=%3s\" %(s,k,t,y[s,k,t].X))\n",
    "print(\"the number of moves\", m.objVal)"
   ]
  },
  {
   "cell_type": "code",
   "execution_count": null,
   "metadata": {},
   "outputs": [],
   "source": []
  }
 ],
 "metadata": {
  "kernelspec": {
   "display_name": "Python 3.8.3",
   "language": "python",
   "name": "python3"
  },
  "language_info": {
   "codemirror_mode": {
    "name": "ipython",
    "version": 3
   },
   "file_extension": ".py",
   "mimetype": "text/x-python",
   "name": "python",
   "nbconvert_exporter": "python",
   "pygments_lexer": "ipython3",
   "version": "3.8.3"
  },
  "orig_nbformat": 4,
  "vscode": {
   "interpreter": {
    "hash": "339b61edfe2862de78527346fab7b54ea336c8710f2c1713032939182b3058a7"
   }
  }
 },
 "nbformat": 4,
 "nbformat_minor": 2
}
