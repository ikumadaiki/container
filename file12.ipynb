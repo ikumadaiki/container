{
 "cells": [
  {
   "cell_type": "code",
   "execution_count": 1,
   "metadata": {},
   "outputs": [],
   "source": [
    "# !pip install gurobipy"
   ]
  },
  {
   "cell_type": "code",
   "execution_count": 1,
   "metadata": {},
   "outputs": [],
   "source": [
    "from gurobipy import *"
   ]
  },
  {
   "cell_type": "markdown",
   "metadata": {},
   "source": [
    "## 問題例12 CVaRを導入"
   ]
  },
  {
   "cell_type": "code",
   "execution_count": null,
   "metadata": {},
   "outputs": [],
   "source": [
    "# nと初期配置を変更しなければいけない\n",
    "\n",
    "O1=[1,2,3,4]\n",
    "\n",
    "S=[i for i in range(1,5)]\n",
    "H=[i for i in range(1,5)]\n",
    "P=[i for i in range(1,5)]\n",
    "T=[i for i in range(1,7)]\n",
    "n_=[1,2,4,3]\n",
    "n1=[n_[O1[0]-1],n_[O1[1]-1],n_[O1[2]-1],n_[O1[3]-1]]\n",
    "\n",
    "# S,H,P,T,n1,O"
   ]
  },
  {
   "cell_type": "code",
   "execution_count": 5,
   "metadata": {},
   "outputs": [
    {
     "name": "stderr",
     "output_type": "stream",
     "text": [
      "<ipython-input-5-a1167fb43b0b>:15: RuntimeWarning: covariance is not positive-semidefinite.\n",
      "  data_1 = np.random.multivariate_normal(mean, cov, size=size)\n"
     ]
    }
   ],
   "source": [
    "from asyncio.constants import SENDFILE_FALLBACK_READBUFFER_SIZE\n",
    "from random import seed\n",
    "import numpy as np\n",
    "from scipy.stats import multivariate_normal\n",
    "\n",
    "# 期待値と分散共分散行列の準備\n",
    "mean = np.array([1, 3, 5, 7])\n",
    "cov = np.array([[4,1.2,-1.3,0.6],\n",
    "               [1.2,3,1.5,-2.0],\n",
    "               [-1.3,1.5,2,0.9],\n",
    "               [0.6,-2.0,0.9,1.5]])\n",
    "\n",
    "# numpy を用いた生成\n",
    "size=10\n",
    "data_1 = np.random.multivariate_normal(mean, cov, size=size)\n",
    "\n",
    "# print(data_1.shape)\n",
    "\n",
    "# print(np.mean(data_1, axis=0))\n",
    "\n",
    "# print(np.cov(data_1, rowvar=False))\n",
    "\n",
    "# print(data_1)\n",
    "O_=np.argsort(data_1)\n",
    "O_=O_+np.ones((size,4)).astype(int)\n",
    "O=O_.tolist()\n",
    "\n",
    "# data_2 = multivariate_normal(mean, cov).rvs(size=200)\n",
    "\n",
    "# print(data_2.shape)\n",
    "\n",
    "# print(np.mean(data_2, axis=0))\n",
    "\n",
    "# print(np.cov(data_2, rowvar=False))"
   ]
  },
  {
   "cell_type": "code",
   "execution_count": 7,
   "metadata": {},
   "outputs": [
    {
     "data": {
      "text/plain": [
       "{(2, 1, 4, 3): 1,\n",
       " (1, 2, 3, 4): 5,\n",
       " (2, 1, 3, 4): 2,\n",
       " (1, 3, 4, 2): 1,\n",
       " (3, 2, 1, 4): 1}"
      ]
     },
     "execution_count": 7,
     "metadata": {},
     "output_type": "execute_result"
    }
   ],
   "source": [
    "a=[]\n",
    "d={}\n",
    "for i in O:\n",
    "  # print(i)\n",
    "  if not i in a:\n",
    "    a.append(i)\n",
    "for j in a:\n",
    "  d[tuple(j)]=O.count(j)\n",
    "\n",
    "d\n"
   ]
  },
  {
   "cell_type": "code",
   "execution_count": 11,
   "metadata": {},
   "outputs": [],
   "source": [
    "m=Model(\"IP3\")\n",
    "\n",
    "alpha=m.addVar(vtype=\"C\")\n",
    "\n",
    "# 変数の定義\n",
    "x,y,z,w={},{},{},{}\n",
    "for s in S:\n",
    "  for h in H:\n",
    "    for p in P:\n",
    "      for t in T:\n",
    "        x[s,h,p,t]=m.addVar(vtype=\"B\")\n",
    "\n",
    "\n",
    "for s in S:\n",
    "  for k in S:\n",
    "    if s!=k:\n",
    "      for t in T:\n",
    "        if t!=len(T):\n",
    "          y[s,k,t]=m.addVar(vtype=\"B\")\n",
    "\n",
    "\n",
    "for s in S:\n",
    "  for h in range(2,len(H)+1):\n",
    "    for i,o in enumerate(O):\n",
    "      z[s,h,i]=m.addVar(vtype=\"c\",lb=0)\n",
    "\n",
    "for i in range(len(O)):\n",
    "  w[i]=m.addVar(vtype=\"C\",lb=0)\n",
    "\n",
    "# 制約条件\n",
    "for p in P:\n",
    "   for t in T:\n",
    "      m.addConstr(quicksum(x[s,h,p,t] for s in S for h in H)==n1[p-1])\n",
    "\n",
    "for t in range(1,len(T)):\n",
    "   m.addConstr(quicksum(y[s,k,t] for s in S for k in S if k!=s)<=1)\n",
    "\n",
    "for t in range(1,len(T)-1):\n",
    "  m.addConstr(quicksum(y[s,k,t+1] for s in S for k in S if s!=k)<=quicksum(y[s,k,t] for s in S for k in S if k!=s))\n",
    "\n",
    "for s in S:\n",
    "  for t in range(2,len(T)+1):\n",
    "    m.addConstr(quicksum(x[s,1,p,t] for p in P)<=1)\n",
    "\n",
    "for s in S:\n",
    "  for h in range(1,len(H)):\n",
    "    for t in range(2,len(T)+1):\n",
    "      m.addConstr(quicksum(x[s,h+1,p,t] for p in P)<=quicksum(x[s,h,p,t] for p in P))\n",
    "\n",
    "for s in S:\n",
    "  for h in range(1,len(H)):\n",
    "    for p in P:\n",
    "      for t in range(1,len(T)):\n",
    "        m.addConstr(x[s,h,p,t]+quicksum(x[s,h+1,k,t] for k in P)<=1+x[s,h,p,t+1])\n",
    "\n",
    "\n",
    "for s in S:\n",
    "  for h in H:\n",
    "    for p in P:\n",
    "      for t in range(1,len(T)):\n",
    "        m.addConstr(x[s,h,p,t]<=x[s,h,p,t+1]+quicksum(y[s,k,t] for k in S if k!=s))\n",
    "        m.addConstr(x[s,h,p,t+1]<=x[s,h,p,t]+quicksum(y[k,s,t] for k in S if k!=s))\n",
    "\n",
    "for k in S:\n",
    "   for t in range(1,len(T)-1):\n",
    "    m.addConstr(quicksum(y[s,k,t] for s in S if s!=k)+quicksum(y[k,s,t+1] for s in S if s!=k)<=1)\n",
    "\n",
    "for s in S:\n",
    "  for h in range(2,len(H)+1):\n",
    "    for i,o in enumerate(O):\n",
    "      for j,p in enumerate(o):\n",
    "        m.addConstr(z[s,h,i]>=quicksum(x[s,h,k,len(T)] for k in o[j:])-quicksum(x[s,h-1,k,len(T)] for k in o[j:]))\n",
    "\n",
    "for s in S:\n",
    "  for h in range(2,len(H)):\n",
    "    for i in range(len(O)):\n",
    "      m.addConstr(z[s,h,i]<=z[s,h+1,i])\n",
    "\n",
    "for i in range(len(O)):\n",
    "  m.addConstr(w[i]>=quicksum(z[s,h,i] for s in S for h in H if h!=1)-alpha)"
   ]
  },
  {
   "cell_type": "code",
   "execution_count": 12,
   "metadata": {},
   "outputs": [
    {
     "data": {
      "text/plain": [
       "<gurobi.Constr *Awaiting Model Update*>"
      ]
     },
     "execution_count": 12,
     "metadata": {},
     "output_type": "execute_result"
    }
   ],
   "source": [
    "# 初期配置の制約\n",
    "\n",
    "m.addConstr(x[1,1,O1[3],1]==1)\n",
    "m.addConstr(x[1,2,O1[3],1]==1)\n",
    "m.addConstr(x[1,3,O1[2],1]==1)\n",
    "m.addConstr(x[2,1,O1[3],1]==1)\n",
    "m.addConstr(x[2,2,O1[2],1]==1)\n",
    "m.addConstr(x[2,3,O1[1],1]==1)\n",
    "m.addConstr(x[3,1,O1[2],1]==1)\n",
    "m.addConstr(x[3,2,O1[2],1]==1)\n",
    "m.addConstr(x[4,1,O1[1],1]==1)\n",
    "m.addConstr(x[4,2,O1[0],1]==1)"
   ]
  },
  {
   "cell_type": "code",
   "execution_count": 13,
   "metadata": {},
   "outputs": [],
   "source": [
    "beta=0.8\n",
    "m.setObjective(alpha+10**(-5)*quicksum(y[s,k,t] for s in S for k in S if s!=k for t in range(1,len(T)))+quicksum(w[i] for i in range(len(O)))/((1-beta)*len(O)))"
   ]
  },
  {
   "cell_type": "code",
   "execution_count": 14,
   "metadata": {},
   "outputs": [
    {
     "name": "stdout",
     "output_type": "stream",
     "text": [
      "Gurobi Optimizer version 9.5.2 build v9.5.2rc0 (win64)\n",
      "Thread count: 4 physical cores, 8 logical processors, using up to 8 threads\n",
      "Optimize a model with 1589 rows, 575 columns and 9026 nonzeros\n",
      "Model fingerprint: 0xf247f391\n",
      "Variable types: 131 continuous, 444 integer (444 binary)\n",
      "Coefficient statistics:\n",
      "  Matrix range     [1e+00, 1e+00]\n",
      "  Objective range  [1e-05, 1e+00]\n",
      "  Bounds range     [1e+00, 1e+00]\n",
      "  RHS range        [1e+00, 4e+00]\n",
      "Presolve removed 724 rows and 213 columns\n",
      "Presolve time: 0.09s\n",
      "Presolved: 865 rows, 362 columns, 4620 nonzeros\n",
      "Variable types: 65 continuous, 297 integer (297 binary)\n",
      "Found heuristic solution: objective 4.5000300\n",
      "\n",
      "Root relaxation: objective 1.994048e-05, 755 iterations, 0.09 seconds (0.03 work units)\n",
      "\n",
      "    Nodes    |    Current Node    |     Objective Bounds      |     Work\n",
      " Expl Unexpl |  Obj  Depth IntInf | Incumbent    BestBd   Gap | It/Node Time\n",
      "\n",
      "     0     0    0.00002    0  112    4.50003    0.00002   100%     -    0s\n",
      "H    0     0                       4.0000400    0.00002   100%     -    0s\n",
      "H    0     0                       2.0000500    0.00002   100%     -    0s\n",
      "     0     0    0.00003    0  171    2.00005    0.00003   100%     -    0s\n",
      "H    0     0                       1.5000500    0.00003   100%     -    0s\n",
      "     0     0    0.00003    0  175    1.50005    0.00003   100%     -    0s\n",
      "     0     0    0.00003    0  146    1.50005    0.00003   100%     -    0s\n",
      "     0     0    0.00003    0  165    1.50005    0.00003   100%     -    0s\n",
      "H    0     0                       0.0000500    0.00003  33.8%     -    0s\n",
      "     0     0    0.00003    0  147    0.00005    0.00003  33.8%     -    0s\n",
      "     0     0    0.00003    0  158    0.00005    0.00003  33.8%     -    0s\n",
      "     0     0    0.00003    0  139    0.00005    0.00003  32.6%     -    1s\n",
      "     0     0    0.00003    0  133    0.00005    0.00003  32.6%     -    1s\n",
      "     0     2    0.00003    0  133    0.00005    0.00003  32.6%     -    1s\n",
      "H   11    14                       0.0000400    0.00003  15.4%   133    1s\n",
      "\n",
      "Cutting planes:\n",
      "  Implied bound: 8\n",
      "  MIR: 33\n",
      "  StrongCG: 1\n",
      "  Zero half: 5\n",
      "  RLT: 11\n",
      "  Relax-and-lift: 4\n",
      "\n",
      "Explored 67 nodes (11129 simplex iterations) in 1.70 seconds (0.64 work units)\n",
      "Thread count was 8 (of 8 available processors)\n",
      "\n",
      "Solution count 6: 4e-05 5e-05 1.50005 ... 4.50003\n",
      "\n",
      "Optimal solution found (tolerance 1.00e-04)\n",
      "Best objective 4.000000000000e-05, best bound 4.000000000000e-05, gap 0.0000%\n",
      "2\n"
     ]
    }
   ],
   "source": [
    "m.optimize()\n",
    "print(m.Status)"
   ]
  },
  {
   "cell_type": "code",
   "execution_count": 15,
   "metadata": {},
   "outputs": [
    {
     "name": "stdout",
     "output_type": "stream",
     "text": [
      "x[ 1, 1, 4, 1]=1.0\n",
      "x[ 1, 2, 4, 1]=1.0\n",
      "x[ 1, 3, 1, 3]=1.0\n",
      "x[ 1, 3, 3, 1]=1.0\n",
      "x[ 2, 1, 4, 1]=1.0\n",
      "x[ 2, 2, 3, 1]=1.0\n",
      "x[ 2, 3, 2, 1]=1.0\n",
      "x[ 3, 1, 3, 1]=1.0\n",
      "x[ 3, 2, 3, 1]=1.0\n",
      "x[ 3, 3, 3, 2]=1.0\n",
      "x[ 3, 4, 3, 5]=1.0\n",
      "x[ 4, 1, 2, 1]=1.0\n",
      "x[ 4, 2, 1, 1]=1.0\n",
      "x[ 4, 2, 2, 4]=1.0\n",
      "y[ 1, 3, 1]=1.0\n",
      "y[ 2, 3, 4]=1.0\n",
      "y[ 2, 4, 3]=1.0\n",
      "y[ 4, 1, 2]=1.0\n",
      "the objective function 4e-05\n",
      "VaR= 0.0\n"
     ]
    }
   ],
   "source": [
    "EPS=1.e-6\n",
    "\n",
    "if m.Status == GRB.OPTIMAL:\n",
    "  for (s,h,p,t) in x:\n",
    "    if t==1:\n",
    "      if x[s,h,p,t].X>EPS:\n",
    "        print(\"x[%2s,%2s,%2s,%2s]=%3s\" %(s,h,p,t,x[s,h,p,t].X))\n",
    "\n",
    "    if t>=2:\n",
    "      if (x[s,h,p,t].X-x[s,h,p,t-1].X)>EPS:\n",
    "        print(\"x[%2s,%2s,%2s,%2s]=%3s\" %(s,h,p,t,x[s,h,p,t].X))\n",
    "\n",
    "  for (s,k,t) in y:\n",
    "    if y[s,k,t].X>EPS:\n",
    "      print(\"y[%2s,%2s,%2s]=%3s\" %(s,k,t,y[s,k,t].X))\n",
    "\n",
    "  for (s,h,i) in z:\n",
    "    if z[s,h,i].X>EPS:\n",
    "      print(\"z[%2s,%2s,%2s]=%3s\" %(s,h,i,z[s,h,i].X))\n",
    "  print(\"the objective function\", m.objVal)\n",
    "  print(\"VaR=\",alpha.X)"
   ]
  },
  {
   "cell_type": "code",
   "execution_count": 25,
   "metadata": {},
   "outputs": [
    {
     "data": {
      "text/plain": [
       "[[1, 4, 2, 3],\n",
       " [3, 2, 1, 4],\n",
       " [3, 2, 1, 4],\n",
       " [1, 3, 2, 4],\n",
       " [1, 2, 3, 4],\n",
       " [1, 2, 4, 3],\n",
       " [1, 2, 3, 4],\n",
       " [1, 2, 3, 4],\n",
       " [2, 1, 3, 4],\n",
       " [1, 2, 3, 4]]"
      ]
     },
     "execution_count": 25,
     "metadata": {},
     "output_type": "execute_result"
    }
   ],
   "source": [
    "O"
   ]
  },
  {
   "cell_type": "code",
   "execution_count": null,
   "metadata": {},
   "outputs": [],
   "source": []
  }
 ],
 "metadata": {
  "kernelspec": {
   "display_name": "Python 3.8.3",
   "language": "python",
   "name": "python3"
  },
  "language_info": {
   "codemirror_mode": {
    "name": "ipython",
    "version": 3
   },
   "file_extension": ".py",
   "mimetype": "text/x-python",
   "name": "python",
   "nbconvert_exporter": "python",
   "pygments_lexer": "ipython3",
   "version": "3.8.3"
  },
  "orig_nbformat": 4,
  "vscode": {
   "interpreter": {
    "hash": "339b61edfe2862de78527346fab7b54ea336c8710f2c1713032939182b3058a7"
   }
  }
 },
 "nbformat": 4,
 "nbformat_minor": 2
}
