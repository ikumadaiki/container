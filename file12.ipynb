{
 "cells": [
  {
   "cell_type": "code",
   "execution_count": 1,
   "metadata": {},
   "outputs": [],
   "source": [
    "# !pip install gurobipy"
   ]
  },
  {
   "cell_type": "code",
   "execution_count": 1,
   "metadata": {},
   "outputs": [],
   "source": [
    "from gurobipy import *"
   ]
  },
  {
   "cell_type": "markdown",
   "metadata": {},
   "source": [
    "## 問題例12 CVaRを導入"
   ]
  },
  {
   "cell_type": "code",
   "execution_count": 44,
   "metadata": {},
   "outputs": [
    {
     "name": "stderr",
     "output_type": "stream",
     "text": [
      "<ipython-input-44-df4ba3a8ff79>:15: RuntimeWarning: covariance is not positive-semidefinite.\n",
      "  data_1 = np.random.multivariate_normal(mean, cov, size=size)\n"
     ]
    }
   ],
   "source": [
    "from asyncio.constants import SENDFILE_FALLBACK_READBUFFER_SIZE\n",
    "from random import seed\n",
    "import numpy as np\n",
    "from scipy.stats import multivariate_normal\n",
    "\n",
    "# 期待値と分散共分散行列の準備\n",
    "mean = np.array([1, 2, 3, 4])\n",
    "cov = np.array([[4,1.2,-1.3,0.6],\n",
    "               [1.2,3,1.5,-2.0],\n",
    "               [-1.3,1.5,2,0.9],\n",
    "               [0.6,-2.0,0.9,1.5]])\n",
    "\n",
    "# numpy を用いた生成\n",
    "size=10\n",
    "data_1 = np.random.multivariate_normal(mean, cov, size=size)\n",
    "\n",
    "# print(data_1.shape)\n",
    "\n",
    "# print(np.mean(data_1, axis=0))\n",
    "\n",
    "# print(np.cov(data_1, rowvar=False))\n",
    "\n",
    "# print(data_1)\n",
    "O_=np.argsort(data_1)\n",
    "O_=O_+np.ones((10,4)).astype(int)\n",
    "O=O_.tolist()\n",
    "\n",
    "# data_2 = multivariate_normal(mean, cov).rvs(size=200)\n",
    "\n",
    "# print(data_2.shape)\n",
    "\n",
    "# print(np.mean(data_2, axis=0))\n",
    "\n",
    "# print(np.cov(data_2, rowvar=False))"
   ]
  },
  {
   "cell_type": "code",
   "execution_count": 52,
   "metadata": {},
   "outputs": [
    {
     "data": {
      "text/plain": [
       "[[1, 2, 3, 4],\n",
       " [1, 3, 4, 2],\n",
       " [1, 3, 2, 4],\n",
       " [2, 1, 4, 3],\n",
       " [1, 3, 2, 4],\n",
       " [2, 1, 3, 4],\n",
       " [1, 4, 2, 3],\n",
       " [3, 4, 2, 1],\n",
       " [1, 2, 3, 4],\n",
       " [1, 4, 2, 3]]"
      ]
     },
     "execution_count": 52,
     "metadata": {},
     "output_type": "execute_result"
    }
   ],
   "source": [
    "# nと初期配置を変更しなければいけない\n",
    "\n",
    "O1=[1,2,3,4]\n",
    "\n",
    "S=[i for i in range(1,5)]\n",
    "H=[i for i in range(1,5)]\n",
    "P=[i for i in range(1,5)]\n",
    "T=[i for i in range(1,7)]\n",
    "n_=[1,2,4,3]\n",
    "n1=[n_[O1[0]-1],n_[O1[1]-1],n_[O1[2]-1],n_[O1[3]-1]]\n",
    "\n",
    "# S,H,P,T,n1,O\n",
    "O"
   ]
  },
  {
   "cell_type": "code",
   "execution_count": 46,
   "metadata": {},
   "outputs": [],
   "source": [
    "m=Model(\"IP3\")\n",
    "\n",
    "alpha=m.addVar(vtype=\"C\")\n",
    "\n",
    "# 変数の定義\n",
    "x,y,z={},{},{}\n",
    "for s in S:\n",
    "  for h in H:\n",
    "    for p in P:\n",
    "      for t in T:\n",
    "        x[s,h,p,t]=m.addVar(vtype=\"B\")\n",
    "\n",
    "\n",
    "for s in S:\n",
    "  for k in S:\n",
    "    if s!=k:\n",
    "      for t in T:\n",
    "        if t!=len(T):\n",
    "          y[s,k,t]=m.addVar(vtype=\"B\")\n",
    "\n",
    "\n",
    "for s in S:\n",
    "  for h in range(2,len(H)+1):\n",
    "    for i,o in enumerate(O):\n",
    "      z[s,h,i]=m.addVar(vtype=\"c\",lb=0)\n",
    "\n",
    "# 制約条件\n",
    "for p in P:\n",
    "   for t in T:\n",
    "      m.addConstr(quicksum(x[s,h,p,t] for s in S for h in H)==n1[p-1])\n",
    "\n",
    "for t in range(1,len(T)):\n",
    "   m.addConstr(quicksum(y[s,k,t] for s in S for k in S if k!=s)<=1)\n",
    "\n",
    "for t in range(1,len(T)-1):\n",
    "  m.addConstr(quicksum(y[s,k,t+1] for s in S for k in S if s!=k)<=quicksum(y[s,k,t] for s in S for k in S if k!=s))\n",
    "\n",
    "for s in S:\n",
    "  for t in range(2,len(T)+1):\n",
    "    m.addConstr(quicksum(x[s,1,p,t] for p in P)<=1)\n",
    "\n",
    "for s in S:\n",
    "  for h in range(1,len(H)):\n",
    "    for t in range(2,len(T)+1):\n",
    "      m.addConstr(quicksum(x[s,h+1,p,t] for p in P)<=quicksum(x[s,h,p,t] for p in P))\n",
    "\n",
    "for s in S:\n",
    "  for h in range(1,len(H)):\n",
    "    for p in P:\n",
    "      for t in range(1,len(T)):\n",
    "        m.addConstr(x[s,h,p,t]+quicksum(x[s,h+1,k,t] for k in P)<=1+x[s,h,p,t+1])\n",
    "\n",
    "\n",
    "for s in S:\n",
    "  for h in H:\n",
    "    for p in P:\n",
    "      for t in range(1,len(T)):\n",
    "        m.addConstr(x[s,h,p,t]<=x[s,h,p,t+1]+quicksum(y[s,k,t] for k in S if k!=s))\n",
    "        m.addConstr(x[s,h,p,t+1]<=x[s,h,p,t]+quicksum(y[k,s,t] for k in S if k!=s))\n",
    "\n",
    "for k in S:\n",
    "   for t in range(1,len(T)-1):\n",
    "    m.addConstr(quicksum(y[s,k,t] for s in S if s!=k)+quicksum(y[k,s,t+1] for s in S if s!=k)<=1)\n",
    "\n",
    "for s in S:\n",
    "  for h in range(2,len(H)+1):\n",
    "    for i,o in enumerate(O):\n",
    "      for j,p in enumerate(o):\n",
    "        m.addConstr(z[s,h,i]>=quicksum(x[s,h,k,len(T)] for k in o[j:])-quicksum(x[s,h-1,k,len(T)] for k in o[j:])-alpha)"
   ]
  },
  {
   "cell_type": "code",
   "execution_count": 47,
   "metadata": {},
   "outputs": [
    {
     "data": {
      "text/plain": [
       "<gurobi.Constr *Awaiting Model Update*>"
      ]
     },
     "execution_count": 47,
     "metadata": {},
     "output_type": "execute_result"
    }
   ],
   "source": [
    "# 初期配置の制約\n",
    "\n",
    "m.addConstr(x[1,1,O1[3],1]==1)\n",
    "m.addConstr(x[1,2,O1[3],1]==1)\n",
    "m.addConstr(x[1,3,O1[2],1]==1)\n",
    "m.addConstr(x[2,1,O1[3],1]==1)\n",
    "m.addConstr(x[2,2,O1[2],1]==1)\n",
    "m.addConstr(x[2,3,O1[1],1]==1)\n",
    "m.addConstr(x[3,1,O1[2],1]==1)\n",
    "m.addConstr(x[3,2,O1[2],1]==1)\n",
    "m.addConstr(x[4,1,O1[1],1]==1)\n",
    "m.addConstr(x[4,2,O1[0],1]==1)"
   ]
  },
  {
   "cell_type": "code",
   "execution_count": 48,
   "metadata": {},
   "outputs": [],
   "source": [
    "beta=0.8\n",
    "m.setObjective(alpha+10**(-5)*quicksum(y[s,k,t] for s in S for k in S if s!=k for t in range(1,len(T)))+quicksum(z[s,h,i] for s in S for h in H if h!=1 for i in range(len(O)))/((1-beta)*len(O)))"
   ]
  },
  {
   "cell_type": "code",
   "execution_count": 49,
   "metadata": {},
   "outputs": [
    {
     "name": "stdout",
     "output_type": "stream",
     "text": [
      "Gurobi Optimizer version 9.5.2 build v9.5.2rc0 (win64)\n",
      "Thread count: 4 physical cores, 8 logical processors, using up to 8 threads\n",
      "Optimize a model with 1499 rows, 565 columns and 9206 nonzeros\n",
      "Model fingerprint: 0xa09ea36b\n",
      "Variable types: 121 continuous, 444 integer (444 binary)\n",
      "Coefficient statistics:\n",
      "  Matrix range     [1e+00, 1e+00]\n",
      "  Objective range  [1e-05, 1e+00]\n",
      "  Bounds range     [1e+00, 1e+00]\n",
      "  RHS range        [1e+00, 4e+00]\n",
      "Presolve removed 523 rows and 183 columns\n",
      "Presolve time: 0.09s\n",
      "Presolved: 976 rows, 382 columns, 5911 nonzeros\n",
      "Variable types: 85 continuous, 297 integer (297 binary)\n",
      "Found heuristic solution: objective 1.0000300\n",
      "\n",
      "Root relaxation: objective 2.584810e-05, 685 iterations, 0.07 seconds (0.03 work units)\n",
      "\n",
      "    Nodes    |    Current Node    |     Objective Bounds      |     Work\n",
      " Expl Unexpl |  Obj  Depth IntInf | Incumbent    BestBd   Gap | It/Node Time\n",
      "\n",
      "     0     0    0.00003    0  132    1.00003    0.00003   100%     -    0s\n",
      "H    0     0                       1.0000100    0.00003   100%     -    0s\n",
      "H    0     0                       1.0000000    0.00003   100%     -    0s\n",
      "     0     0    0.00003    0  134    1.00000    0.00003   100%     -    0s\n",
      "     0     0    0.00003    0  129    1.00000    0.00003   100%     -    0s\n",
      "     0     0    0.00003    0  178    1.00000    0.00003   100%     -    0s\n",
      "     0     0    0.00003    0  182    1.00000    0.00003   100%     -    0s\n",
      "     0     0    0.00004    0  140    1.00000    0.00004   100%     -    0s\n",
      "     0     0    0.00004    0  137    1.00000    0.00004   100%     -    0s\n",
      "     0     0    0.00004    0  128    1.00000    0.00004   100%     -    0s\n",
      "     0     0    0.00004    0  117    1.00000    0.00004   100%     -    0s\n",
      "     0     0    0.00004    0  136    1.00000    0.00004   100%     -    0s\n",
      "     0     0    0.00004    0  151    1.00000    0.00004   100%     -    0s\n",
      "     0     0    0.00004    0  151    1.00000    0.00004   100%     -    1s\n",
      "     0     0    0.00004    0  151    1.00000    0.00004   100%     -    1s\n",
      "     0     2    0.00004    0  151    1.00000    0.00004   100%     -    1s\n",
      "H   70    66                       0.5000500    0.00004   100%  84.4    1s\n",
      "*  184    94              13       0.5000400    0.00004   100%  81.6    1s\n",
      "\n",
      "Cutting planes:\n",
      "  Cover: 7\n",
      "  Implied bound: 24\n",
      "  Clique: 7\n",
      "  MIR: 63\n",
      "  Inf proof: 15\n",
      "  Zero half: 15\n",
      "  RLT: 5\n",
      "\n",
      "Explored 2148 nodes (124894 simplex iterations) in 4.95 seconds (2.49 work units)\n",
      "Thread count was 8 (of 8 available processors)\n",
      "\n",
      "Solution count 5: 0.50004 0.50005 1 ... 1.00003\n",
      "\n",
      "Optimal solution found (tolerance 1.00e-04)\n",
      "Best objective 5.000400000000e-01, best bound 5.000237615716e-01, gap 0.0032%\n",
      "2\n"
     ]
    }
   ],
   "source": [
    "m.optimize()\n",
    "print(m.Status)"
   ]
  },
  {
   "cell_type": "code",
   "execution_count": 50,
   "metadata": {},
   "outputs": [
    {
     "name": "stdout",
     "output_type": "stream",
     "text": [
      "x[ 1, 1, 4, 1]=1.0\n",
      "x[ 1, 2, 4, 1]=1.0\n",
      "x[ 1, 3, 1, 3]=1.0\n",
      "x[ 1, 3, 3, 1]=1.0\n",
      "x[ 2, 1, 4, 1]=1.0\n",
      "x[ 2, 2, 3, 1]=1.0\n",
      "x[ 2, 3, 2, 1]=1.0\n",
      "x[ 3, 1, 3, 1]=1.0\n",
      "x[ 3, 2, 3, 1]=1.0\n",
      "x[ 3, 3, 3, 2]=1.0\n",
      "x[ 3, 4, 3, 5]=1.0\n",
      "x[ 4, 1, 2, 1]=1.0\n",
      "x[ 4, 2, 1, 1]=1.0\n",
      "x[ 4, 2, 2, 4]=1.0\n",
      "y[ 1, 3, 1]=1.0\n",
      "y[ 2, 3, 4]=1.0\n",
      "y[ 2, 4, 3]=1.0\n",
      "y[ 4, 1, 2]=1.0\n",
      "z[ 1, 3, 7]=1.0\n",
      "the objective function 0.50004\n",
      "2.7755575615628914e-17\n"
     ]
    }
   ],
   "source": [
    "EPS=1.e-6\n",
    "\n",
    "if m.Status == GRB.OPTIMAL:\n",
    "  for (s,h,p,t) in x:\n",
    "    if t==1:\n",
    "      if x[s,h,p,t].X>EPS:\n",
    "        print(\"x[%2s,%2s,%2s,%2s]=%3s\" %(s,h,p,t,x[s,h,p,t].X))\n",
    "\n",
    "    if t>=2:\n",
    "      if (x[s,h,p,t].X-x[s,h,p,t-1].X)>EPS:\n",
    "        print(\"x[%2s,%2s,%2s,%2s]=%3s\" %(s,h,p,t,x[s,h,p,t].X))\n",
    "\n",
    "  for (s,k,t) in y:\n",
    "    if y[s,k,t].X>EPS:\n",
    "      print(\"y[%2s,%2s,%2s]=%3s\" %(s,k,t,y[s,k,t].X))\n",
    "\n",
    "  for (s,h,i) in z:\n",
    "    if z[s,h,i].X>EPS:\n",
    "      print(\"z[%2s,%2s,%2s]=%3s\" %(s,h,i,z[s,h,i].X))\n",
    "  print(\"the objective function\", m.objVal)\n",
    "  print(alpha.X)"
   ]
  },
  {
   "cell_type": "code",
   "execution_count": 53,
   "metadata": {},
   "outputs": [
    {
     "data": {
      "text/plain": [
       "[3, 4, 2, 1]"
      ]
     },
     "execution_count": 53,
     "metadata": {},
     "output_type": "execute_result"
    }
   ],
   "source": [
    "O[7]"
   ]
  },
  {
   "cell_type": "code",
   "execution_count": 42,
   "metadata": {},
   "outputs": [
    {
     "data": {
      "text/plain": [
       "[[1, 2, 3, 4],\n",
       " [1, 2, 3, 4],\n",
       " [1, 2, 3, 4],\n",
       " [1, 2, 3, 4],\n",
       " [1, 2, 3, 4],\n",
       " [3, 1, 2, 4],\n",
       " [3, 4, 1, 2],\n",
       " [3, 4, 1, 2],\n",
       " [3, 4, 1, 2],\n",
       " [1, 2, 4, 3],\n",
       " [1, 2, 4, 3],\n",
       " [1, 2, 4, 3],\n",
       " [2, 3, 1, 4]]"
      ]
     },
     "execution_count": 42,
     "metadata": {},
     "output_type": "execute_result"
    }
   ],
   "source": [
    "O"
   ]
  },
  {
   "cell_type": "code",
   "execution_count": null,
   "metadata": {},
   "outputs": [],
   "source": []
  }
 ],
 "metadata": {
  "kernelspec": {
   "display_name": "Python 3.8.3",
   "language": "python",
   "name": "python3"
  },
  "language_info": {
   "codemirror_mode": {
    "name": "ipython",
    "version": 3
   },
   "file_extension": ".py",
   "mimetype": "text/x-python",
   "name": "python",
   "nbconvert_exporter": "python",
   "pygments_lexer": "ipython3",
   "version": "3.8.3"
  },
  "orig_nbformat": 4,
  "vscode": {
   "interpreter": {
    "hash": "339b61edfe2862de78527346fab7b54ea336c8710f2c1713032939182b3058a7"
   }
  }
 },
 "nbformat": 4,
 "nbformat_minor": 2
}
