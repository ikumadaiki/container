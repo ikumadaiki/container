{
 "cells": [
  {
   "cell_type": "code",
   "execution_count": 1,
   "metadata": {},
   "outputs": [],
   "source": [
    "# !pip install gurobipy"
   ]
  },
  {
   "cell_type": "code",
   "execution_count": 1,
   "metadata": {},
   "outputs": [],
   "source": [
    "from gurobipy import *"
   ]
  },
  {
   "cell_type": "markdown",
   "metadata": {},
   "source": [
    "## 問題例13-1 CVaR"
   ]
  },
  {
   "cell_type": "code",
   "execution_count": 4,
   "metadata": {},
   "outputs": [
    {
     "data": {
      "text/plain": [
       "([1, 2], [1, 2], [1, 2, 3], [1, 2, 3], [1, 1, 1])"
      ]
     },
     "execution_count": 4,
     "metadata": {},
     "output_type": "execute_result"
    }
   ],
   "source": [
    "# nと初期配置を変更しなければいけない\n",
    "\n",
    "O1=[1,2,3]\n",
    "\n",
    "S=[i for i in range(1,3)]\n",
    "H=[i for i in range(1,3)]\n",
    "P=[i for i in range(1,4)]\n",
    "T=[i for i in range(1,4)]\n",
    "n_=[1,1,1]\n",
    "n1=[n_[O1[0]-1],n_[O1[1]-1],n_[O1[2]-1]]\n",
    "\n",
    "S,H,P,T,n1"
   ]
  },
  {
   "cell_type": "code",
   "execution_count": 5,
   "metadata": {},
   "outputs": [],
   "source": [
    "O=[\n",
    "  [1,2,3],\n",
    "  [1,2,3],\n",
    "  [1,2,3],\n",
    "  [1,2,3],\n",
    "  [1,2,3],\n",
    "  [1,2,3],\n",
    "  [2,1,3],\n",
    "  [2,1,3],\n",
    "  [2,1,3],\n",
    "  [3,1,2]\n",
    "]"
   ]
  },
  {
   "cell_type": "code",
   "execution_count": 7,
   "metadata": {},
   "outputs": [],
   "source": [
    "m=Model(\"IP3\")\n",
    "\n",
    "alpha=m.addVar(vtype=\"C\")\n",
    "\n",
    "# 変数の定義\n",
    "x,y,z,w={},{},{},{}\n",
    "for s in S:\n",
    "  for h in H:\n",
    "    for p in P:\n",
    "      for t in T:\n",
    "        x[s,h,p,t]=m.addVar(vtype=\"B\")\n",
    "\n",
    "\n",
    "for s in S:\n",
    "  for k in S:\n",
    "    if s!=k:\n",
    "      for t in T:\n",
    "        if t!=len(T):\n",
    "          y[s,k,t]=m.addVar(vtype=\"B\")\n",
    "\n",
    "\n",
    "for s in S:\n",
    "  for h in range(2,len(H)+1):\n",
    "    for i,o in enumerate(O):\n",
    "      z[s,h,i]=m.addVar(vtype=\"c\",lb=0)\n",
    "\n",
    "for i in range(len(O)):\n",
    "  w[i]=m.addVar(vtype=\"C\",lb=0)\n",
    "\n",
    "# 制約条件\n",
    "for p in P:\n",
    "   for t in T:\n",
    "      m.addConstr(quicksum(x[s,h,p,t] for s in S for h in H)==n1[p-1])\n",
    "\n",
    "for t in range(1,len(T)):\n",
    "   m.addConstr(quicksum(y[s,k,t] for s in S for k in S if k!=s)<=1)\n",
    "\n",
    "for t in range(1,len(T)-1):\n",
    "  m.addConstr(quicksum(y[s,k,t+1] for s in S for k in S if s!=k)<=quicksum(y[s,k,t] for s in S for k in S if k!=s))\n",
    "\n",
    "for s in S:\n",
    "  for t in range(2,len(T)+1):\n",
    "    m.addConstr(quicksum(x[s,1,p,t] for p in P)<=1)\n",
    "\n",
    "for s in S:\n",
    "  for h in range(1,len(H)):\n",
    "    for t in range(2,len(T)+1):\n",
    "      m.addConstr(quicksum(x[s,h+1,p,t] for p in P)<=quicksum(x[s,h,p,t] for p in P))\n",
    "\n",
    "for s in S:\n",
    "  for h in range(1,len(H)):\n",
    "    for p in P:\n",
    "      for t in range(1,len(T)):\n",
    "        m.addConstr(x[s,h,p,t]+quicksum(x[s,h+1,k,t] for k in P)<=1+x[s,h,p,t+1])\n",
    "\n",
    "\n",
    "for s in S:\n",
    "  for h in H:\n",
    "    for p in P:\n",
    "      for t in range(1,len(T)):\n",
    "        m.addConstr(x[s,h,p,t]<=x[s,h,p,t+1]+quicksum(y[s,k,t] for k in S if k!=s))\n",
    "        m.addConstr(x[s,h,p,t+1]<=x[s,h,p,t]+quicksum(y[k,s,t] for k in S if k!=s))\n",
    "\n",
    "for k in S:\n",
    "   for t in range(1,len(T)-1):\n",
    "    m.addConstr(quicksum(y[s,k,t] for s in S if s!=k)+quicksum(y[k,s,t+1] for s in S if s!=k)<=1)\n",
    "\n",
    "for s in S:\n",
    "  for h in range(2,len(H)+1):\n",
    "    for i,o in enumerate(O):\n",
    "      for j,p in enumerate(o):\n",
    "        m.addConstr(z[s,h,i]>=quicksum(x[s,h,k,len(T)] for k in o[j:])-quicksum(x[s,h-1,k,len(T)] for k in o[j:]))\n",
    "\n",
    "for i in range(len(O)):\n",
    "  m.addConstr(w[i]>=quicksum(z[s,h,i] for s in S for h in H if h!=1)-alpha)"
   ]
  },
  {
   "cell_type": "code",
   "execution_count": 9,
   "metadata": {},
   "outputs": [
    {
     "data": {
      "text/plain": [
       "<gurobi.Constr *Awaiting Model Update*>"
      ]
     },
     "execution_count": 9,
     "metadata": {},
     "output_type": "execute_result"
    }
   ],
   "source": [
    "# 初期配置の制約\n",
    "\n",
    "m.addConstr(x[1,1,O1[1],1]==1)\n",
    "m.addConstr(x[1,2,O1[0],1]==1)\n",
    "m.addConstr(x[2,1,O1[2],1]==1)"
   ]
  },
  {
   "cell_type": "code",
   "execution_count": 10,
   "metadata": {},
   "outputs": [],
   "source": [
    "beta=0.7\n",
    "m.setObjective(alpha+10**(-5)*quicksum(y[s,k,t] for s in S for k in S if s!=k for t in range(1,len(T)))+quicksum(w[i] for i in range(len(O)))/((1-beta)*len(O)))"
   ]
  },
  {
   "cell_type": "code",
   "execution_count": 11,
   "metadata": {},
   "outputs": [
    {
     "name": "stdout",
     "output_type": "stream",
     "text": [
      "Gurobi Optimizer version 9.5.2 build v9.5.2rc0 (win64)\n",
      "Thread count: 4 physical cores, 8 logical processors, using up to 8 threads\n",
      "Optimize a model with 157 rows, 71 columns and 633 nonzeros\n",
      "Model fingerprint: 0x79f5643e\n",
      "Variable types: 31 continuous, 40 integer (40 binary)\n",
      "Coefficient statistics:\n",
      "  Matrix range     [1e+00, 1e+00]\n",
      "  Objective range  [1e-05, 1e+00]\n",
      "  Bounds range     [1e+00, 1e+00]\n",
      "  RHS range        [1e+00, 1e+00]\n",
      "Found heuristic solution: objective 0.3333433\n",
      "Presolve removed 153 rows and 67 columns\n",
      "Presolve time: 0.01s\n",
      "Presolved: 4 rows, 4 columns, 8 nonzeros\n",
      "Variable types: 3 continuous, 1 integer (1 binary)\n",
      "\n",
      "Root relaxation: cutoff, 2 iterations, 0.00 seconds (0.00 work units)\n",
      "\n",
      "    Nodes    |    Current Node    |     Objective Bounds      |     Work\n",
      " Expl Unexpl |  Obj  Depth IntInf | Incumbent    BestBd   Gap | It/Node Time\n",
      "\n",
      "     0     0     cutoff    0         0.33334    0.33334  0.00%     -    0s\n",
      "\n",
      "Explored 1 nodes (2 simplex iterations) in 0.07 seconds (0.00 work units)\n",
      "Thread count was 8 (of 8 available processors)\n",
      "\n",
      "Solution count 1: 0.333343 \n",
      "\n",
      "Optimal solution found (tolerance 1.00e-04)\n",
      "Best objective 3.333433333333e-01, best bound 3.333433333333e-01, gap 0.0000%\n",
      "2\n"
     ]
    }
   ],
   "source": [
    "m.optimize()\n",
    "print(m.Status)"
   ]
  },
  {
   "cell_type": "code",
   "execution_count": 12,
   "metadata": {},
   "outputs": [
    {
     "name": "stdout",
     "output_type": "stream",
     "text": [
      "x[ 1, 1, 2, 1]=1.0\n",
      "x[ 1, 2, 1, 1]=1.0\n",
      "x[ 2, 1, 3, 1]=1.0\n",
      "x[ 2, 2, 1, 2]=1.0\n",
      "y[ 1, 2, 1]=1.0\n",
      "z[ 2, 2, 9]=1.0\n",
      "the objective function 0.33334333333333327\n",
      "VaR= 0.0\n"
     ]
    }
   ],
   "source": [
    "EPS=1.e-6\n",
    "\n",
    "if m.Status == GRB.OPTIMAL:\n",
    "  for (s,h,p,t) in x:\n",
    "    if t==1:\n",
    "      if x[s,h,p,t].X>EPS:\n",
    "        print(\"x[%2s,%2s,%2s,%2s]=%3s\" %(s,h,p,t,x[s,h,p,t].X))\n",
    "\n",
    "    if t>=2:\n",
    "      if (x[s,h,p,t].X-x[s,h,p,t-1].X)>EPS:\n",
    "        print(\"x[%2s,%2s,%2s,%2s]=%3s\" %(s,h,p,t,x[s,h,p,t].X))\n",
    "\n",
    "  for (s,k,t) in y:\n",
    "    if y[s,k,t].X>EPS:\n",
    "      print(\"y[%2s,%2s,%2s]=%3s\" %(s,k,t,y[s,k,t].X))\n",
    "\n",
    "  for (s,h,i) in z:\n",
    "    if z[s,h,i].X>EPS:\n",
    "      print(\"z[%2s,%2s,%2s]=%3s\" %(s,h,i,z[s,h,i].X))\n",
    "  print(\"the objective function\", m.objVal)\n",
    "  print(\"VaR=\",alpha.X)"
   ]
  },
  {
   "cell_type": "markdown",
   "metadata": {},
   "source": [
    "## 問題例13-2 CVaRの頑健性"
   ]
  },
  {
   "cell_type": "code",
   "execution_count": 72,
   "metadata": {},
   "outputs": [],
   "source": [
    "# nと初期配置を変更しなければいけない\n",
    "\n",
    "O1=[1,2,3,4]\n",
    "\n",
    "S=[i for i in range(1,5)]\n",
    "H=[i for i in range(1,5)]\n",
    "P=[i for i in range(1,5)]\n",
    "T=[i for i in range(1,6)]\n",
    "n_=[1,2,4,3]\n",
    "n1=[n_[O1[0]-1],n_[O1[1]-1],n_[O1[2]-1],n_[O1[3]-1]]\n",
    "\n",
    "# S,H,P,T,n1,O"
   ]
  },
  {
   "cell_type": "code",
   "execution_count": 21,
   "metadata": {},
   "outputs": [
    {
     "name": "stderr",
     "output_type": "stream",
     "text": [
      "<ipython-input-21-071f81337e53>:18: RuntimeWarning: covariance is not positive-semidefinite.\n",
      "  data_1 = np.random.multivariate_normal(mean, cov, size=size)\n"
     ]
    },
    {
     "data": {
      "text/plain": [
       "[[2, 1, 3, 4],\n",
       " [1, 2, 3, 4],\n",
       " [2, 1, 3, 4],\n",
       " [1, 2, 3, 4],\n",
       " [1, 2, 3, 4],\n",
       " [1, 4, 3, 2],\n",
       " [1, 2, 3, 4],\n",
       " [2, 1, 3, 4],\n",
       " [1, 2, 4, 3],\n",
       " [2, 1, 3, 4]]"
      ]
     },
     "execution_count": 21,
     "metadata": {},
     "output_type": "execute_result"
    }
   ],
   "source": [
    "from asyncio.constants import SENDFILE_FALLBACK_READBUFFER_SIZE\n",
    "import random\n",
    "from random import seed\n",
    "import numpy as np\n",
    "from scipy.stats import multivariate_normal\n",
    "\n",
    "np.random.seed(0)\n",
    "\n",
    "# 期待値と分散共分散行列の準備\n",
    "mean = np.array([1, 3, 5, 7])\n",
    "cov = np.array([[2.5,1.2,-1.3,0.6],\n",
    "               [1.2,3,1.5,-2.0],\n",
    "               [-1.3,1.5,2,0.9],\n",
    "               [0.6,-2.0,0.9,1.5]])\n",
    "\n",
    "# numpy を用いた生成\n",
    "size=10\n",
    "data_1 = np.random.multivariate_normal(mean, cov, size=size)\n",
    "\n",
    "# print(data_1.shape)\n",
    "\n",
    "# print(np.mean(data_1, axis=0))\n",
    "\n",
    "# print(np.cov(data_1, rowvar=False))\n",
    "\n",
    "# print(data_1)\n",
    "O_=np.argsort(data_1)\n",
    "O_=O_+np.ones((size,4)).astype(int)\n",
    "O=O_.tolist()\n",
    "\n",
    "# data_2 = multivariate_normal(mean, cov).rvs(size=200)\n",
    "\n",
    "# print(data_2.shape)\n",
    "\n",
    "# print(np.mean(data_2, axis=0))\n",
    "\n",
    "# print(np.cov(data_2, rowvar=False))\n",
    "O"
   ]
  },
  {
   "cell_type": "code",
   "execution_count": 82,
   "metadata": {},
   "outputs": [
    {
     "name": "stderr",
     "output_type": "stream",
     "text": [
      "<ipython-input-82-e5fd864332d4>:15: RuntimeWarning: covariance is not positive-semidefinite.\n",
      "  data_1 = np.random.multivariate_normal(mean, cov, size=size)\n"
     ]
    },
    {
     "data": {
      "text/plain": [
       "[[2, 1, 3, 4],\n",
       " [1, 2, 3, 4],\n",
       " [1, 2, 3, 4],\n",
       " [1, 3, 4, 2],\n",
       " [1, 2, 3, 4],\n",
       " [1, 4, 3, 2],\n",
       " [1, 4, 2, 3],\n",
       " [2, 3, 1, 4],\n",
       " [2, 1, 3, 4],\n",
       " [2, 1, 4, 3]]"
      ]
     },
     "execution_count": 82,
     "metadata": {},
     "output_type": "execute_result"
    }
   ],
   "source": [
    "m=Model(\"IP3\")\n",
    "\n",
    "alpha=m.addVar(vtype=\"C\")\n",
    "\n",
    "# 変数の定義\n",
    "x,y,z,w={},{},{},{}\n",
    "for s in S:\n",
    "  for h in H:\n",
    "    for p in P:\n",
    "      for t in T:\n",
    "        x[s,h,p,t]=m.addVar(vtype=\"B\")\n",
    "\n",
    "\n",
    "for s in S:\n",
    "  for k in S:\n",
    "    if s!=k:\n",
    "      for t in T:\n",
    "        if t!=len(T):\n",
    "          y[s,k,t]=m.addVar(vtype=\"B\")\n",
    "\n",
    "\n",
    "for s in S:\n",
    "  for h in range(2,len(H)+1):\n",
    "    for i,o in enumerate(O):\n",
    "      z[s,h,i]=m.addVar(vtype=\"c\",lb=0)\n",
    "\n",
    "for i in range(len(O)):\n",
    "  w[i]=m.addVar(vtype=\"C\",lb=0)\n",
    "\n",
    "# 制約条件\n",
    "for p in P:\n",
    "   for t in T:\n",
    "      m.addConstr(quicksum(x[s,h,p,t] for s in S for h in H)==n1[p-1])\n",
    "\n",
    "for t in range(1,len(T)):\n",
    "   m.addConstr(quicksum(y[s,k,t] for s in S for k in S if k!=s)<=1)\n",
    "\n",
    "for t in range(1,len(T)-1):\n",
    "  m.addConstr(quicksum(y[s,k,t+1] for s in S for k in S if s!=k)<=quicksum(y[s,k,t] for s in S for k in S if k!=s))\n",
    "\n",
    "for s in S:\n",
    "  for t in range(2,len(T)+1):\n",
    "    m.addConstr(quicksum(x[s,1,p,t] for p in P)<=1)\n",
    "\n",
    "for s in S:\n",
    "  for h in range(1,len(H)):\n",
    "    for t in range(2,len(T)+1):\n",
    "      m.addConstr(quicksum(x[s,h+1,p,t] for p in P)<=quicksum(x[s,h,p,t] for p in P))\n",
    "\n",
    "for s in S:\n",
    "  for h in range(1,len(H)):\n",
    "    for p in P:\n",
    "      for t in range(1,len(T)):\n",
    "        m.addConstr(x[s,h,p,t]+quicksum(x[s,h+1,k,t] for k in P)<=1+x[s,h,p,t+1])\n",
    "\n",
    "\n",
    "for s in S:\n",
    "  for h in H:\n",
    "    for p in P:\n",
    "      for t in range(1,len(T)):\n",
    "        m.addConstr(x[s,h,p,t]<=x[s,h,p,t+1]+quicksum(y[s,k,t] for k in S if k!=s))\n",
    "        m.addConstr(x[s,h,p,t+1]<=x[s,h,p,t]+quicksum(y[k,s,t] for k in S if k!=s))\n",
    "\n",
    "for k in S:\n",
    "   for t in range(1,len(T)-1):\n",
    "    m.addConstr(quicksum(y[s,k,t] for s in S if s!=k)+quicksum(y[k,s,t+1] for s in S if s!=k)<=1)\n",
    "\n",
    "for s in S:\n",
    "  for h in range(2,len(H)+1):\n",
    "    for i,o in enumerate(O):\n",
    "      for j,p in enumerate(o):\n",
    "        m.addConstr(z[s,h,i]>=quicksum(x[s,h,k,len(T)] for k in o[j:])-quicksum(x[s,h-1,k,len(T)] for k in o[j:]))\n",
    "\n",
    "for i in range(len(O)):\n",
    "  m.addConstr(w[i]>=quicksum(z[s,h,i] for s in S for h in H if h!=1)-alpha)"
   ]
  },
  {
   "cell_type": "code",
   "execution_count": 6,
   "metadata": {},
   "outputs": [
    {
     "name": "stdout",
     "output_type": "stream",
     "text": [
      "Restricted license - for non-production use only - expires 2023-10-25\n"
     ]
    }
   ],
   "source": [
    "m=Model(\"IP3\")\n",
    "\n",
    "alpha=m.addVar(vtype=\"C\")\n",
    "\n",
    "# 変数の定義\n",
    "x,y,z,w={},{},{},{}\n",
    "for s in S:\n",
    "  for h in H:\n",
    "    for p in P:\n",
    "      for t in T:\n",
    "        x[s,h,p,t]=m.addVar(vtype=\"B\")\n",
    "\n",
    "\n",
    "for s in S:\n",
    "  for k in S:\n",
    "    if s!=k:\n",
    "      for t in T:\n",
    "        if t!=len(T):\n",
    "          y[s,k,t]=m.addVar(vtype=\"B\")\n",
    "\n",
    "\n",
    "for s in S:\n",
    "  for h in range(2,len(H)+1):\n",
    "    for i,o in enumerate(O):\n",
    "      z[s,h,i]=m.addVar(vtype=\"c\",lb=0)\n",
    "\n",
    "for i in range(len(O)):\n",
    "  w[i]=m.addVar(vtype=\"C\",lb=0)\n",
    "\n",
    "# 制約条件\n",
    "for p in P:\n",
    "   for t in T:\n",
    "      m.addConstr(quicksum(x[s,h,p,t] for s in S for h in H)==n1[p-1])\n",
    "\n",
    "for t in range(1,len(T)):\n",
    "   m.addConstr(quicksum(y[s,k,t] for s in S for k in S if k!=s)<=1)\n",
    "\n",
    "for t in range(1,len(T)-1):\n",
    "  m.addConstr(quicksum(y[s,k,t+1] for s in S for k in S if s!=k)<=quicksum(y[s,k,t] for s in S for k in S if k!=s))\n",
    "\n",
    "for s in S:\n",
    "  for t in range(2,len(T)+1):\n",
    "    m.addConstr(quicksum(x[s,1,p,t] for p in P)<=1)\n",
    "\n",
    "for s in S:\n",
    "  for h in range(1,len(H)):\n",
    "    for t in range(2,len(T)+1):\n",
    "      m.addConstr(quicksum(x[s,h+1,p,t] for p in P)<=quicksum(x[s,h,p,t] for p in P))\n",
    "\n",
    "for s in S:\n",
    "  for h in range(1,len(H)):\n",
    "    for p in P:\n",
    "      for t in range(1,len(T)):\n",
    "        m.addConstr(x[s,h,p,t]+quicksum(x[s,h+1,k,t] for k in P)<=1+x[s,h,p,t+1])\n",
    "\n",
    "\n",
    "for s in S:\n",
    "  for h in H:\n",
    "    for p in P:\n",
    "      for t in range(1,len(T)):\n",
    "        m.addConstr(x[s,h,p,t]<=x[s,h,p,t+1]+quicksum(y[s,k,t] for k in S if k!=s))\n",
    "        m.addConstr(x[s,h,p,t+1]<=x[s,h,p,t]+quicksum(y[k,s,t] for k in S if k!=s))\n",
    "\n",
    "for k in S:\n",
    "   for t in range(1,len(T)-1):\n",
    "    m.addConstr(quicksum(y[s,k,t] for s in S if s!=k)+quicksum(y[k,s,t+1] for s in S if s!=k)<=1)\n",
    "\n",
    "for s in S:\n",
    "  for h in range(2,len(H)+1):\n",
    "    for i,o in enumerate(O):\n",
    "      for j,p in enumerate(o):\n",
    "        m.addConstr(z[s,h,i]>=quicksum(x[s,h,k,len(T)] for k in o[j:])-quicksum(x[s,h-1,k,len(T)] for k in o[j:]))\n",
    "\n",
    "for i in range(len(O)):\n",
    "  m.addConstr(w[i]>=quicksum(z[s,h,i] for s in S for h in H if h!=1)-alpha)"
   ]
  },
  {
   "cell_type": "code",
   "execution_count": 84,
   "metadata": {},
   "outputs": [
    {
     "data": {
      "text/plain": [
       "<gurobi.Constr *Awaiting Model Update*>"
      ]
     },
     "execution_count": 84,
     "metadata": {},
     "output_type": "execute_result"
    }
   ],
   "source": [
    "# 初期配置の制約\n",
    "\n",
    "m.addConstr(x[1,1,O1[3],1]==1)\n",
    "m.addConstr(x[1,2,O1[3],1]==1)\n",
    "m.addConstr(x[1,3,O1[2],1]==1)\n",
    "m.addConstr(x[2,1,O1[3],1]==1)\n",
    "m.addConstr(x[2,2,O1[2],1]==1)\n",
    "m.addConstr(x[2,3,O1[1],1]==1)\n",
    "m.addConstr(x[3,1,O1[2],1]==1)\n",
    "m.addConstr(x[3,2,O1[2],1]==1)\n",
    "m.addConstr(x[4,1,O1[1],1]==1)\n",
    "m.addConstr(x[4,2,O1[0],1]==1)"
   ]
  },
  {
   "cell_type": "code",
   "execution_count": 85,
   "metadata": {},
   "outputs": [],
   "source": [
    "beta=0.8\n",
    "m.setObjective(alpha+10**(-5)*quicksum(y[s,k,t] for s in S for k in S if s!=k for t in range(1,len(T)))+quicksum(w[i] for i in range(len(O)))/((1-beta)*len(O)))"
   ]
  },
  {
   "cell_type": "code",
   "execution_count": 86,
   "metadata": {},
   "outputs": [
    {
     "name": "stdout",
     "output_type": "stream",
     "text": [
      "Gurobi Optimizer version 9.5.2 build v9.5.2rc0 (win64)\n",
      "Thread count: 4 physical cores, 8 logical processors, using up to 8 threads\n",
      "Optimize a model with 1307 rows, 499 columns and 7692 nonzeros\n",
      "Model fingerprint: 0x731c8c5c\n",
      "Variable types: 131 continuous, 368 integer (368 binary)\n",
      "Coefficient statistics:\n",
      "  Matrix range     [1e+00, 1e+00]\n",
      "  Objective range  [1e-05, 1e+00]\n",
      "  Bounds range     [1e+00, 1e+00]\n",
      "  RHS range        [1e+00, 4e+00]\n",
      "Presolve removed 617 rows and 194 columns\n",
      "Presolve time: 0.09s\n",
      "Presolved: 690 rows, 305 columns, 3685 nonzeros\n",
      "Variable types: 0 continuous, 305 integer (221 binary)\n",
      "Found heuristic solution: objective 7.5000300\n",
      "\n",
      "Root relaxation: objective 2.282771e-05, 379 iterations, 0.02 seconds (0.01 work units)\n",
      "\n",
      "    Nodes    |    Current Node    |     Objective Bounds      |     Work\n",
      " Expl Unexpl |  Obj  Depth IntInf | Incumbent    BestBd   Gap | It/Node Time\n",
      "\n",
      "     0     0    0.00002    0  104    7.50003    0.00002   100%     -    0s\n",
      "H    0     0                       3.5000400    0.00002   100%     -    0s\n",
      "H    0     0                       1.5000400    0.00002   100%     -    0s\n",
      "H    0     0                       0.0000400    0.00003  25.6%     -    0s\n",
      "     0     0    0.00003    0  120    0.00004    0.00003  21.3%     -    0s\n",
      "     0     0    0.00004    0  111    0.00004    0.00004  3.09%     -    0s\n",
      "\n",
      "Cutting planes:\n",
      "  Gomory: 3\n",
      "  Implied bound: 4\n",
      "  Clique: 1\n",
      "  MIR: 5\n",
      "  Zero half: 5\n",
      "  RLT: 11\n",
      "\n",
      "Explored 1 nodes (1167 simplex iterations) in 0.56 seconds (0.14 work units)\n",
      "Thread count was 8 (of 8 available processors)\n",
      "\n",
      "Solution count 4: 4e-05 1.50004 3.50004 7.50003 \n",
      "\n",
      "Optimal solution found (tolerance 1.00e-04)\n",
      "Best objective 4.000000000000e-05, best bound 4.000000000000e-05, gap 0.0000%\n",
      "2\n"
     ]
    }
   ],
   "source": [
    "m.optimize()\n",
    "print(m.Status)"
   ]
  },
  {
   "cell_type": "code",
   "execution_count": 87,
   "metadata": {},
   "outputs": [
    {
     "name": "stdout",
     "output_type": "stream",
     "text": [
      "x[ 1, 1, 4, 1]=1.0\n",
      "x[ 1, 2, 4, 1]=1.0\n",
      "x[ 1, 3, 1, 3]=1.0\n",
      "x[ 1, 3, 3, 1]=1.0\n",
      "x[ 2, 1, 4, 1]=1.0\n",
      "x[ 2, 2, 3, 1]=1.0\n",
      "x[ 2, 3, 2, 1]=1.0\n",
      "x[ 3, 1, 3, 1]=1.0\n",
      "x[ 3, 2, 3, 1]=1.0\n",
      "x[ 3, 3, 3, 2]=1.0\n",
      "x[ 3, 4, 3, 5]=1.0\n",
      "x[ 4, 1, 2, 1]=1.0\n",
      "x[ 4, 2, 1, 1]=1.0\n",
      "x[ 4, 2, 2, 4]=1.0\n",
      "y[ 1, 3, 1]=1.0\n",
      "y[ 2, 3, 4]=1.0\n",
      "y[ 2, 4, 3]=1.0\n",
      "y[ 4, 1, 2]=1.0\n",
      "the objective function 4e-05\n",
      "VaR= 0.0\n"
     ]
    }
   ],
   "source": [
    "EPS=1.e-6\n",
    "\n",
    "if m.Status == GRB.OPTIMAL:\n",
    "  for (s,h,p,t) in x:\n",
    "    if t==1:\n",
    "      if x[s,h,p,t].X>EPS:\n",
    "        print(\"x[%2s,%2s,%2s,%2s]=%3s\" %(s,h,p,t,x[s,h,p,t].X))\n",
    "\n",
    "    if t>=2:\n",
    "      if (x[s,h,p,t].X-x[s,h,p,t-1].X)>EPS:\n",
    "        print(\"x[%2s,%2s,%2s,%2s]=%3s\" %(s,h,p,t,x[s,h,p,t].X))\n",
    "\n",
    "  for (s,k,t) in y:\n",
    "    if y[s,k,t].X>EPS:\n",
    "      print(\"y[%2s,%2s,%2s]=%3s\" %(s,k,t,y[s,k,t].X))\n",
    "\n",
    "  for (s,h,i) in z:\n",
    "    if z[s,h,i].X>EPS:\n",
    "      print(\"z[%2s,%2s,%2s]=%3s\" %(s,h,i,z[s,h,i].X))\n",
    "  print(\"the objective function\", m.objVal)\n",
    "  print(\"VaR=\",alpha.X)"
   ]
  },
  {
   "cell_type": "code",
   "execution_count": 88,
   "metadata": {},
   "outputs": [
    {
     "data": {
      "text/plain": [
       "[[2, 1, 3, 4],\n",
       " [1, 2, 3, 4],\n",
       " [1, 2, 3, 4],\n",
       " [1, 3, 4, 2],\n",
       " [1, 2, 3, 4],\n",
       " [1, 4, 3, 2],\n",
       " [1, 4, 2, 3],\n",
       " [2, 3, 1, 4],\n",
       " [2, 1, 3, 4],\n",
       " [2, 1, 4, 3]]"
      ]
     },
     "execution_count": 88,
     "metadata": {},
     "output_type": "execute_result"
    }
   ],
   "source": [
    "O"
   ]
  },
  {
   "cell_type": "code",
   "execution_count": null,
   "metadata": {},
   "outputs": [],
   "source": []
  }
 ],
 "metadata": {
  "kernelspec": {
   "display_name": "Python 3.8.3",
   "language": "python",
   "name": "python3"
  },
  "language_info": {
   "codemirror_mode": {
    "name": "ipython",
    "version": 3
   },
   "file_extension": ".py",
   "mimetype": "text/x-python",
   "name": "python",
   "nbconvert_exporter": "python",
   "pygments_lexer": "ipython3",
   "version": "3.8.3"
  },
  "orig_nbformat": 4,
  "vscode": {
   "interpreter": {
    "hash": "339b61edfe2862de78527346fab7b54ea336c8710f2c1713032939182b3058a7"
   }
  }
 },
 "nbformat": 4,
 "nbformat_minor": 2
}
