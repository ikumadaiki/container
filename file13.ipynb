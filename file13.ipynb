{
 "cells": [
  {
   "cell_type": "code",
   "execution_count": null,
   "metadata": {},
   "outputs": [],
   "source": [
    "# !pip install gurobipy"
   ]
  },
  {
   "cell_type": "code",
   "execution_count": 1,
   "metadata": {},
   "outputs": [],
   "source": [
    "from gurobipy import *"
   ]
  },
  {
   "cell_type": "markdown",
   "metadata": {},
   "source": [
    "## 問題例13-1 CVaR"
   ]
  },
  {
   "cell_type": "code",
   "execution_count": 2,
   "metadata": {},
   "outputs": [
    {
     "data": {
      "text/plain": [
       "([1, 2], [1, 2], [1, 2, 3], [1, 2, 3], [1, 1, 1])"
      ]
     },
     "execution_count": 2,
     "metadata": {},
     "output_type": "execute_result"
    }
   ],
   "source": [
    "# nと初期配置を変更しなければいけない\n",
    "\n",
    "O1=[1,2,3]\n",
    "\n",
    "S=[i for i in range(1,3)]\n",
    "H=[i for i in range(1,3)]\n",
    "P=[i for i in range(1,4)]\n",
    "T=[i for i in range(1,4)]\n",
    "n_=[1,1,1]\n",
    "n1=[n_[O1[0]-1],n_[O1[1]-1],n_[O1[2]-1]]\n",
    "\n",
    "S,H,P,T,n1"
   ]
  },
  {
   "cell_type": "code",
   "execution_count": 3,
   "metadata": {},
   "outputs": [],
   "source": [
    "O=[\n",
    "  [1,2,3],\n",
    "  [1,2,3],\n",
    "  [1,2,3],\n",
    "  [1,2,3],\n",
    "  [1,2,3],\n",
    "  [1,2,3],\n",
    "  [2,1,3],\n",
    "  [2,1,3],\n",
    "  [2,1,3],\n",
    "  [3,1,2]\n",
    "]"
   ]
  },
  {
   "cell_type": "code",
   "execution_count": 5,
   "metadata": {},
   "outputs": [
    {
     "name": "stdout",
     "output_type": "stream",
     "text": [
      "Set parameter Username\n",
      "Academic license - for non-commercial use only - expires 2023-09-30\n"
     ]
    }
   ],
   "source": [
    "m=Model(\"IP3\")\n",
    "\n",
    "alpha=m.addVar(vtype=\"C\")\n",
    "\n",
    "# 変数の定義\n",
    "x,y,z,w={},{},{},{}\n",
    "for s in S:\n",
    "  for h in H:\n",
    "    for p in P:\n",
    "      for t in T:\n",
    "        x[s,h,p,t]=m.addVar(vtype=\"B\")\n",
    "\n",
    "\n",
    "for s in S:\n",
    "  for k in S:\n",
    "    if s!=k:\n",
    "      for t in T:\n",
    "        if t!=len(T):\n",
    "          y[s,k,t]=m.addVar(vtype=\"B\")\n",
    "\n",
    "\n",
    "for s in S:\n",
    "  for h in range(2,len(H)+1):\n",
    "    for i,o in enumerate(O):\n",
    "      z[s,h,i]=m.addVar(vtype=\"c\",lb=0)\n",
    "\n",
    "for i in range(len(O)):\n",
    "  w[i]=m.addVar(vtype=\"C\",lb=0)\n",
    "\n",
    "# 制約条件\n",
    "for p in P:\n",
    "   for t in T:\n",
    "      m.addConstr(quicksum(x[s,h,p,t] for s in S for h in H)==n1[p-1])\n",
    "\n",
    "for t in range(1,len(T)):\n",
    "   m.addConstr(quicksum(y[s,k,t] for s in S for k in S if k!=s)<=1)\n",
    "\n",
    "for t in range(1,len(T)-1):\n",
    "  m.addConstr(quicksum(y[s,k,t+1] for s in S for k in S if s!=k)<=quicksum(y[s,k,t] for s in S for k in S if k!=s))\n",
    "\n",
    "for s in S:\n",
    "  for t in range(2,len(T)+1):\n",
    "    m.addConstr(quicksum(x[s,1,p,t] for p in P)<=1)\n",
    "\n",
    "for s in S:\n",
    "  for h in range(1,len(H)):\n",
    "    for t in range(2,len(T)+1):\n",
    "      m.addConstr(quicksum(x[s,h+1,p,t] for p in P)<=quicksum(x[s,h,p,t] for p in P))\n",
    "\n",
    "for s in S:\n",
    "  for h in range(1,len(H)):\n",
    "    for p in P:\n",
    "      for t in range(1,len(T)):\n",
    "        m.addConstr(x[s,h,p,t]+quicksum(x[s,h+1,k,t] for k in P)<=1+x[s,h,p,t+1])\n",
    "\n",
    "\n",
    "for s in S:\n",
    "  for h in H:\n",
    "    for p in P:\n",
    "      for t in range(1,len(T)):\n",
    "        m.addConstr(x[s,h,p,t]<=x[s,h,p,t+1]+quicksum(y[s,k,t] for k in S if k!=s))\n",
    "        m.addConstr(x[s,h,p,t+1]<=x[s,h,p,t]+quicksum(y[k,s,t] for k in S if k!=s))\n",
    "\n",
    "for k in S:\n",
    "   for t in range(1,len(T)-1):\n",
    "    m.addConstr(quicksum(y[s,k,t] for s in S if s!=k)+quicksum(y[k,s,t+1] for s in S if s!=k)<=1)\n",
    "\n",
    "for s in S:\n",
    "  for h in range(2,len(H)+1):\n",
    "    for i,o in enumerate(O):\n",
    "      for j,p in enumerate(o):\n",
    "        m.addConstr(z[s,h,i]>=quicksum(x[s,h,k,len(T)] for k in o[j:])-quicksum(x[s,h-1,k,len(T)] for k in o[j:]))\n",
    "\n",
    "for s in S:\n",
    "  for h in range(2,len(H)):\n",
    "    for i in range(len(O)):\n",
    "      m.addConstr(z[s,h,i]<=z[s,h+1,i])\n",
    "\n",
    "for i in range(len(O)):\n",
    "  m.addConstr(w[i]>=quicksum(z[s,h,i] for s in S for h in H if h!=1)-alpha)"
   ]
  },
  {
   "cell_type": "code",
   "execution_count": 6,
   "metadata": {},
   "outputs": [
    {
     "data": {
      "text/plain": [
       "<gurobi.Constr *Awaiting Model Update*>"
      ]
     },
     "execution_count": 6,
     "metadata": {},
     "output_type": "execute_result"
    }
   ],
   "source": [
    "# 初期配置の制約\n",
    "\n",
    "m.addConstr(x[1,1,O1[1],1]==1)\n",
    "m.addConstr(x[1,2,O1[0],1]==1)\n",
    "m.addConstr(x[2,1,O1[2],1]==1)"
   ]
  },
  {
   "cell_type": "code",
   "execution_count": 7,
   "metadata": {},
   "outputs": [],
   "source": [
    "beta=0.7\n",
    "m.setObjective(alpha+10**(-5)*quicksum(y[s,k,t] for s in S for k in S if s!=k for t in range(1,len(T)))+quicksum(w[i] for i in range(len(O)))/((1-beta)*len(O)))"
   ]
  },
  {
   "cell_type": "code",
   "execution_count": 8,
   "metadata": {},
   "outputs": [
    {
     "name": "stdout",
     "output_type": "stream",
     "text": [
      "Gurobi Optimizer version 9.5.2 build v9.5.2rc0 (win64)\n",
      "Thread count: 4 physical cores, 8 logical processors, using up to 8 threads\n",
      "Optimize a model with 155 rows, 71 columns and 631 nonzeros\n",
      "Model fingerprint: 0x25bcc5fe\n",
      "Variable types: 31 continuous, 40 integer (40 binary)\n",
      "Coefficient statistics:\n",
      "  Matrix range     [1e+00, 1e+00]\n",
      "  Objective range  [1e-05, 1e+00]\n",
      "  Bounds range     [1e+00, 1e+00]\n",
      "  RHS range        [1e+00, 1e+00]\n",
      "Found heuristic solution: objective 0.3333433\n",
      "Presolve removed 151 rows and 67 columns\n",
      "Presolve time: 0.01s\n",
      "Presolved: 4 rows, 4 columns, 8 nonzeros\n",
      "Variable types: 3 continuous, 1 integer (1 binary)\n",
      "\n",
      "Root relaxation: cutoff, 2 iterations, 0.00 seconds (0.00 work units)\n",
      "\n",
      "    Nodes    |    Current Node    |     Objective Bounds      |     Work\n",
      " Expl Unexpl |  Obj  Depth IntInf | Incumbent    BestBd   Gap | It/Node Time\n",
      "\n",
      "     0     0     cutoff    0         0.33334    0.33334  0.00%     -    0s\n",
      "\n",
      "Explored 1 nodes (2 simplex iterations) in 0.06 seconds (0.00 work units)\n",
      "Thread count was 8 (of 8 available processors)\n",
      "\n",
      "Solution count 1: 0.333343 \n",
      "\n",
      "Optimal solution found (tolerance 1.00e-04)\n",
      "Best objective 3.333433333333e-01, best bound 3.333433333333e-01, gap 0.0000%\n",
      "2\n"
     ]
    }
   ],
   "source": [
    "m.optimize()\n",
    "print(m.Status)"
   ]
  },
  {
   "cell_type": "code",
   "execution_count": 9,
   "metadata": {},
   "outputs": [
    {
     "name": "stdout",
     "output_type": "stream",
     "text": [
      "x[ 1, 1, 2, 1]=1.0\n",
      "x[ 1, 2, 1, 1]=1.0\n",
      "x[ 2, 1, 3, 1]=1.0\n",
      "x[ 2, 2, 1, 2]=1.0\n",
      "y[ 1, 2, 1]=1.0\n",
      "z[ 2, 2, 9]=1.0\n",
      "the objective function 0.33334333333333327\n",
      "VaR= 0.0\n"
     ]
    }
   ],
   "source": [
    "EPS=1.e-6\n",
    "\n",
    "if m.Status == GRB.OPTIMAL:\n",
    "  for (s,h,p,t) in x:\n",
    "    if t==1:\n",
    "      if x[s,h,p,t].X>EPS:\n",
    "        print(\"x[%2s,%2s,%2s,%2s]=%3s\" %(s,h,p,t,x[s,h,p,t].X))\n",
    "\n",
    "    if t>=2:\n",
    "      if (x[s,h,p,t].X-x[s,h,p,t-1].X)>EPS:\n",
    "        print(\"x[%2s,%2s,%2s,%2s]=%3s\" %(s,h,p,t,x[s,h,p,t].X))\n",
    "\n",
    "  for (s,k,t) in y:\n",
    "    if y[s,k,t].X>EPS:\n",
    "      print(\"y[%2s,%2s,%2s]=%3s\" %(s,k,t,y[s,k,t].X))\n",
    "\n",
    "  for (s,h,i) in z:\n",
    "    if z[s,h,i].X>EPS:\n",
    "      print(\"z[%2s,%2s,%2s]=%3s\" %(s,h,i,z[s,h,i].X))\n",
    "  print(\"the objective function\", m.objVal)\n",
    "  print(\"VaR=\",alpha.X)"
   ]
  },
  {
   "cell_type": "markdown",
   "metadata": {},
   "source": [
    "## 問題例13-2 CVaRの頑健性"
   ]
  },
  {
   "cell_type": "code",
   "execution_count": 9,
   "metadata": {},
   "outputs": [],
   "source": [
    "# nと初期配置を変更しなければいけない\n",
    "\n",
    "O1=[1,2,3,4]\n",
    "\n",
    "S=[i for i in range(1,5)]\n",
    "H=[i for i in range(1,5)]\n",
    "P=[i for i in range(1,5)]\n",
    "T=[i for i in range(1,6)]\n",
    "n_=[1,2,4,3]\n",
    "n1=[n_[O1[0]-1],n_[O1[1]-1],n_[O1[2]-1],n_[O1[3]-1]]\n",
    "\n",
    "# S,H,P,T,n1,O"
   ]
  },
  {
   "cell_type": "code",
   "execution_count": 10,
   "metadata": {},
   "outputs": [
    {
     "name": "stderr",
     "output_type": "stream",
     "text": [
      "<ipython-input-10-071f81337e53>:18: RuntimeWarning: covariance is not positive-semidefinite.\n",
      "  data_1 = np.random.multivariate_normal(mean, cov, size=size)\n"
     ]
    },
    {
     "data": {
      "text/plain": [
       "[[2, 1, 3, 4],\n",
       " [1, 2, 3, 4],\n",
       " [2, 1, 3, 4],\n",
       " [1, 2, 3, 4],\n",
       " [1, 2, 3, 4],\n",
       " [1, 4, 3, 2],\n",
       " [1, 2, 3, 4],\n",
       " [2, 1, 3, 4],\n",
       " [1, 2, 4, 3],\n",
       " [2, 1, 3, 4]]"
      ]
     },
     "execution_count": 10,
     "metadata": {},
     "output_type": "execute_result"
    }
   ],
   "source": [
    "from asyncio.constants import SENDFILE_FALLBACK_READBUFFER_SIZE\n",
    "import random\n",
    "from random import seed\n",
    "import numpy as np\n",
    "from scipy.stats import multivariate_normal\n",
    "\n",
    "np.random.seed(0)\n",
    "\n",
    "# 期待値と分散共分散行列の準備\n",
    "mean = np.array([1, 3, 5, 7])\n",
    "cov = np.array([[2.5,1.2,-1.3,0.6],\n",
    "               [1.2,3,1.5,-2.0],\n",
    "               [-1.3,1.5,2,0.9],\n",
    "               [0.6,-2.0,0.9,1.5]])\n",
    "\n",
    "# numpy を用いた生成\n",
    "size=10\n",
    "data_1 = np.random.multivariate_normal(mean, cov, size=size)\n",
    "\n",
    "# print(data_1.shape)\n",
    "\n",
    "# print(np.mean(data_1, axis=0))\n",
    "\n",
    "# print(np.cov(data_1, rowvar=False))\n",
    "\n",
    "# print(data_1)\n",
    "O_=np.argsort(data_1)\n",
    "O_=O_+np.ones((size,4)).astype(int)\n",
    "O=O_.tolist()\n",
    "\n",
    "# data_2 = multivariate_normal(mean, cov).rvs(size=200)\n",
    "\n",
    "# print(data_2.shape)\n",
    "\n",
    "# print(np.mean(data_2, axis=0))\n",
    "\n",
    "# print(np.cov(data_2, rowvar=False))\n",
    "O"
   ]
  },
  {
   "cell_type": "code",
   "execution_count": 11,
   "metadata": {},
   "outputs": [
    {
     "data": {
      "text/plain": [
       "{(2, 1, 3, 4): 4, (1, 2, 3, 4): 4, (1, 4, 3, 2): 1, (1, 2, 4, 3): 1}"
      ]
     },
     "execution_count": 11,
     "metadata": {},
     "output_type": "execute_result"
    }
   ],
   "source": [
    "a=[]\n",
    "d={}\n",
    "for i in O:\n",
    "  # print(i)\n",
    "  if not i in a:\n",
    "    a.append(i)\n",
    "for j in a:\n",
    "  d[tuple(j)]=O.count(j)\n",
    "\n",
    "d\n"
   ]
  },
  {
   "cell_type": "code",
   "execution_count": 12,
   "metadata": {},
   "outputs": [],
   "source": [
    "m=Model(\"IP3\")\n",
    "\n",
    "alpha=m.addVar(vtype=\"C\")\n",
    "\n",
    "# 変数の定義\n",
    "x,y,z,w={},{},{},{}\n",
    "for s in S:\n",
    "  for h in H:\n",
    "    for p in P:\n",
    "      for t in T:\n",
    "        x[s,h,p,t]=m.addVar(vtype=\"B\")\n",
    "\n",
    "\n",
    "for s in S:\n",
    "  for k in S:\n",
    "    if s!=k:\n",
    "      for t in T:\n",
    "        if t!=len(T):\n",
    "          y[s,k,t]=m.addVar(vtype=\"B\")\n",
    "\n",
    "\n",
    "for s in S:\n",
    "  for h in range(2,len(H)+1):\n",
    "    for i,o in enumerate(O):\n",
    "      z[s,h,i]=m.addVar(vtype=\"c\",lb=0)\n",
    "\n",
    "for i in range(len(O)):\n",
    "  w[i]=m.addVar(vtype=\"C\",lb=0)\n",
    "\n",
    "# 制約条件\n",
    "for p in P:\n",
    "   for t in T:\n",
    "      m.addConstr(quicksum(x[s,h,p,t] for s in S for h in H)==n1[p-1])\n",
    "\n",
    "for t in range(1,len(T)):\n",
    "   m.addConstr(quicksum(y[s,k,t] for s in S for k in S if k!=s)<=1)\n",
    "\n",
    "for t in range(1,len(T)-1):\n",
    "  m.addConstr(quicksum(y[s,k,t+1] for s in S for k in S if s!=k)<=quicksum(y[s,k,t] for s in S for k in S if k!=s))\n",
    "\n",
    "for s in S:\n",
    "  for t in range(2,len(T)+1):\n",
    "    m.addConstr(quicksum(x[s,1,p,t] for p in P)<=1)\n",
    "\n",
    "for s in S:\n",
    "  for h in range(1,len(H)):\n",
    "    for t in range(2,len(T)+1):\n",
    "      m.addConstr(quicksum(x[s,h+1,p,t] for p in P)<=quicksum(x[s,h,p,t] for p in P))\n",
    "\n",
    "for s in S:\n",
    "  for h in range(1,len(H)):\n",
    "    for p in P:\n",
    "      for t in range(1,len(T)):\n",
    "        m.addConstr(x[s,h,p,t]+quicksum(x[s,h+1,k,t] for k in P)<=1+x[s,h,p,t+1])\n",
    "\n",
    "\n",
    "for s in S:\n",
    "  for h in H:\n",
    "    for p in P:\n",
    "      for t in range(1,len(T)):\n",
    "        m.addConstr(x[s,h,p,t]<=x[s,h,p,t+1]+quicksum(y[s,k,t] for k in S if k!=s))\n",
    "        m.addConstr(x[s,h,p,t+1]<=x[s,h,p,t]+quicksum(y[k,s,t] for k in S if k!=s))\n",
    "\n",
    "for k in S:\n",
    "   for t in range(1,len(T)-1):\n",
    "    m.addConstr(quicksum(y[s,k,t] for s in S if s!=k)+quicksum(y[k,s,t+1] for s in S if s!=k)<=1)\n",
    "\n",
    "for s in S:\n",
    "  for h in range(2,len(H)+1):\n",
    "    for i,o in enumerate(O):\n",
    "      for j,p in enumerate(o):\n",
    "        m.addConstr(z[s,h,i]>=quicksum(x[s,h,k,len(T)] for k in o[j:])-quicksum(x[s,h-1,k,len(T)] for k in o[j:]))\n",
    "\n",
    "for s in S:\n",
    "  for h in range(2,len(H)):\n",
    "    for i in range(len(O)):\n",
    "      m.addConstr(z[s,h,i]<=z[s,h+1,i])\n",
    "\n",
    "for i in range(len(O)):\n",
    "  m.addConstr(w[i]>=quicksum(z[s,h,i] for s in S for h in H if h!=1)-alpha)"
   ]
  },
  {
   "cell_type": "code",
   "execution_count": 14,
   "metadata": {},
   "outputs": [
    {
     "data": {
      "text/plain": [
       "<gurobi.Constr *Awaiting Model Update*>"
      ]
     },
     "execution_count": 14,
     "metadata": {},
     "output_type": "execute_result"
    }
   ],
   "source": [
    "# 初期配置の制約\n",
    "\n",
    "m.addConstr(x[1,1,O1[3],1]==1)\n",
    "m.addConstr(x[1,2,O1[3],1]==1)\n",
    "m.addConstr(x[1,3,O1[2],1]==1)\n",
    "m.addConstr(x[2,1,O1[3],1]==1)\n",
    "m.addConstr(x[2,2,O1[2],1]==1)\n",
    "m.addConstr(x[2,3,O1[1],1]==1)\n",
    "m.addConstr(x[3,1,O1[2],1]==1)\n",
    "m.addConstr(x[3,2,O1[2],1]==1)\n",
    "m.addConstr(x[4,1,O1[1],1]==1)\n",
    "m.addConstr(x[4,2,O1[0],1]==1)"
   ]
  },
  {
   "cell_type": "code",
   "execution_count": 15,
   "metadata": {},
   "outputs": [],
   "source": [
    "beta=0.8\n",
    "m.setObjective(alpha+10**(-5)*quicksum(y[s,k,t] for s in S for k in S if s!=k for t in range(1,len(T)))+quicksum(w[i] for i in range(len(O)))/((1-beta)*len(O)))"
   ]
  },
  {
   "cell_type": "code",
   "execution_count": 16,
   "metadata": {},
   "outputs": [
    {
     "name": "stdout",
     "output_type": "stream",
     "text": [
      "Gurobi Optimizer version 9.5.2 build v9.5.2rc0 (win64)\n",
      "Thread count: 4 physical cores, 8 logical processors, using up to 8 threads\n",
      "Optimize a model with 1307 rows, 499 columns and 7702 nonzeros\n",
      "Model fingerprint: 0x8bb348d7\n",
      "Variable types: 131 continuous, 368 integer (368 binary)\n",
      "Coefficient statistics:\n",
      "  Matrix range     [1e+00, 1e+00]\n",
      "  Objective range  [1e-05, 1e+00]\n",
      "  Bounds range     [1e+00, 1e+00]\n",
      "  RHS range        [1e+00, 4e+00]\n",
      "Presolve removed 721 rows and 227 columns\n",
      "Presolve time: 0.07s\n",
      "Presolved: 586 rows, 272 columns, 3199 nonzeros\n",
      "Variable types: 51 continuous, 221 integer (221 binary)\n",
      "Found heuristic solution: objective 3.5000300\n",
      "\n",
      "Root relaxation: objective 2.277778e-05, 506 iterations, 0.03 seconds (0.01 work units)\n",
      "\n",
      "    Nodes    |    Current Node    |     Objective Bounds      |     Work\n",
      " Expl Unexpl |  Obj  Depth IntInf | Incumbent    BestBd   Gap | It/Node Time\n",
      "\n",
      "     0     0    0.00002    0   99    3.50003    0.00002   100%     -    0s\n",
      "H    0     0                       1.5000300    0.00002   100%     -    0s\n",
      "H    0     0                       1.0000400    0.00003   100%     -    0s\n",
      "H    0     0                       0.5000400    0.00003   100%     -    0s\n",
      "H    0     0                       0.0000400    0.00003  31.2%     -    0s\n",
      "     0     0    0.00003    0  135    0.00004    0.00003  27.1%     -    0s\n",
      "     0     0    0.00003    0  120    0.00004    0.00003  21.5%     -    0s\n",
      "     0     0    0.00003    0   68    0.00004    0.00003  14.9%     -    0s\n",
      "\n",
      "Cutting planes:\n",
      "  Gomory: 3\n",
      "  Implied bound: 3\n",
      "  Clique: 5\n",
      "  MIR: 6\n",
      "  StrongCG: 1\n",
      "  Zero half: 5\n",
      "  RLT: 11\n",
      "\n",
      "Explored 1 nodes (1994 simplex iterations) in 0.64 seconds (0.16 work units)\n",
      "Thread count was 8 (of 8 available processors)\n",
      "\n",
      "Solution count 5: 4e-05 0.50004 1.00004 ... 3.50003\n",
      "\n",
      "Optimal solution found (tolerance 1.00e-04)\n",
      "Best objective 4.000000000000e-05, best bound 4.000000000000e-05, gap 0.0000%\n",
      "2\n"
     ]
    }
   ],
   "source": [
    "m.optimize()\n",
    "print(m.Status)"
   ]
  },
  {
   "cell_type": "code",
   "execution_count": 17,
   "metadata": {},
   "outputs": [
    {
     "name": "stdout",
     "output_type": "stream",
     "text": [
      "x[ 1, 1, 4, 1]=1.0\n",
      "x[ 1, 2, 4, 1]=1.0\n",
      "x[ 1, 3, 1, 3]=1.0\n",
      "x[ 1, 3, 3, 1]=1.0\n",
      "x[ 2, 1, 4, 1]=1.0\n",
      "x[ 2, 2, 3, 1]=1.0\n",
      "x[ 2, 3, 2, 1]=1.0\n",
      "x[ 3, 1, 3, 1]=1.0\n",
      "x[ 3, 2, 3, 1]=1.0\n",
      "x[ 3, 3, 3, 2]=1.0\n",
      "x[ 3, 4, 3, 5]=1.0\n",
      "x[ 4, 1, 2, 1]=1.0\n",
      "x[ 4, 2, 1, 1]=1.0\n",
      "x[ 4, 2, 2, 4]=1.0\n",
      "y[ 1, 3, 1]=1.0\n",
      "y[ 2, 3, 4]=1.0\n",
      "y[ 2, 4, 3]=1.0\n",
      "y[ 4, 1, 2]=1.0\n",
      "the objective function 4e-05\n",
      "VaR= 0.0\n"
     ]
    }
   ],
   "source": [
    "EPS=1.e-6\n",
    "\n",
    "if m.Status == GRB.OPTIMAL:\n",
    "  for (s,h,p,t) in x:\n",
    "    if t==1:\n",
    "      if x[s,h,p,t].X>EPS:\n",
    "        print(\"x[%2s,%2s,%2s,%2s]=%3s\" %(s,h,p,t,x[s,h,p,t].X))\n",
    "\n",
    "    if t>=2:\n",
    "      if (x[s,h,p,t].X-x[s,h,p,t-1].X)>EPS:\n",
    "        print(\"x[%2s,%2s,%2s,%2s]=%3s\" %(s,h,p,t,x[s,h,p,t].X))\n",
    "\n",
    "  for (s,k,t) in y:\n",
    "    if y[s,k,t].X>EPS:\n",
    "      print(\"y[%2s,%2s,%2s]=%3s\" %(s,k,t,y[s,k,t].X))\n",
    "\n",
    "  for (s,h,i) in z:\n",
    "    if z[s,h,i].X>EPS:\n",
    "      print(\"z[%2s,%2s,%2s]=%3s\" %(s,h,i,z[s,h,i].X))\n",
    "  print(\"the objective function\", m.objVal)\n",
    "  print(\"VaR=\",alpha.X)"
   ]
  },
  {
   "cell_type": "code",
   "execution_count": 18,
   "metadata": {},
   "outputs": [
    {
     "data": {
      "text/plain": [
       "[[2, 1, 3, 4],\n",
       " [1, 2, 3, 4],\n",
       " [2, 1, 3, 4],\n",
       " [1, 2, 3, 4],\n",
       " [1, 2, 3, 4],\n",
       " [1, 4, 3, 2],\n",
       " [1, 2, 3, 4],\n",
       " [2, 1, 3, 4],\n",
       " [1, 2, 4, 3],\n",
       " [2, 1, 3, 4]]"
      ]
     },
     "execution_count": 18,
     "metadata": {},
     "output_type": "execute_result"
    }
   ],
   "source": [
    "O"
   ]
  },
  {
   "cell_type": "markdown",
   "metadata": {},
   "source": [
    "## 問題例 13-3 5×5"
   ]
  },
  {
   "cell_type": "code",
   "execution_count": 19,
   "metadata": {},
   "outputs": [],
   "source": [
    "# nと初期配置を変更しなければいけない\n",
    "ship_num=5\n",
    "stack_num=5\n",
    "height=5\n",
    "time = 10\n",
    "\n",
    "O1=[i+1 for i in range(ship_num)]\n",
    "\n",
    "S=[i+1 for i in range(stack_num)]\n",
    "H=[i+1 for i in range(height)]\n",
    "P=[i+1 for i in range(ship_num)]\n",
    "T=[i+1 for i in range(time)]\n",
    "n1=[3,2,2,3,3]\n",
    "# n1=[n_[O1[0]-1],n_[O1[1]-1],n_[O1[2]-1],n_[O1[3]-1]]\n",
    "\n",
    "# S,H,P,T,n1,O"
   ]
  },
  {
   "cell_type": "code",
   "execution_count": 20,
   "metadata": {},
   "outputs": [
    {
     "name": "stderr",
     "output_type": "stream",
     "text": [
      "<ipython-input-20-303977cfcd7f>:22: RuntimeWarning: covariance is not positive-semidefinite.\n",
      "  data_1 = np.random.multivariate_normal(mean, cov, size=size)\n"
     ]
    }
   ],
   "source": [
    "from asyncio.constants import SENDFILE_FALLBACK_READBUFFER_SIZE\n",
    "import random\n",
    "from random import seed\n",
    "import numpy as np\n",
    "from scipy.stats import multivariate_normal\n",
    "\n",
    "np.random.seed(0)\n",
    "\n",
    "# 期待値と分散共分散行列の準備\n",
    "mean = np.arange(1,10,2)\n",
    "cov=np.zeros((ship_num,ship_num))\n",
    "for i in range(ship_num):\n",
    "  for j in range(ship_num):\n",
    "    if i==j:\n",
    "      cov[i][i]=4*np.random.randn()\n",
    "    elif i>j:\n",
    "      cov[i][j]=np.random.randn()\n",
    "      cov[j][i]=cov[i][j]\n",
    "\n",
    "# numpy を用いた生成\n",
    "size=20\n",
    "data_1 = np.random.multivariate_normal(mean, cov, size=size)\n",
    "\n",
    "# print(data_1.shape)\n",
    "\n",
    "# print(np.mean(data_1, axis=0))\n",
    "\n",
    "# print(np.cov(data_1, rowvar=False))\n",
    "\n",
    "# print(data_1)\n",
    "O_=np.argsort(data_1)\n",
    "O_=O_+np.ones((size,ship_num)).astype(int)\n",
    "O=O_.tolist()\n",
    "\n",
    "# data_2 = multivariate_normal(mean, cov).rvs(size=200)\n",
    "\n",
    "# print(data_2.shape)\n",
    "\n",
    "# print(np.mean(data_2, axis=0))\n",
    "\n",
    "# print(np.cov(data_2, rowvar=False))"
   ]
  },
  {
   "cell_type": "code",
   "execution_count": 21,
   "metadata": {},
   "outputs": [
    {
     "data": {
      "text/plain": [
       "{(2, 1, 3, 5, 4): 2,\n",
       " (2, 1, 3, 4, 5): 4,\n",
       " (2, 1, 4, 3, 5): 1,\n",
       " (1, 2, 3, 5, 4): 1,\n",
       " (3, 1, 4, 2, 5): 1,\n",
       " (1, 2, 3, 4, 5): 7,\n",
       " (1, 3, 2, 4, 5): 2,\n",
       " (1, 2, 4, 3, 5): 1,\n",
       " (1, 3, 4, 2, 5): 1}"
      ]
     },
     "execution_count": 21,
     "metadata": {},
     "output_type": "execute_result"
    }
   ],
   "source": [
    "a=[]\n",
    "d={}\n",
    "for i in O:\n",
    "  # print(i)\n",
    "  if not i in a:\n",
    "    a.append(i)\n",
    "for j in a:\n",
    "  d[tuple(j)]=O.count(j)\n",
    "\n",
    "d\n"
   ]
  },
  {
   "cell_type": "code",
   "execution_count": 22,
   "metadata": {},
   "outputs": [],
   "source": [
    "m=Model(\"IP3\")\n",
    "\n",
    "alpha=m.addVar(vtype=\"C\")\n",
    "\n",
    "# 変数の定義\n",
    "x,y,z,w={},{},{},{}\n",
    "for s in S:\n",
    "  for h in H:\n",
    "    for p in P:\n",
    "      for t in T:\n",
    "        x[s,h,p,t]=m.addVar(vtype=\"B\")\n",
    "\n",
    "\n",
    "for s in S:\n",
    "  for k in S:\n",
    "    if s!=k:\n",
    "      for t in T:\n",
    "        if t!=len(T):\n",
    "          y[s,k,t]=m.addVar(vtype=\"B\")\n",
    "\n",
    "\n",
    "for s in S:\n",
    "  for h in range(2,len(H)+1):\n",
    "    for i,o in enumerate(O):\n",
    "      z[s,h,i]=m.addVar(vtype=\"c\",lb=0)\n",
    "\n",
    "for i in range(len(O)):\n",
    "  w[i]=m.addVar(vtype=\"C\",lb=0)\n",
    "\n",
    "# 制約条件\n",
    "for p in P:\n",
    "   for t in T:\n",
    "      m.addConstr(quicksum(x[s,h,p,t] for s in S for h in H)==n1[p-1])\n",
    "\n",
    "for t in range(1,len(T)):\n",
    "   m.addConstr(quicksum(y[s,k,t] for s in S for k in S if k!=s)<=1)\n",
    "\n",
    "for t in range(1,len(T)-1):\n",
    "  m.addConstr(quicksum(y[s,k,t+1] for s in S for k in S if s!=k)<=quicksum(y[s,k,t] for s in S for k in S if k!=s))\n",
    "\n",
    "for s in S:\n",
    "  for t in range(2,len(T)+1):\n",
    "    m.addConstr(quicksum(x[s,1,p,t] for p in P)<=1)\n",
    "\n",
    "for s in S:\n",
    "  for h in range(1,len(H)):\n",
    "    for t in range(2,len(T)+1):\n",
    "      m.addConstr(quicksum(x[s,h+1,p,t] for p in P)<=quicksum(x[s,h,p,t] for p in P))\n",
    "\n",
    "for s in S:\n",
    "  for h in range(1,len(H)):\n",
    "    for p in P:\n",
    "      for t in range(1,len(T)):\n",
    "        m.addConstr(x[s,h,p,t]+quicksum(x[s,h+1,k,t] for k in P)<=1+x[s,h,p,t+1])\n",
    "\n",
    "\n",
    "for s in S:\n",
    "  for h in H:\n",
    "    for p in P:\n",
    "      for t in range(1,len(T)):\n",
    "        m.addConstr(x[s,h,p,t]<=x[s,h,p,t+1]+quicksum(y[s,k,t] for k in S if k!=s))\n",
    "        m.addConstr(x[s,h,p,t+1]<=x[s,h,p,t]+quicksum(y[k,s,t] for k in S if k!=s))\n",
    "\n",
    "for k in S:\n",
    "   for t in range(1,len(T)-1):\n",
    "    m.addConstr(quicksum(y[s,k,t] for s in S if s!=k)+quicksum(y[k,s,t+1] for s in S if s!=k)<=1)\n",
    "\n",
    "for s in S:\n",
    "  for h in range(2,len(H)+1):\n",
    "    for i,o in enumerate(O):\n",
    "      for j,p in enumerate(o):\n",
    "        m.addConstr(z[s,h,i]>=quicksum(x[s,h,k,len(T)] for k in o[j:])-quicksum(x[s,h-1,k,len(T)] for k in o[j:]))\n",
    "\n",
    "for s in S:\n",
    "  for h in range(2,len(H)):\n",
    "    for i in range(len(O)):\n",
    "      m.addConstr(z[s,h,i]<=z[s,h+1,i])\n",
    "\n",
    "for i in range(len(O)):\n",
    "  m.addConstr(w[i]>=quicksum(z[s,h,i] for s in S for h in H if h!=1)-alpha)"
   ]
  },
  {
   "cell_type": "code",
   "execution_count": 23,
   "metadata": {},
   "outputs": [
    {
     "data": {
      "text/plain": [
       "<gurobi.Constr *Awaiting Model Update*>"
      ]
     },
     "execution_count": 23,
     "metadata": {},
     "output_type": "execute_result"
    }
   ],
   "source": [
    "# 初期配置の制約\n",
    "\n",
    "m.addConstr(x[1,1,O1[4],1]==1)\n",
    "m.addConstr(x[1,2,O1[2],1]==1)\n",
    "m.addConstr(x[1,3,O1[0],1]==1)\n",
    "# m.addConstr(x[1,4,O1[3],1]==1)\n",
    "m.addConstr(x[2,1,O1[4],1]==1)\n",
    "m.addConstr(x[2,2,O1[3],1]==1)\n",
    "# m.addConstr(x[2,3,O1[3],1]==1)\n",
    "# m.addConstr(x[2,4,O1[1],1]==1)\n",
    "m.addConstr(x[3,1,O1[3],1]==1)\n",
    "m.addConstr(x[3,2,O1[3],1]==1)\n",
    "m.addConstr(x[3,3,O1[0],1]==1)\n",
    "# m.addConstr(x[3,4,O1[2],1]==1)\n",
    "# m.addConstr(x[3,5,O1[0],1]==1)\n",
    "m.addConstr(x[4,1,O1[4],1]==1)\n",
    "m.addConstr(x[4,2,O1[1],1]==1)\n",
    "m.addConstr(x[4,3,O1[2],1]==1)\n",
    "# m.addConstr(x[4,4,O1[2],1]==1)\n",
    "m.addConstr(x[5,1,O1[1],1]==1)\n",
    "m.addConstr(x[5,2,O1[0],1]==1)\n",
    "# m.addConstr(x[6,1,O1[7],1]==1)\n",
    "# m.addConstr(x[6,2,O1[4],1]==1)\n",
    "# m.addConstr(x[6,3,O1[6],1]==1)\n",
    "# m.addConstr(x[6,4,O1[3],1]==1)"
   ]
  },
  {
   "cell_type": "code",
   "execution_count": 24,
   "metadata": {},
   "outputs": [
    {
     "data": {
      "text/plain": [
       "[3, 2, 2, 3, 3]"
      ]
     },
     "execution_count": 24,
     "metadata": {},
     "output_type": "execute_result"
    }
   ],
   "source": [
    "n1"
   ]
  },
  {
   "cell_type": "code",
   "execution_count": 25,
   "metadata": {},
   "outputs": [],
   "source": [
    "beta=0.8\n",
    "m.setObjective(alpha+10**(-5)*quicksum(y[s,k,t] for s in S for k in S if s!=k for t in range(1,len(T)))+quicksum(w[i] for i in range(len(O)))/((1-beta)*len(O)))"
   ]
  },
  {
   "cell_type": "code",
   "execution_count": 26,
   "metadata": {},
   "outputs": [
    {
     "name": "stdout",
     "output_type": "stream",
     "text": [
      "Gurobi Optimizer version 9.5.2 build v9.5.2rc0 (win64)\n",
      "Thread count: 4 physical cores, 8 logical processors, using up to 8 threads\n",
      "Optimize a model with 5515 rows, 1851 columns and 38348 nonzeros\n",
      "Model fingerprint: 0x97ad3064\n",
      "Variable types: 421 continuous, 1430 integer (1430 binary)\n",
      "Coefficient statistics:\n",
      "  Matrix range     [1e+00, 1e+00]\n",
      "  Objective range  [1e-05, 1e+00]\n",
      "  Bounds range     [1e+00, 1e+00]\n",
      "  RHS range        [1e+00, 3e+00]\n",
      "Presolve removed 1992 rows and 517 columns\n",
      "Presolve time: 0.30s\n",
      "Presolved: 3523 rows, 1334 columns, 23768 nonzeros\n",
      "Variable types: 189 continuous, 1145 integer (1145 binary)\n",
      "Found heuristic solution: objective 2.0000600\n",
      "\n",
      "Root relaxation: objective 2.117647e-05, 3167 iterations, 0.94 seconds (0.67 work units)\n",
      "\n",
      "    Nodes    |    Current Node    |     Objective Bounds      |     Work\n",
      " Expl Unexpl |  Obj  Depth IntInf | Incumbent    BestBd   Gap | It/Node Time\n",
      "\n",
      "     0     0    0.00002    0  217    2.00006    0.00002   100%     -    2s\n",
      "H    0     0                       1.0000900    0.00002   100%     -    2s\n",
      "     0     0    0.00003    0  479    1.00009    0.00003   100%     -    3s\n",
      "     0     0    0.00003    0  458    1.00009    0.00003   100%     -    3s\n",
      "     0     0    0.00003    0  510    1.00009    0.00003   100%     -    4s\n",
      "     0     0    0.00003    0  539    1.00009    0.00003   100%     -    4s\n",
      "     0     0    0.00003    0  584    1.00009    0.00003   100%     -    5s\n",
      "     0     0    0.00003    0  572    1.00009    0.00003   100%     -    6s\n",
      "     0     0    0.00003    0  551    1.00009    0.00003   100%     -    6s\n",
      "     0     0    0.00003    0  551    1.00009    0.00003   100%     -    6s\n",
      "     0     2    0.00003    0  550    1.00009    0.00003   100%     -    8s\n",
      "    15    20    0.00003    5  400    1.00009    0.00003   100%   618   10s\n",
      "    86    97    0.00005   18  280    1.00009    0.00003   100%   536   15s\n",
      "H   98   105                       0.7500800    0.00003   100%   503   15s\n",
      "H  132   137                       0.7500700    0.00003   100%   478   17s\n",
      "   201   206    0.00004    4  374    0.75007    0.00003   100%   427   21s\n",
      "H  223   221                       0.0000800    0.00003  61.2%   412   21s\n",
      "   316   256     cutoff   23         0.00008    0.00003  61.2%   412   25s\n",
      "H  380   249                       0.0000700    0.00003  55.7%   380   27s\n",
      "   485   322     cutoff   42         0.00007    0.00003  55.7%   352   31s\n",
      "   554   375    0.00006   52  255    0.00007    0.00003  55.7%   345   35s\n",
      "   750   544    0.00006   77  232    0.00007    0.00003  55.6%   295   41s\n",
      "   850   580    0.00005    9  235    0.00007    0.00003  55.6%   287   48s\n",
      "   880   631    0.00006   14  213    0.00007    0.00003  55.6%   297   51s\n",
      "   975   664    0.00003   11  291    0.00007    0.00003  55.6%   296   55s\n",
      "  1043   675    0.00005   23  551    0.00007    0.00003  55.6%   297   64s\n",
      "  1045   676    0.00004   16  521    0.00007    0.00003  55.6%   297   68s\n",
      "  1046   677    0.00005   19  214    0.00007    0.00004  48.6%   296   71s\n",
      "  1051   680    0.00004   15  416    0.00007    0.00004  42.8%   295   75s\n",
      "  1055   683    0.00004   13  415    0.00007    0.00004  42.8%   294   80s\n",
      "  1058   685    0.00005   32  447    0.00007    0.00004  42.8%   293   87s\n",
      "  1060   686    0.00005   60  446    0.00007    0.00004  42.8%   293   90s\n",
      "  1061   690    0.00004   13  341    0.00007    0.00004  42.8%   309  102s\n",
      "  1063   691    0.00004   14  261    0.00007    0.00004  42.8%   310  114s\n",
      "  1067   693    0.00004   15  247    0.00007    0.00004  42.8%   310  116s\n",
      "  1079   698    0.00004   16  174    0.00007    0.00004  42.8%   318  120s\n",
      "  1105   709    0.00004   20  156    0.00007    0.00004  42.8%   325  125s\n",
      "  1158   734    0.00005   25  128    0.00007    0.00004  42.8%   341  130s\n",
      "  1244   746    0.00005   32  208    0.00007    0.00004  42.8%   341  135s\n",
      "  1304   745    0.00006   36  228    0.00007    0.00004  42.8%   340  140s\n",
      "  1376   771    0.00006   44  139    0.00007    0.00004  42.8%   350  145s\n",
      "H 1388   733                       0.0000600    0.00004  33.3%   350  147s\n",
      "  1401   734    0.00005   48  166    0.00006    0.00004  33.3%   354  150s\n",
      "  1493   735    0.00005   20  229    0.00006    0.00004  33.3%   354  155s\n",
      "  1528   724    0.00005   24  198    0.00006    0.00004  33.3%   356  160s\n",
      "  1575   701    0.00006   29  273    0.00006    0.00004  33.3%   360  167s\n",
      "  1623   678    0.00005   28  154    0.00006    0.00004  33.3%   362  175s\n",
      "  1711   692    0.00005   29  220    0.00006    0.00004  32.4%   362  181s\n",
      "  1779   713    0.00005   27  331    0.00006    0.00004  32.4%   366  185s\n",
      "  1874   716    0.00005   26  336    0.00006    0.00004  31.1%   368  192s\n",
      "  1936   749    0.00006   41  187    0.00006    0.00004  31.0%   368  197s\n",
      "  1993   740    0.00005   29  291    0.00006    0.00004  31.0%   367  201s\n",
      "  2009   760    0.00005   32  247    0.00006    0.00004  31.0%   372  207s\n",
      "  2036   771    0.00006   37  215    0.00006    0.00004  31.0%   374  210s\n",
      "  2141   781    0.00005   30  355    0.00006    0.00004  30.9%   376  216s\n",
      "  2238   807    0.00004   37  268    0.00006    0.00004  30.8%   381  222s\n",
      "  2303   820    0.00005   47  230    0.00006    0.00004  30.8%   382  225s\n",
      "  2432   859    0.00005   48  283    0.00006    0.00004  30.7%   386  232s\n",
      "  2525   871    0.00006   62  218    0.00006    0.00004  30.3%   384  236s\n",
      "  2627   870    0.00005   23  184    0.00006    0.00004  30.0%   383  240s\n",
      "  2737   901     cutoff   44         0.00006    0.00004  29.9%   382  249s\n",
      "  2802   908    0.00006   38  163    0.00006    0.00004  29.7%   385  252s\n",
      "  2864   904    0.00006   37  236    0.00006    0.00004  29.4%   389  256s\n",
      "  2908   913     cutoff   40         0.00006    0.00004  29.4%   392  261s\n",
      "  2991   902    0.00006   45  156    0.00006    0.00004  29.4%   395  265s\n",
      "  3147   996     cutoff   62         0.00006    0.00004  28.8%   399  274s\n",
      "  3263  1028    0.00005   34  229    0.00006    0.00004  27.8%   399  279s\n",
      "  3377  1098    0.00005   33  240    0.00006    0.00004  27.8%   402  285s\n",
      "  3512  1100    0.00005   31  217    0.00006    0.00004  27.8%   400  302s\n",
      "  3556  1190    0.00005   30  195    0.00006    0.00004  27.8%   400  308s\n",
      "  3702  1211    0.00005   48  228    0.00006    0.00004  27.1%   397  315s\n",
      "  3776  1296    0.00005   32  300    0.00006    0.00004  26.9%   396  321s\n",
      "  3928  1360    0.00006   43  239    0.00006    0.00004  26.7%   395  327s\n",
      "  4060  1379    0.00005   35  252    0.00006    0.00004  26.5%   398  334s\n",
      "  4163  1455    0.00005   46  201    0.00006    0.00004  26.5%   398  342s\n",
      "  4300  1564    0.00006   46  257    0.00006    0.00004  26.2%   398  349s\n",
      "  4473  1638    0.00006   48  183    0.00006    0.00004  26.2%   397  357s\n",
      "  4643  1723     cutoff   50         0.00006    0.00004  26.0%   397  364s\n",
      "  4791  1813     cutoff   39         0.00006    0.00004  25.8%   399  372s\n",
      "  4959  1859    0.00006   47  251    0.00006    0.00004  25.4%   401  381s\n",
      "  5067  1959    0.00006   51  158    0.00006    0.00004  25.1%   400  389s\n",
      "  5237  2029     cutoff   57         0.00006    0.00004  25.0%   401  399s\n",
      "  5413  2152     cutoff   43         0.00006    0.00005  25.0%   403  409s\n",
      "  5613  2243     cutoff   31         0.00006    0.00005  24.9%   403  419s\n",
      "  5828  2333    0.00005   40  225    0.00006    0.00005  24.8%   403  427s\n",
      "  6035  2387    0.00005   49  235    0.00006    0.00005  24.8%   405  436s\n",
      "  6259  2461    0.00006   57  202    0.00006    0.00005  24.6%   406  447s\n",
      "  6464  2553    0.00005   32  121    0.00006    0.00005  24.4%   407  460s\n",
      "  6667  2658    0.00005   37  332    0.00006    0.00005  24.3%   407  473s\n",
      "  6871  2771     cutoff   54         0.00006    0.00005  24.2%   408  486s\n",
      "  7128  2958    0.00005   30  300    0.00006    0.00005  23.9%   409  499s\n",
      "  7459  3068    0.00006   60  176    0.00006    0.00005  23.5%   407  514s\n",
      "  7695  3172    0.00005   41  309    0.00006    0.00005  23.3%   406  530s\n",
      "  8025  3231    0.00005   50  224    0.00006    0.00005  23.0%   407  545s\n",
      "  8277  3337    0.00005   45  304    0.00006    0.00005  22.7%   410  561s\n",
      "  8574  3431    0.00005   40  137    0.00006    0.00005  22.6%   412  572s\n",
      "* 8830   535              48       0.0000500    0.00005  7.01%   414  572s\n",
      "  8861   319     cutoff   46         0.00005    0.00005  6.86%   414  582s\n",
      "  9042   220     cutoff   40         0.00005    0.00005  5.92%   422  594s\n",
      "  9192   138     cutoff   40         0.00005    0.00005  5.00%   431  606s\n",
      "  9296     7     cutoff   35         0.00005    0.00005  3.47%   439  616s\n",
      "\n",
      "Cutting planes:\n",
      "  Gomory: 3\n",
      "  Cover: 9\n",
      "  Implied bound: 21\n",
      "  Clique: 6\n",
      "  MIR: 117\n",
      "  StrongCG: 11\n",
      "  Flow cover: 226\n",
      "  Inf proof: 2\n",
      "  Zero half: 14\n",
      "  RLT: 7\n",
      "\n",
      "Explored 9457 nodes (4253906 simplex iterations) in 617.42 seconds (489.28 work units)\n",
      "Thread count was 8 (of 8 available processors)\n",
      "\n",
      "Solution count 8: 5e-05 6e-05 7e-05 ... 2.00006\n",
      "\n",
      "Optimal solution found (tolerance 1.00e-04)\n",
      "Best objective 5.000000000000e-05, best bound 5.000000000000e-05, gap 0.0000%\n",
      "2\n"
     ]
    }
   ],
   "source": [
    "m.optimize()\n",
    "print(m.Status)"
   ]
  },
  {
   "cell_type": "code",
   "execution_count": 27,
   "metadata": {},
   "outputs": [
    {
     "name": "stdout",
     "output_type": "stream",
     "text": [
      "x[ 1, 1, 5, 1]=1.0\n",
      "x[ 1, 2, 3, 1]=1.0\n",
      "x[ 1, 3, 1, 1]=1.0\n",
      "x[ 1, 3, 3, 4]=1.0\n",
      "x[ 2, 1, 5, 1]=1.0\n",
      "x[ 2, 2, 4, 1]=1.0\n",
      "x[ 3, 1, 4, 1]=1.0\n",
      "x[ 3, 2, 4, 1]=1.0\n",
      "x[ 3, 3, 1, 1]=1.0\n",
      "x[ 3, 4, 1, 2]=1.0\n",
      "x[ 3, 5, 1, 3]=1.0\n",
      "x[ 4, 1, 5, 1]=1.0\n",
      "x[ 4, 2, 2, 1]=1.0\n",
      "x[ 4, 3, 2, 5]=1.0\n",
      "x[ 4, 3, 3, 1]=1.0\n",
      "x[ 5, 1, 2, 1]=1.0\n",
      "x[ 5, 1, 4, 6]=1.0\n",
      "x[ 5, 2, 1, 1]=1.0\n",
      "y[ 1, 3, 1]=1.0\n",
      "y[ 2, 5, 5]=1.0\n",
      "y[ 4, 1, 3]=1.0\n",
      "y[ 5, 3, 2]=1.0\n",
      "y[ 5, 4, 4]=1.0\n",
      "the objective function 5.000000000000001e-05\n",
      "VaR= 0.0\n"
     ]
    }
   ],
   "source": [
    "EPS=1.e-6\n",
    "\n",
    "if m.Status == GRB.OPTIMAL:\n",
    "  for (s,h,p,t) in x:\n",
    "    if t==1:\n",
    "      if x[s,h,p,t].X>EPS:\n",
    "        print(\"x[%2s,%2s,%2s,%2s]=%3s\" %(s,h,p,t,x[s,h,p,t].X))\n",
    "\n",
    "    if t>=2:\n",
    "      if (x[s,h,p,t].X-x[s,h,p,t-1].X)>EPS:\n",
    "        print(\"x[%2s,%2s,%2s,%2s]=%3s\" %(s,h,p,t,x[s,h,p,t].X))\n",
    "\n",
    "  for (s,k,t) in y:\n",
    "    if y[s,k,t].X>EPS:\n",
    "      print(\"y[%2s,%2s,%2s]=%3s\" %(s,k,t,y[s,k,t].X))\n",
    "\n",
    "  for (s,h,i) in z:\n",
    "    if z[s,h,i].X>EPS:\n",
    "      print(\"z[%2s,%2s,%2s]=%3s\" %(s,h,i,z[s,h,i].X))\n",
    "  print(\"the objective function\", m.objVal)\n",
    "  print(\"VaR=\",alpha.X)"
   ]
  },
  {
   "cell_type": "code",
   "execution_count": null,
   "metadata": {},
   "outputs": [],
   "source": []
  }
 ],
 "metadata": {
  "kernelspec": {
   "display_name": "Python 3.8.3",
   "language": "python",
   "name": "python3"
  },
  "language_info": {
   "codemirror_mode": {
    "name": "ipython",
    "version": 3
   },
   "file_extension": ".py",
   "mimetype": "text/x-python",
   "name": "python",
   "nbconvert_exporter": "python",
   "pygments_lexer": "ipython3",
   "version": "3.8.3"
  },
  "orig_nbformat": 4,
  "vscode": {
   "interpreter": {
    "hash": "339b61edfe2862de78527346fab7b54ea336c8710f2c1713032939182b3058a7"
   }
  }
 },
 "nbformat": 4,
 "nbformat_minor": 2
}
