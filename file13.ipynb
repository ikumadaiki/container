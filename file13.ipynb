{
 "cells": [
  {
   "cell_type": "code",
   "execution_count": null,
   "metadata": {},
   "outputs": [],
   "source": [
    "# !pip install gurobipy"
   ]
  },
  {
   "cell_type": "code",
   "execution_count": 5,
   "metadata": {},
   "outputs": [],
   "source": [
    "from gurobipy import *"
   ]
  },
  {
   "cell_type": "markdown",
   "metadata": {},
   "source": [
    "## 問題例13-1 CVaR"
   ]
  },
  {
   "cell_type": "code",
   "execution_count": 2,
   "metadata": {},
   "outputs": [
    {
     "data": {
      "text/plain": [
       "([1, 2], [1, 2], [1, 2, 3], [1, 2, 3], [1, 1, 1])"
      ]
     },
     "execution_count": 2,
     "metadata": {},
     "output_type": "execute_result"
    }
   ],
   "source": [
    "# nと初期配置を変更しなければいけない\n",
    "\n",
    "O1=[1,2,3]\n",
    "\n",
    "S=[i for i in range(1,3)]\n",
    "H=[i for i in range(1,3)]\n",
    "P=[i for i in range(1,4)]\n",
    "T=[i for i in range(1,4)]\n",
    "n_=[1,1,1]\n",
    "n1=[n_[O1[0]-1],n_[O1[1]-1],n_[O1[2]-1]]\n",
    "\n",
    "S,H,P,T,n1"
   ]
  },
  {
   "cell_type": "code",
   "execution_count": 3,
   "metadata": {},
   "outputs": [],
   "source": [
    "O=[\n",
    "  [1,2,3],\n",
    "  [1,2,3],\n",
    "  [1,2,3],\n",
    "  [1,2,3],\n",
    "  [1,2,3],\n",
    "  [1,2,3],\n",
    "  [2,1,3],\n",
    "  [2,1,3],\n",
    "  [2,1,3],\n",
    "  [3,1,2]\n",
    "]"
   ]
  },
  {
   "cell_type": "code",
   "execution_count": 4,
   "metadata": {},
   "outputs": [
    {
     "name": "stdout",
     "output_type": "stream",
     "text": [
      "Restricted license - for non-production use only - expires 2023-10-25\n"
     ]
    }
   ],
   "source": [
    "m=Model(\"IP3\")\n",
    "\n",
    "alpha=m.addVar(vtype=\"C\")\n",
    "\n",
    "# 変数の定義\n",
    "x,y,z,w={},{},{},{}\n",
    "for s in S:\n",
    "  for h in H:\n",
    "    for p in P:\n",
    "      for t in T:\n",
    "        x[s,h,p,t]=m.addVar(vtype=\"B\")\n",
    "\n",
    "\n",
    "for s in S:\n",
    "  for k in S:\n",
    "    if s!=k:\n",
    "      for t in T:\n",
    "        if t!=len(T):\n",
    "          y[s,k,t]=m.addVar(vtype=\"B\")\n",
    "\n",
    "\n",
    "for s in S:\n",
    "  for h in range(2,len(H)+1):\n",
    "    for i,o in enumerate(O):\n",
    "      z[s,h,i]=m.addVar(vtype=\"c\",lb=0)\n",
    "\n",
    "for i in range(len(O)):\n",
    "  w[i]=m.addVar(vtype=\"C\",lb=0)\n",
    "\n",
    "# 制約条件\n",
    "for p in P:\n",
    "   for t in T:\n",
    "      m.addConstr(quicksum(x[s,h,p,t] for s in S for h in H)==n1[p-1])\n",
    "\n",
    "for t in range(1,len(T)):\n",
    "   m.addConstr(quicksum(y[s,k,t] for s in S for k in S if k!=s)<=1)\n",
    "\n",
    "for t in range(1,len(T)-1):\n",
    "  m.addConstr(quicksum(y[s,k,t+1] for s in S for k in S if s!=k)<=quicksum(y[s,k,t] for s in S for k in S if k!=s))\n",
    "\n",
    "for s in S:\n",
    "  for t in range(2,len(T)+1):\n",
    "    m.addConstr(quicksum(x[s,1,p,t] for p in P)<=1)\n",
    "\n",
    "for s in S:\n",
    "  for h in range(1,len(H)):\n",
    "    for t in range(2,len(T)+1):\n",
    "      m.addConstr(quicksum(x[s,h+1,p,t] for p in P)<=quicksum(x[s,h,p,t] for p in P))\n",
    "\n",
    "for s in S:\n",
    "  for h in range(1,len(H)):\n",
    "    for p in P:\n",
    "      for t in range(1,len(T)):\n",
    "        m.addConstr(x[s,h,p,t]+quicksum(x[s,h+1,k,t] for k in P)<=1+x[s,h,p,t+1])\n",
    "\n",
    "\n",
    "for s in S:\n",
    "  for h in H:\n",
    "    for p in P:\n",
    "      for t in range(1,len(T)):\n",
    "        m.addConstr(x[s,h,p,t]<=x[s,h,p,t+1]+quicksum(y[s,k,t] for k in S if k!=s))\n",
    "        m.addConstr(x[s,h,p,t+1]<=x[s,h,p,t]+quicksum(y[k,s,t] for k in S if k!=s))\n",
    "\n",
    "for k in S:\n",
    "   for t in range(1,len(T)-1):\n",
    "    m.addConstr(quicksum(y[s,k,t] for s in S if s!=k)+quicksum(y[k,s,t+1] for s in S if s!=k)<=1)\n",
    "\n",
    "for s in S:\n",
    "  for h in range(2,len(H)+1):\n",
    "    for i,o in enumerate(O):\n",
    "      for j,p in enumerate(o):\n",
    "        m.addConstr(z[s,h,i]>=quicksum(x[s,h,k,len(T)] for k in o[j:])-quicksum(x[s,h-1,k,len(T)] for k in o[j:]))\n",
    "\n",
    "for i in range(len(O)):\n",
    "  m.addConstr(w[i]>=quicksum(z[s,h,i] for s in S for h in H if h!=1)-alpha)"
   ]
  },
  {
   "cell_type": "code",
   "execution_count": 5,
   "metadata": {},
   "outputs": [
    {
     "data": {
      "text/plain": [
       "<gurobi.Constr *Awaiting Model Update*>"
      ]
     },
     "execution_count": 5,
     "metadata": {},
     "output_type": "execute_result"
    }
   ],
   "source": [
    "# 初期配置の制約\n",
    "\n",
    "m.addConstr(x[1,1,O1[1],1]==1)\n",
    "m.addConstr(x[1,2,O1[0],1]==1)\n",
    "m.addConstr(x[2,1,O1[2],1]==1)"
   ]
  },
  {
   "cell_type": "code",
   "execution_count": 6,
   "metadata": {},
   "outputs": [],
   "source": [
    "beta=0.7\n",
    "m.setObjective(alpha+10**(-5)*quicksum(y[s,k,t] for s in S for k in S if s!=k for t in range(1,len(T)))+quicksum(w[i] for i in range(len(O)))/((1-beta)*len(O)))"
   ]
  },
  {
   "cell_type": "code",
   "execution_count": 7,
   "metadata": {},
   "outputs": [
    {
     "name": "stdout",
     "output_type": "stream",
     "text": [
      "Gurobi Optimizer version 9.5.2 build v9.5.2rc0 (linux64)\n",
      "Thread count: 8 physical cores, 16 logical processors, using up to 16 threads\n",
      "Optimize a model with 155 rows, 71 columns and 631 nonzeros\n",
      "Model fingerprint: 0x25bcc5fe\n",
      "Variable types: 31 continuous, 40 integer (40 binary)\n",
      "Coefficient statistics:\n",
      "  Matrix range     [1e+00, 1e+00]\n",
      "  Objective range  [1e-05, 1e+00]\n",
      "  Bounds range     [1e+00, 1e+00]\n",
      "  RHS range        [1e+00, 1e+00]\n",
      "Found heuristic solution: objective 0.3333433\n",
      "Presolve removed 151 rows and 67 columns\n",
      "Presolve time: 0.03s\n",
      "Presolved: 4 rows, 4 columns, 8 nonzeros\n",
      "Variable types: 3 continuous, 1 integer (1 binary)\n",
      "\n",
      "Root relaxation: cutoff, 2 iterations, 0.00 seconds (0.00 work units)\n",
      "\n",
      "    Nodes    |    Current Node    |     Objective Bounds      |     Work\n",
      " Expl Unexpl |  Obj  Depth IntInf | Incumbent    BestBd   Gap | It/Node Time\n",
      "\n",
      "     0     0     cutoff    0         0.33334    0.33334  0.00%     -    0s\n",
      "\n",
      "Explored 1 nodes (2 simplex iterations) in 0.06 seconds (0.00 work units)\n",
      "Thread count was 16 (of 16 available processors)\n",
      "\n",
      "Solution count 1: 0.333343 \n",
      "\n",
      "Optimal solution found (tolerance 1.00e-04)\n",
      "Best objective 3.333433333333e-01, best bound 3.333433333333e-01, gap 0.0000%\n",
      "2\n"
     ]
    }
   ],
   "source": [
    "m.optimize()\n",
    "print(m.Status)"
   ]
  },
  {
   "cell_type": "code",
   "execution_count": 8,
   "metadata": {},
   "outputs": [
    {
     "name": "stdout",
     "output_type": "stream",
     "text": [
      "x[ 1, 1, 2, 1]=1.0\n",
      "x[ 1, 2, 1, 1]=1.0\n",
      "x[ 2, 1, 3, 1]=1.0\n",
      "x[ 2, 2, 1, 2]=1.0\n",
      "y[ 1, 2, 1]=1.0\n",
      "z[ 2, 2, 9]=1.0\n",
      "the objective function 0.33334333333333327\n",
      "VaR= 0.0\n"
     ]
    }
   ],
   "source": [
    "EPS=1.e-6\n",
    "\n",
    "if m.Status == GRB.OPTIMAL:\n",
    "  for (s,h,p,t) in x:\n",
    "    if t==1:\n",
    "      if x[s,h,p,t].X>EPS:\n",
    "        print(\"x[%2s,%2s,%2s,%2s]=%3s\" %(s,h,p,t,x[s,h,p,t].X))\n",
    "\n",
    "    if t>=2:\n",
    "      if (x[s,h,p,t].X-x[s,h,p,t-1].X)>EPS:\n",
    "        print(\"x[%2s,%2s,%2s,%2s]=%3s\" %(s,h,p,t,x[s,h,p,t].X))\n",
    "\n",
    "  for (s,k,t) in y:\n",
    "    if y[s,k,t].X>EPS:\n",
    "      print(\"y[%2s,%2s,%2s]=%3s\" %(s,k,t,y[s,k,t].X))\n",
    "\n",
    "  for (s,h,i) in z:\n",
    "    if z[s,h,i].X>EPS:\n",
    "      print(\"z[%2s,%2s,%2s]=%3s\" %(s,h,i,z[s,h,i].X))\n",
    "  print(\"the objective function\", m.objVal)\n",
    "  print(\"VaR=\",alpha.X)"
   ]
  },
  {
   "cell_type": "markdown",
   "metadata": {},
   "source": [
    "## 問題例13-2 CVaRの頑健性"
   ]
  },
  {
   "cell_type": "code",
   "execution_count": 9,
   "metadata": {},
   "outputs": [],
   "source": [
    "# nと初期配置を変更しなければいけない\n",
    "\n",
    "O1=[1,2,3,4]\n",
    "\n",
    "S=[i for i in range(1,5)]\n",
    "H=[i for i in range(1,5)]\n",
    "P=[i for i in range(1,5)]\n",
    "T=[i for i in range(1,6)]\n",
    "n_=[1,2,4,3]\n",
    "n1=[n_[O1[0]-1],n_[O1[1]-1],n_[O1[2]-1],n_[O1[3]-1]]\n",
    "\n",
    "# S,H,P,T,n1,O"
   ]
  },
  {
   "cell_type": "code",
   "execution_count": 10,
   "metadata": {},
   "outputs": [
    {
     "name": "stderr",
     "output_type": "stream",
     "text": [
      "/tmp/ipykernel_4489/966125079.py:18: RuntimeWarning: covariance is not positive-semidefinite.\n",
      "  data_1 = np.random.multivariate_normal(mean, cov, size=size)\n"
     ]
    },
    {
     "data": {
      "text/plain": [
       "[[2, 1, 3, 4],\n",
       " [1, 2, 3, 4],\n",
       " [2, 1, 3, 4],\n",
       " [1, 2, 3, 4],\n",
       " [1, 2, 3, 4],\n",
       " [1, 4, 3, 2],\n",
       " [1, 2, 3, 4],\n",
       " [2, 1, 3, 4],\n",
       " [1, 2, 4, 3],\n",
       " [2, 1, 3, 4]]"
      ]
     },
     "execution_count": 10,
     "metadata": {},
     "output_type": "execute_result"
    }
   ],
   "source": [
    "from asyncio.constants import SENDFILE_FALLBACK_READBUFFER_SIZE\n",
    "import random\n",
    "from random import seed\n",
    "import numpy as np\n",
    "from scipy.stats import multivariate_normal\n",
    "\n",
    "np.random.seed(0)\n",
    "\n",
    "# 期待値と分散共分散行列の準備\n",
    "mean = np.array([1, 3, 5, 7])\n",
    "cov = np.array([[2.5,1.2,-1.3,0.6],\n",
    "               [1.2,3,1.5,-2.0],\n",
    "               [-1.3,1.5,2,0.9],\n",
    "               [0.6,-2.0,0.9,1.5]])\n",
    "\n",
    "# numpy を用いた生成\n",
    "size=10\n",
    "data_1 = np.random.multivariate_normal(mean, cov, size=size)\n",
    "\n",
    "# print(data_1.shape)\n",
    "\n",
    "# print(np.mean(data_1, axis=0))\n",
    "\n",
    "# print(np.cov(data_1, rowvar=False))\n",
    "\n",
    "# print(data_1)\n",
    "O_=np.argsort(data_1)\n",
    "O_=O_+np.ones((size,4)).astype(int)\n",
    "O=O_.tolist()\n",
    "\n",
    "# data_2 = multivariate_normal(mean, cov).rvs(size=200)\n",
    "\n",
    "# print(data_2.shape)\n",
    "\n",
    "# print(np.mean(data_2, axis=0))\n",
    "\n",
    "# print(np.cov(data_2, rowvar=False))\n",
    "O"
   ]
  },
  {
   "cell_type": "code",
   "execution_count": 11,
   "metadata": {},
   "outputs": [
    {
     "data": {
      "text/plain": [
       "{(2, 1, 3, 4): 4, (1, 2, 3, 4): 4, (1, 4, 3, 2): 1, (1, 2, 4, 3): 1}"
      ]
     },
     "execution_count": 11,
     "metadata": {},
     "output_type": "execute_result"
    }
   ],
   "source": [
    "a=[]\n",
    "d={}\n",
    "for i in O:\n",
    "  # print(i)\n",
    "  if not i in a:\n",
    "    a.append(i)\n",
    "for j in a:\n",
    "  d[tuple(j)]=O.count(j)\n",
    "\n",
    "d\n"
   ]
  },
  {
   "cell_type": "code",
   "execution_count": 12,
   "metadata": {},
   "outputs": [],
   "source": [
    "m=Model(\"IP3\")\n",
    "\n",
    "alpha=m.addVar(vtype=\"C\")\n",
    "\n",
    "# 変数の定義\n",
    "x,y,z,w={},{},{},{}\n",
    "for s in S:\n",
    "  for h in H:\n",
    "    for p in P:\n",
    "      for t in T:\n",
    "        x[s,h,p,t]=m.addVar(vtype=\"B\")\n",
    "\n",
    "\n",
    "for s in S:\n",
    "  for k in S:\n",
    "    if s!=k:\n",
    "      for t in T:\n",
    "        if t!=len(T):\n",
    "          y[s,k,t]=m.addVar(vtype=\"B\")\n",
    "\n",
    "\n",
    "for s in S:\n",
    "  for h in range(2,len(H)+1):\n",
    "    for i,o in enumerate(O):\n",
    "      z[s,h,i]=m.addVar(vtype=\"c\",lb=0)\n",
    "\n",
    "for i in range(len(O)):\n",
    "  w[i]=m.addVar(vtype=\"C\",lb=0)\n",
    "\n",
    "# 制約条件\n",
    "for p in P:\n",
    "   for t in T:\n",
    "      m.addConstr(quicksum(x[s,h,p,t] for s in S for h in H)==n1[p-1])\n",
    "\n",
    "for t in range(1,len(T)):\n",
    "   m.addConstr(quicksum(y[s,k,t] for s in S for k in S if k!=s)<=1)\n",
    "\n",
    "for t in range(1,len(T)-1):\n",
    "  m.addConstr(quicksum(y[s,k,t+1] for s in S for k in S if s!=k)<=quicksum(y[s,k,t] for s in S for k in S if k!=s))\n",
    "\n",
    "for s in S:\n",
    "  for t in range(2,len(T)+1):\n",
    "    m.addConstr(quicksum(x[s,1,p,t] for p in P)<=1)\n",
    "\n",
    "for s in S:\n",
    "  for h in range(1,len(H)):\n",
    "    for t in range(2,len(T)+1):\n",
    "      m.addConstr(quicksum(x[s,h+1,p,t] for p in P)<=quicksum(x[s,h,p,t] for p in P))\n",
    "\n",
    "for s in S:\n",
    "  for h in range(1,len(H)):\n",
    "    for p in P:\n",
    "      for t in range(1,len(T)):\n",
    "        m.addConstr(x[s,h,p,t]+quicksum(x[s,h+1,k,t] for k in P)<=1+x[s,h,p,t+1])\n",
    "\n",
    "\n",
    "for s in S:\n",
    "  for h in H:\n",
    "    for p in P:\n",
    "      for t in range(1,len(T)):\n",
    "        m.addConstr(x[s,h,p,t]<=x[s,h,p,t+1]+quicksum(y[s,k,t] for k in S if k!=s))\n",
    "        m.addConstr(x[s,h,p,t+1]<=x[s,h,p,t]+quicksum(y[k,s,t] for k in S if k!=s))\n",
    "\n",
    "for k in S:\n",
    "   for t in range(1,len(T)-1):\n",
    "    m.addConstr(quicksum(y[s,k,t] for s in S if s!=k)+quicksum(y[k,s,t+1] for s in S if s!=k)<=1)\n",
    "\n",
    "for s in S:\n",
    "  for h in range(2,len(H)+1):\n",
    "    for i,o in enumerate(O):\n",
    "      for j,p in enumerate(o):\n",
    "        m.addConstr(z[s,h,i]>=quicksum(x[s,h,k,len(T)] for k in o[j:])-quicksum(x[s,h-1,k,len(T)] for k in o[j:]))\n",
    "\n",
    "for i in range(len(O)):\n",
    "  m.addConstr(w[i]>=quicksum(z[s,h,i] for s in S for h in H if h!=1)-alpha)"
   ]
  },
  {
   "cell_type": "code",
   "execution_count": 13,
   "metadata": {},
   "outputs": [],
   "source": [
    "m=Model(\"IP3\")\n",
    "\n",
    "alpha=m.addVar(vtype=\"C\")\n",
    "\n",
    "# 変数の定義\n",
    "x,y,z,w={},{},{},{}\n",
    "for s in S:\n",
    "  for h in H:\n",
    "    for p in P:\n",
    "      for t in T:\n",
    "        x[s,h,p,t]=m.addVar(vtype=\"B\")\n",
    "\n",
    "\n",
    "for s in S:\n",
    "  for k in S:\n",
    "    if s!=k:\n",
    "      for t in T:\n",
    "        if t!=len(T):\n",
    "          y[s,k,t]=m.addVar(vtype=\"B\")\n",
    "\n",
    "\n",
    "for s in S:\n",
    "  for h in range(2,len(H)+1):\n",
    "    for i,o in enumerate(O):\n",
    "      z[s,h,i]=m.addVar(vtype=\"c\",lb=0)\n",
    "\n",
    "for i in range(len(O)):\n",
    "  w[i]=m.addVar(vtype=\"C\",lb=0)\n",
    "\n",
    "# 制約条件\n",
    "for p in P:\n",
    "   for t in T:\n",
    "      m.addConstr(quicksum(x[s,h,p,t] for s in S for h in H)==n1[p-1])\n",
    "\n",
    "for t in range(1,len(T)):\n",
    "   m.addConstr(quicksum(y[s,k,t] for s in S for k in S if k!=s)<=1)\n",
    "\n",
    "for t in range(1,len(T)-1):\n",
    "  m.addConstr(quicksum(y[s,k,t+1] for s in S for k in S if s!=k)<=quicksum(y[s,k,t] for s in S for k in S if k!=s))\n",
    "\n",
    "for s in S:\n",
    "  for t in range(2,len(T)+1):\n",
    "    m.addConstr(quicksum(x[s,1,p,t] for p in P)<=1)\n",
    "\n",
    "for s in S:\n",
    "  for h in range(1,len(H)):\n",
    "    for t in range(2,len(T)+1):\n",
    "      m.addConstr(quicksum(x[s,h+1,p,t] for p in P)<=quicksum(x[s,h,p,t] for p in P))\n",
    "\n",
    "for s in S:\n",
    "  for h in range(1,len(H)):\n",
    "    for p in P:\n",
    "      for t in range(1,len(T)):\n",
    "        m.addConstr(x[s,h,p,t]+quicksum(x[s,h+1,k,t] for k in P)<=1+x[s,h,p,t+1])\n",
    "\n",
    "\n",
    "for s in S:\n",
    "  for h in H:\n",
    "    for p in P:\n",
    "      for t in range(1,len(T)):\n",
    "        m.addConstr(x[s,h,p,t]<=x[s,h,p,t+1]+quicksum(y[s,k,t] for k in S if k!=s))\n",
    "        m.addConstr(x[s,h,p,t+1]<=x[s,h,p,t]+quicksum(y[k,s,t] for k in S if k!=s))\n",
    "\n",
    "for k in S:\n",
    "   for t in range(1,len(T)-1):\n",
    "    m.addConstr(quicksum(y[s,k,t] for s in S if s!=k)+quicksum(y[k,s,t+1] for s in S if s!=k)<=1)\n",
    "\n",
    "for s in S:\n",
    "  for h in range(2,len(H)+1):\n",
    "    for i,o in enumerate(O):\n",
    "      for j,p in enumerate(o):\n",
    "        m.addConstr(z[s,h,i]>=quicksum(x[s,h,k,len(T)] for k in o[j:])-quicksum(x[s,h-1,k,len(T)] for k in o[j:]))\n",
    "\n",
    "for i in range(len(O)):\n",
    "  m.addConstr(w[i]>=quicksum(z[s,h,i] for s in S for h in H if h!=1)-alpha)"
   ]
  },
  {
   "cell_type": "code",
   "execution_count": 14,
   "metadata": {},
   "outputs": [
    {
     "data": {
      "text/plain": [
       "<gurobi.Constr *Awaiting Model Update*>"
      ]
     },
     "execution_count": 14,
     "metadata": {},
     "output_type": "execute_result"
    }
   ],
   "source": [
    "# 初期配置の制約\n",
    "\n",
    "m.addConstr(x[1,1,O1[3],1]==1)\n",
    "m.addConstr(x[1,2,O1[3],1]==1)\n",
    "m.addConstr(x[1,3,O1[2],1]==1)\n",
    "m.addConstr(x[2,1,O1[3],1]==1)\n",
    "m.addConstr(x[2,2,O1[2],1]==1)\n",
    "m.addConstr(x[2,3,O1[1],1]==1)\n",
    "m.addConstr(x[3,1,O1[2],1]==1)\n",
    "m.addConstr(x[3,2,O1[2],1]==1)\n",
    "m.addConstr(x[4,1,O1[1],1]==1)\n",
    "m.addConstr(x[4,2,O1[0],1]==1)"
   ]
  },
  {
   "cell_type": "code",
   "execution_count": 15,
   "metadata": {},
   "outputs": [],
   "source": [
    "beta=0.8\n",
    "m.setObjective(alpha+10**(-5)*quicksum(y[s,k,t] for s in S for k in S if s!=k for t in range(1,len(T)))+quicksum(w[i] for i in range(len(O)))/((1-beta)*len(O)))"
   ]
  },
  {
   "cell_type": "code",
   "execution_count": 16,
   "metadata": {},
   "outputs": [
    {
     "name": "stdout",
     "output_type": "stream",
     "text": [
      "Gurobi Optimizer version 9.5.2 build v9.5.2rc0 (linux64)\n",
      "Thread count: 8 physical cores, 16 logical processors, using up to 16 threads\n",
      "Optimize a model with 1307 rows, 499 columns and 7702 nonzeros\n",
      "Model fingerprint: 0x8bb348d7\n",
      "Variable types: 131 continuous, 368 integer (368 binary)\n",
      "Coefficient statistics:\n",
      "  Matrix range     [1e+00, 1e+00]\n",
      "  Objective range  [1e-05, 1e+00]\n",
      "  Bounds range     [1e+00, 1e+00]\n",
      "  RHS range        [1e+00, 4e+00]\n",
      "Presolve removed 721 rows and 227 columns\n",
      "Presolve time: 0.03s\n",
      "Presolved: 586 rows, 272 columns, 3199 nonzeros\n",
      "Variable types: 51 continuous, 221 integer (221 binary)\n",
      "Found heuristic solution: objective 3.5000300\n",
      "\n",
      "Root relaxation: objective 2.268206e-05, 501 iterations, 0.02 seconds (0.01 work units)\n",
      "\n",
      "    Nodes    |    Current Node    |     Objective Bounds      |     Work\n",
      " Expl Unexpl |  Obj  Depth IntInf | Incumbent    BestBd   Gap | It/Node Time\n",
      "\n",
      "     0     0    0.00002    0  107    3.50003    0.00002   100%     -    0s\n",
      "H    0     0                       2.5000300    0.00002   100%     -    0s\n",
      "H    0     0                       1.5000400    0.00002   100%     -    0s\n",
      "H    0     0                       0.0000400    0.00003  33.7%     -    0s\n",
      "     0     0    0.00003    0  141    0.00004    0.00003  29.7%     -    0s\n",
      "     0     0    0.00004    0   74    0.00004    0.00004  0.00%     -    0s\n",
      "\n",
      "Cutting planes:\n",
      "  Gomory: 21\n",
      "  Implied bound: 4\n",
      "  Clique: 2\n",
      "  MIR: 13\n",
      "  Zero half: 22\n",
      "  RLT: 10\n",
      "  Relax-and-lift: 1\n",
      "\n",
      "Explored 1 nodes (1417 simplex iterations) in 0.19 seconds (0.13 work units)\n",
      "Thread count was 16 (of 16 available processors)\n",
      "\n",
      "Solution count 4: 4e-05 1.50004 2.50003 3.50003 \n",
      "\n",
      "Optimal solution found (tolerance 1.00e-04)\n",
      "Best objective 4.000000000000e-05, best bound 4.000000000000e-05, gap 0.0000%\n",
      "2\n"
     ]
    }
   ],
   "source": [
    "m.optimize()\n",
    "print(m.Status)"
   ]
  },
  {
   "cell_type": "code",
   "execution_count": 17,
   "metadata": {},
   "outputs": [
    {
     "name": "stdout",
     "output_type": "stream",
     "text": [
      "x[ 1, 1, 4, 1]=1.0\n",
      "x[ 1, 2, 4, 1]=1.0\n",
      "x[ 1, 3, 1, 3]=1.0\n",
      "x[ 1, 3, 3, 1]=1.0\n",
      "x[ 2, 1, 4, 1]=1.0\n",
      "x[ 2, 2, 3, 1]=1.0\n",
      "x[ 2, 3, 2, 1]=1.0\n",
      "x[ 3, 1, 3, 1]=1.0\n",
      "x[ 3, 2, 3, 1]=1.0\n",
      "x[ 3, 3, 3, 2]=1.0\n",
      "x[ 3, 4, 3, 5]=1.0\n",
      "x[ 4, 1, 2, 1]=1.0\n",
      "x[ 4, 2, 1, 1]=1.0\n",
      "x[ 4, 2, 2, 4]=1.0\n",
      "y[ 1, 3, 1]=1.0\n",
      "y[ 2, 3, 4]=1.0\n",
      "y[ 2, 4, 3]=1.0\n",
      "y[ 4, 1, 2]=1.0\n",
      "the objective function 4e-05\n",
      "VaR= 0.0\n"
     ]
    }
   ],
   "source": [
    "EPS=1.e-6\n",
    "\n",
    "if m.Status == GRB.OPTIMAL:\n",
    "  for (s,h,p,t) in x:\n",
    "    if t==1:\n",
    "      if x[s,h,p,t].X>EPS:\n",
    "        print(\"x[%2s,%2s,%2s,%2s]=%3s\" %(s,h,p,t,x[s,h,p,t].X))\n",
    "\n",
    "    if t>=2:\n",
    "      if (x[s,h,p,t].X-x[s,h,p,t-1].X)>EPS:\n",
    "        print(\"x[%2s,%2s,%2s,%2s]=%3s\" %(s,h,p,t,x[s,h,p,t].X))\n",
    "\n",
    "  for (s,k,t) in y:\n",
    "    if y[s,k,t].X>EPS:\n",
    "      print(\"y[%2s,%2s,%2s]=%3s\" %(s,k,t,y[s,k,t].X))\n",
    "\n",
    "  for (s,h,i) in z:\n",
    "    if z[s,h,i].X>EPS:\n",
    "      print(\"z[%2s,%2s,%2s]=%3s\" %(s,h,i,z[s,h,i].X))\n",
    "  print(\"the objective function\", m.objVal)\n",
    "  print(\"VaR=\",alpha.X)"
   ]
  },
  {
   "cell_type": "code",
   "execution_count": 18,
   "metadata": {},
   "outputs": [
    {
     "data": {
      "text/plain": [
       "[[2, 1, 3, 4],\n",
       " [1, 2, 3, 4],\n",
       " [2, 1, 3, 4],\n",
       " [1, 2, 3, 4],\n",
       " [1, 2, 3, 4],\n",
       " [1, 4, 3, 2],\n",
       " [1, 2, 3, 4],\n",
       " [2, 1, 3, 4],\n",
       " [1, 2, 4, 3],\n",
       " [2, 1, 3, 4]]"
      ]
     },
     "execution_count": 18,
     "metadata": {},
     "output_type": "execute_result"
    }
   ],
   "source": [
    "O"
   ]
  },
  {
   "cell_type": "markdown",
   "metadata": {},
   "source": [
    "## 問題例 13-3 5×5"
   ]
  },
  {
   "cell_type": "code",
   "execution_count": 1,
   "metadata": {},
   "outputs": [],
   "source": [
    "# nと初期配置を変更しなければいけない\n",
    "ship_num=5\n",
    "stack_num=5\n",
    "height=5\n",
    "time = 10\n",
    "\n",
    "O1=[i+1 for i in range(ship_num)]\n",
    "\n",
    "S=[i+1 for i in range(stack_num)]\n",
    "H=[i+1 for i in range(height)]\n",
    "P=[i+1 for i in range(ship_num)]\n",
    "T=[i+1 for i in range(time)]\n",
    "n1=[3,2,2,3,3]\n",
    "# n1=[n_[O1[0]-1],n_[O1[1]-1],n_[O1[2]-1],n_[O1[3]-1]]\n",
    "\n",
    "# S,H,P,T,n1,O"
   ]
  },
  {
   "cell_type": "code",
   "execution_count": 2,
   "metadata": {},
   "outputs": [
    {
     "name": "stderr",
     "output_type": "stream",
     "text": [
      "/tmp/ipykernel_5235/522717571.py:22: RuntimeWarning: covariance is not positive-semidefinite.\n",
      "  data_1 = np.random.multivariate_normal(mean, cov, size=size)\n"
     ]
    }
   ],
   "source": [
    "from asyncio.constants import SENDFILE_FALLBACK_READBUFFER_SIZE\n",
    "import random\n",
    "from random import seed\n",
    "import numpy as np\n",
    "from scipy.stats import multivariate_normal\n",
    "\n",
    "np.random.seed(0)\n",
    "\n",
    "# 期待値と分散共分散行列の準備\n",
    "mean = np.arange(1,10,2)\n",
    "cov=np.zeros((ship_num,ship_num))\n",
    "for i in range(ship_num):\n",
    "  for j in range(ship_num):\n",
    "    if i==j:\n",
    "      cov[i][i]=4*np.random.randn()\n",
    "    elif i>j:\n",
    "      cov[i][j]=np.random.randn()\n",
    "      cov[j][i]=cov[i][j]\n",
    "\n",
    "# numpy を用いた生成\n",
    "size=20\n",
    "data_1 = np.random.multivariate_normal(mean, cov, size=size)\n",
    "\n",
    "# print(data_1.shape)\n",
    "\n",
    "# print(np.mean(data_1, axis=0))\n",
    "\n",
    "# print(np.cov(data_1, rowvar=False))\n",
    "\n",
    "# print(data_1)\n",
    "O_=np.argsort(data_1)\n",
    "O_=O_+np.ones((size,ship_num)).astype(int)\n",
    "O=O_.tolist()\n",
    "\n",
    "# data_2 = multivariate_normal(mean, cov).rvs(size=200)\n",
    "\n",
    "# print(data_2.shape)\n",
    "\n",
    "# print(np.mean(data_2, axis=0))\n",
    "\n",
    "# print(np.cov(data_2, rowvar=False))"
   ]
  },
  {
   "cell_type": "code",
   "execution_count": 3,
   "metadata": {},
   "outputs": [
    {
     "data": {
      "text/plain": [
       "{(2, 1, 3, 5, 4): 2,\n",
       " (2, 1, 3, 4, 5): 4,\n",
       " (2, 1, 4, 3, 5): 1,\n",
       " (1, 2, 3, 5, 4): 1,\n",
       " (3, 1, 4, 2, 5): 1,\n",
       " (1, 2, 3, 4, 5): 7,\n",
       " (1, 3, 2, 4, 5): 2,\n",
       " (1, 2, 4, 3, 5): 1,\n",
       " (1, 3, 4, 2, 5): 1}"
      ]
     },
     "execution_count": 3,
     "metadata": {},
     "output_type": "execute_result"
    }
   ],
   "source": [
    "a=[]\n",
    "d={}\n",
    "for i in O:\n",
    "  # print(i)\n",
    "  if not i in a:\n",
    "    a.append(i)\n",
    "for j in a:\n",
    "  d[tuple(j)]=O.count(j)\n",
    "\n",
    "d\n"
   ]
  },
  {
   "cell_type": "code",
   "execution_count": 6,
   "metadata": {},
   "outputs": [
    {
     "name": "stdout",
     "output_type": "stream",
     "text": [
      "Restricted license - for non-production use only - expires 2023-10-25\n"
     ]
    }
   ],
   "source": [
    "m=Model(\"IP3\")\n",
    "\n",
    "alpha=m.addVar(vtype=\"C\")\n",
    "\n",
    "# 変数の定義\n",
    "x,y,z,w={},{},{},{}\n",
    "for s in S:\n",
    "  for h in H:\n",
    "    for p in P:\n",
    "      for t in T:\n",
    "        x[s,h,p,t]=m.addVar(vtype=\"B\")\n",
    "\n",
    "\n",
    "for s in S:\n",
    "  for k in S:\n",
    "    if s!=k:\n",
    "      for t in T:\n",
    "        if t!=len(T):\n",
    "          y[s,k,t]=m.addVar(vtype=\"B\")\n",
    "\n",
    "\n",
    "for s in S:\n",
    "  for h in range(2,len(H)+1):\n",
    "    for i,o in enumerate(O):\n",
    "      z[s,h,i]=m.addVar(vtype=\"c\",lb=0)\n",
    "\n",
    "for i in range(len(O)):\n",
    "  w[i]=m.addVar(vtype=\"C\",lb=0)\n",
    "\n",
    "# 制約条件\n",
    "for p in P:\n",
    "   for t in T:\n",
    "      m.addConstr(quicksum(x[s,h,p,t] for s in S for h in H)==n1[p-1])\n",
    "\n",
    "for t in range(1,len(T)):\n",
    "   m.addConstr(quicksum(y[s,k,t] for s in S for k in S if k!=s)<=1)\n",
    "\n",
    "for t in range(1,len(T)-1):\n",
    "  m.addConstr(quicksum(y[s,k,t+1] for s in S for k in S if s!=k)<=quicksum(y[s,k,t] for s in S for k in S if k!=s))\n",
    "\n",
    "for s in S:\n",
    "  for t in range(2,len(T)+1):\n",
    "    m.addConstr(quicksum(x[s,1,p,t] for p in P)<=1)\n",
    "\n",
    "for s in S:\n",
    "  for h in range(1,len(H)):\n",
    "    for t in range(2,len(T)+1):\n",
    "      m.addConstr(quicksum(x[s,h+1,p,t] for p in P)<=quicksum(x[s,h,p,t] for p in P))\n",
    "\n",
    "for s in S:\n",
    "  for h in range(1,len(H)):\n",
    "    for p in P:\n",
    "      for t in range(1,len(T)):\n",
    "        m.addConstr(x[s,h,p,t]+quicksum(x[s,h+1,k,t] for k in P)<=1+x[s,h,p,t+1])\n",
    "\n",
    "\n",
    "for s in S:\n",
    "  for h in H:\n",
    "    for p in P:\n",
    "      for t in range(1,len(T)):\n",
    "        m.addConstr(x[s,h,p,t]<=x[s,h,p,t+1]+quicksum(y[s,k,t] for k in S if k!=s))\n",
    "        m.addConstr(x[s,h,p,t+1]<=x[s,h,p,t]+quicksum(y[k,s,t] for k in S if k!=s))\n",
    "\n",
    "for k in S:\n",
    "   for t in range(1,len(T)-1):\n",
    "    m.addConstr(quicksum(y[s,k,t] for s in S if s!=k)+quicksum(y[k,s,t+1] for s in S if s!=k)<=1)\n",
    "\n",
    "for s in S:\n",
    "  for h in range(2,len(H)+1):\n",
    "    for i,o in enumerate(O):\n",
    "      for j,p in enumerate(o):\n",
    "        m.addConstr(z[s,h,i]>=quicksum(x[s,h,k,len(T)] for k in o[j:])-quicksum(x[s,h-1,k,len(T)] for k in o[j:]))\n",
    "\n",
    "for i in range(len(O)):\n",
    "  m.addConstr(w[i]>=quicksum(z[s,h,i] for s in S for h in H if h!=1)-alpha)"
   ]
  },
  {
   "cell_type": "code",
   "execution_count": 7,
   "metadata": {},
   "outputs": [
    {
     "data": {
      "text/plain": [
       "<gurobi.Constr *Awaiting Model Update*>"
      ]
     },
     "execution_count": 7,
     "metadata": {},
     "output_type": "execute_result"
    }
   ],
   "source": [
    "# 初期配置の制約\n",
    "\n",
    "m.addConstr(x[1,1,O1[4],1]==1)\n",
    "m.addConstr(x[1,2,O1[2],1]==1)\n",
    "m.addConstr(x[1,3,O1[0],1]==1)\n",
    "# m.addConstr(x[1,4,O1[3],1]==1)\n",
    "m.addConstr(x[2,1,O1[4],1]==1)\n",
    "m.addConstr(x[2,2,O1[3],1]==1)\n",
    "# m.addConstr(x[2,3,O1[3],1]==1)\n",
    "# m.addConstr(x[2,4,O1[1],1]==1)\n",
    "m.addConstr(x[3,1,O1[3],1]==1)\n",
    "m.addConstr(x[3,2,O1[3],1]==1)\n",
    "m.addConstr(x[3,3,O1[0],1]==1)\n",
    "# m.addConstr(x[3,4,O1[2],1]==1)\n",
    "# m.addConstr(x[3,5,O1[0],1]==1)\n",
    "m.addConstr(x[4,1,O1[4],1]==1)\n",
    "m.addConstr(x[4,2,O1[1],1]==1)\n",
    "m.addConstr(x[4,3,O1[2],1]==1)\n",
    "# m.addConstr(x[4,4,O1[2],1]==1)\n",
    "m.addConstr(x[5,1,O1[1],1]==1)\n",
    "m.addConstr(x[5,2,O1[0],1]==1)\n",
    "# m.addConstr(x[6,1,O1[7],1]==1)\n",
    "# m.addConstr(x[6,2,O1[4],1]==1)\n",
    "# m.addConstr(x[6,3,O1[6],1]==1)\n",
    "# m.addConstr(x[6,4,O1[3],1]==1)"
   ]
  },
  {
   "cell_type": "code",
   "execution_count": 8,
   "metadata": {},
   "outputs": [
    {
     "data": {
      "text/plain": [
       "[3, 2, 2, 3, 3]"
      ]
     },
     "execution_count": 8,
     "metadata": {},
     "output_type": "execute_result"
    }
   ],
   "source": [
    "n1"
   ]
  },
  {
   "cell_type": "code",
   "execution_count": 9,
   "metadata": {},
   "outputs": [],
   "source": [
    "beta=0.8\n",
    "m.setObjective(alpha+10**(-5)*quicksum(y[s,k,t] for s in S for k in S if s!=k for t in range(1,len(T)))+quicksum(w[i] for i in range(len(O)))/((1-beta)*len(O)))"
   ]
  },
  {
   "cell_type": "code",
   "execution_count": 10,
   "metadata": {},
   "outputs": [
    {
     "name": "stdout",
     "output_type": "stream",
     "text": [
      "Gurobi Optimizer version 9.5.2 build v9.5.2rc0 (linux64)\n",
      "Thread count: 8 physical cores, 16 logical processors, using up to 16 threads\n"
     ]
    },
    {
     "ename": "GurobiError",
     "evalue": "Model too large for size-limited license; visit https://www.gurobi.com/free-trial for a full license",
     "output_type": "error",
     "traceback": [
      "\u001b[0;31m---------------------------------------------------------------------------\u001b[0m",
      "\u001b[0;31mGurobiError\u001b[0m                               Traceback (most recent call last)",
      "\u001b[1;32mセル30 を /home/ikumadaiki/container/file13.ipynb\u001b[0m in \u001b[0;36m<cell line: 1>\u001b[0;34m()\u001b[0m\n\u001b[0;32m----> <a href='vscode-notebook-cell://wsl%2Bubuntu-20.04/home/ikumadaiki/container/file13.ipynb#X41sdnNjb2RlLXJlbW90ZQ%3D%3D?line=0'>1</a>\u001b[0m m\u001b[39m.\u001b[39;49moptimize()\n\u001b[1;32m      <a href='vscode-notebook-cell://wsl%2Bubuntu-20.04/home/ikumadaiki/container/file13.ipynb#X41sdnNjb2RlLXJlbW90ZQ%3D%3D?line=1'>2</a>\u001b[0m \u001b[39mprint\u001b[39m(m\u001b[39m.\u001b[39mStatus)\n",
      "File \u001b[0;32msrc/gurobipy/model.pxi:864\u001b[0m, in \u001b[0;36mgurobipy.Model.optimize\u001b[0;34m()\u001b[0m\n",
      "\u001b[0;31mGurobiError\u001b[0m: Model too large for size-limited license; visit https://www.gurobi.com/free-trial for a full license"
     ]
    }
   ],
   "source": [
    "m.optimize()\n",
    "print(m.Status)"
   ]
  },
  {
   "cell_type": "code",
   "execution_count": 38,
   "metadata": {},
   "outputs": [
    {
     "name": "stdout",
     "output_type": "stream",
     "text": [
      "x[ 1, 1, 5, 1]=1.0\n",
      "x[ 1, 2, 3, 1]=1.0\n",
      "x[ 1, 3, 1, 1]=1.0\n",
      "x[ 1, 3, 3, 4]=1.0\n",
      "x[ 2, 1, 5, 1]=1.0\n",
      "x[ 2, 2, 4, 1]=1.0\n",
      "x[ 3, 1, 4, 1]=1.0\n",
      "x[ 3, 2, 4, 1]=1.0\n",
      "x[ 3, 3, 1, 1]=1.0\n",
      "x[ 3, 4, 1, 2]=1.0\n",
      "x[ 3, 5, 1, 3]=1.0\n",
      "x[ 4, 1, 5, 1]=1.0\n",
      "x[ 4, 2, 2, 1]=1.0\n",
      "x[ 4, 3, 2, 5]=1.0\n",
      "x[ 4, 3, 3, 1]=1.0\n",
      "x[ 5, 1, 2, 1]=1.0\n",
      "x[ 5, 1, 4, 6]=1.0\n",
      "x[ 5, 2, 1, 1]=1.0\n",
      "y[ 1, 3, 1]=1.0\n",
      "y[ 2, 5, 5]=1.0\n",
      "y[ 4, 1, 3]=1.0\n",
      "y[ 5, 3, 2]=1.0\n",
      "y[ 5, 4, 4]=1.0\n",
      "the objective function 5.000000000000001e-05\n",
      "VaR= 0.0\n"
     ]
    }
   ],
   "source": [
    "EPS=1.e-6\n",
    "\n",
    "if m.Status == GRB.OPTIMAL:\n",
    "  for (s,h,p,t) in x:\n",
    "    if t==1:\n",
    "      if x[s,h,p,t].X>EPS:\n",
    "        print(\"x[%2s,%2s,%2s,%2s]=%3s\" %(s,h,p,t,x[s,h,p,t].X))\n",
    "\n",
    "    if t>=2:\n",
    "      if (x[s,h,p,t].X-x[s,h,p,t-1].X)>EPS:\n",
    "        print(\"x[%2s,%2s,%2s,%2s]=%3s\" %(s,h,p,t,x[s,h,p,t].X))\n",
    "\n",
    "  for (s,k,t) in y:\n",
    "    if y[s,k,t].X>EPS:\n",
    "      print(\"y[%2s,%2s,%2s]=%3s\" %(s,k,t,y[s,k,t].X))\n",
    "\n",
    "  for (s,h,i) in z:\n",
    "    if z[s,h,i].X>EPS:\n",
    "      print(\"z[%2s,%2s,%2s]=%3s\" %(s,h,i,z[s,h,i].X))\n",
    "  print(\"the objective function\", m.objVal)\n",
    "  print(\"VaR=\",alpha.X)"
   ]
  },
  {
   "cell_type": "code",
   "execution_count": null,
   "metadata": {},
   "outputs": [],
   "source": []
  }
 ],
 "metadata": {
  "kernelspec": {
   "display_name": "Python 3.8.10 64-bit ('3.8.10')",
   "language": "python",
   "name": "python3"
  },
  "language_info": {
   "codemirror_mode": {
    "name": "ipython",
    "version": 3
   },
   "file_extension": ".py",
   "mimetype": "text/x-python",
   "name": "python",
   "nbconvert_exporter": "python",
   "pygments_lexer": "ipython3",
   "version": "3.8.10"
  },
  "orig_nbformat": 4,
  "vscode": {
   "interpreter": {
    "hash": "955e813fb8ee1b8d46383f335f3739ae58cd811b119fdcf249a1b3565a440cb9"
   }
  }
 },
 "nbformat": 4,
 "nbformat_minor": 2
}
