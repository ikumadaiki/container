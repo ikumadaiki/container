{
 "cells": [
  {
   "cell_type": "code",
   "execution_count": 1,
   "metadata": {},
   "outputs": [
    {
     "name": "stdout",
     "output_type": "stream",
     "text": [
      "Name: gurobipy\n",
      "Version: 9.5.1\n",
      "Summary: Python interface to Gurobi\n",
      "Home-page: https://www.gurobi.com\n",
      "Author: Gurobi Optimization, LLC\n",
      "Author-email: \n",
      "License: Proprietary\n",
      "Location: c:\\users\\daiki\\appdata\\local\\packages\\pythonsoftwarefoundation.python.3.9_qbz5n2kfra8p0\\localcache\\local-packages\\python39\\site-packages\n",
      "Requires: \n",
      "Required-by: gurobipy-stubs\n",
      "Note: you may need to restart the kernel to use updated packages.\n"
     ]
    }
   ],
   "source": [
    "# pip show gurobipy"
   ]
  },
  {
   "cell_type": "code",
   "execution_count": 1,
   "metadata": {},
   "outputs": [],
   "source": [
    "from gurobipy import *"
   ]
  },
  {
   "cell_type": "markdown",
   "metadata": {},
   "source": [
    "## 問題例1 モデルの変更"
   ]
  },
  {
   "cell_type": "code",
   "execution_count": 37,
   "metadata": {},
   "outputs": [],
   "source": [
    "# nと初期配置を変更しなければいけない\n",
    "ship_num=4\n",
    "stack_num=3\n",
    "height=4\n",
    "time = 10\n",
    "\n",
    "O1=[i+1 for i in range(ship_num)]\n",
    "\n",
    "S=[i+1 for i in range(stack_num)]\n",
    "H=[i+1 for i in range(height)]\n",
    "P=[i+1 for i in range(ship_num)]\n",
    "T=[i+1 for i in range(time)]\n",
    "n1=[1,2,4,3]\n",
    "# n1=[n_[O1[0]-1],n_[O1[1]-1],n_[O1[2]-1],n_[O1[3]-1]]\n",
    "\n",
    "# S,H,P,T,n1,O"
   ]
  },
  {
   "cell_type": "code",
   "execution_count": 38,
   "metadata": {},
   "outputs": [
    {
     "name": "stderr",
     "output_type": "stream",
     "text": [
      "C:\\Users\\daiki\\AppData\\Local\\Temp\\ipykernel_4296\\239299481.py:22: RuntimeWarning: covariance is not positive-semidefinite.\n",
      "  data_1 = np.random.multivariate_normal(mean, cov, size=size)\n"
     ]
    }
   ],
   "source": [
    "from asyncio.constants import SENDFILE_FALLBACK_READBUFFER_SIZE\n",
    "import random\n",
    "from random import seed\n",
    "import numpy as np\n",
    "from scipy.stats import multivariate_normal\n",
    "\n",
    "np.random.seed(0)\n",
    "\n",
    "# 期待値と分散共分散行列の準備\n",
    "mean = np.arange(1,2*ship_num,2)\n",
    "cov=np.zeros((ship_num,ship_num))\n",
    "for i in range(ship_num):\n",
    "  for j in range(ship_num):\n",
    "    if i==j:\n",
    "      cov[i][i]=4*np.random.randn()\n",
    "    elif i>j:\n",
    "      cov[i][j]=np.random.randn()\n",
    "      cov[j][i]=cov[i][j]\n",
    "\n",
    "# numpy を用いた生成\n",
    "size=10\n",
    "data_1 = np.random.multivariate_normal(mean, cov, size=size)\n",
    "\n",
    "# print(data_1.shape)\n",
    "\n",
    "# print(np.mean(data_1, axis=0))\n",
    "\n",
    "# print(np.cov(data_1, rowvar=False))\n",
    "\n",
    "# print(data_1)\n",
    "O_=np.argsort(data_1)\n",
    "O_=O_+np.ones((size,ship_num)).astype(int)\n",
    "O=O_.tolist()\n",
    "\n",
    "# data_2 = multivariate_normal(mean, cov).rvs(size=200)\n",
    "\n",
    "# print(data_2.shape)\n",
    "\n",
    "# print(np.mean(data_2, axis=0))\n",
    "\n",
    "# print(np.cov(data_2, rowvar=False))"
   ]
  },
  {
   "cell_type": "code",
   "execution_count": 39,
   "metadata": {},
   "outputs": [
    {
     "data": {
      "text/plain": [
       "{(1, 3, 2, 4): 3,\n",
       " (2, 1, 3, 4): 2,\n",
       " (1, 4, 2, 3): 1,\n",
       " (1, 2, 3, 4): 1,\n",
       " (1, 4, 3, 2): 1,\n",
       " (3, 2, 1, 4): 1,\n",
       " (2, 3, 1, 4): 1}"
      ]
     },
     "execution_count": 39,
     "metadata": {},
     "output_type": "execute_result"
    }
   ],
   "source": [
    "a=[]\n",
    "d={}\n",
    "for i in O:\n",
    "  # print(i)\n",
    "  if not i in a:\n",
    "    a.append(i)\n",
    "for j in a:\n",
    "  d[tuple(j)]=O.count(j)\n",
    "\n",
    "d\n"
   ]
  },
  {
   "cell_type": "code",
   "execution_count": 40,
   "metadata": {},
   "outputs": [],
   "source": [
    "m=Model(\"IP6\")\n",
    "\n",
    "# alpha=m.addVar(vtype=\"C\")\n",
    "\n",
    "# 変数の定義\n",
    "x,y,z,w={},{},{},{}\n",
    "for s in S:\n",
    "  for h in H:\n",
    "    for p in P:\n",
    "      for t in T:\n",
    "        x[s,h,p,t]=m.addVar(vtype=\"B\")\n",
    "\n",
    "\n",
    "for s in S:\n",
    "  for h in H:\n",
    "    for p in P:\n",
    "      for t in T:\n",
    "        w[s,h,p,t]=m.addVar(vtype=\"C\",lb=0)\n",
    "        z[s,h,p,t]=m.addVar(vtype=\"C\",lb=0)\n",
    "\n",
    "\n",
    "# for s in S:\n",
    "#   for h in range(2,len(H)+1):\n",
    "#     for i,o in enumerate(O):\n",
    "#       z[s,h,i]=m.addVar(vtype=\"c\",lb=0)\n",
    "\n",
    "# for i in range(len(O)):\n",
    "#   w[i]=m.addVar(vtype=\"C\",lb=0)\n",
    "\n",
    "# 制約条件\n",
    "for p in P:\n",
    "   for t in range(1,len(T)):\n",
    "      m.addConstr(quicksum(w[s,h,p,t] for s in S for h in H)==quicksum(z[s,h,p,t] for s in S for h in H))\n",
    "\n",
    "for t in range(1,len(T)):\n",
    "   m.addConstr(quicksum(w[s,h,p,t] for s in S for h in H for p in P)<=1)\n",
    "   m.addConstr(quicksum(z[s,h,p,t] for s in S for h in H for p in P)<=1)\n",
    "\n",
    "for t in range(1,len(T)-1):\n",
    "  m.addConstr(quicksum(w[s,h,p,t+1] for s in S for h in H for p in P)<=quicksum(w[s,h,p,t] for s in S for h in H for p in P))\n",
    "\n",
    "for s in S:\n",
    "  for t in range(2,len(T)+1):\n",
    "    m.addConstr(quicksum(x[s,1,p,t] for p in P)+quicksum(z[s,1,p,t] for p in P)<=1)\n",
    "\n",
    "for s in S:\n",
    "  for h in range(1,len(H)):\n",
    "    for t in range(1,len(T)+1):\n",
    "      m.addConstr(quicksum(x[s,h+1,p,t] for p in P)+quicksum(w[s,h,p,t] for p in P)+quicksum(z[s,h+1,p,t] for p in P)<=quicksum(x[s,h,p,t] for p in P))\n",
    "\n",
    "for s in S:\n",
    "  for h in H:\n",
    "    for p in P:\n",
    "      for t in range(1,len(T)):\n",
    "        m.addConstr(x[s,h,p,t]+z[s,h,p,t]==x[s,h,p,t+1]+w[s,h,p,t])\n",
    "\n",
    "for s in S:\n",
    "  for h in range(1,len(H)):\n",
    "    for t in range(1,len(T)):\n",
    "      m.addConstr(quicksum(x[s,h,p,t] for p in P)+quicksum(x[s,h+1,p,t] for p in P)+quicksum(w[s,h,p,t] for p in P)+quicksum(z[s,h+1,p,t] for p in P)+quicksum(z[s,h,p,t] for p in P)<=2)\n",
    "\n",
    "for s in S:\n",
    "  for t in range(1,len(T)-1):\n",
    "    m.addConstr(quicksum(z[s,h,p,t] for h in H for p in P)+quicksum(w[s,h,p,t+1] for h in H for p in P)<=1)\n",
    "\n",
    "for s in S:\n",
    "  for p in P:\n",
    "    for t in range(1,len(T)-1):\n",
    "      m.addConstr(quicksum(w[s,h,p,t] for h in H)+quicksum(z[s,h,p,t+1] for h in H)<=1)\n",
    "\n",
    "for s in S:\n",
    "  for h in range(1,len(H)):\n",
    "    for p in P:\n",
    "      m.addConstr(quicksum(x[s,h+1,k,len(T)] for k in range(p,len(P)+1))<=quicksum(x[s,h,k,len(T)] for k in range(p,len(P)+1)))\n",
    "\n",
    "for s in S:\n",
    "  for h in H:\n",
    "    m.addConstr(w[s,h,1,len(T)-1]==0)\n",
    "\n",
    "for s in S:\n",
    "  for p in range(2,len(P)+1):\n",
    "    m.addConstr(w[s,1,p,len(T)-1]==0)\n",
    "\n",
    "for s in S:\n",
    "  for h in H:\n",
    "    for p in P:\n",
    "      m.addConstr(z[s,h,p,len(T)]==0)\n",
    "      m.addConstr(w[s,h,p,len(T)]==0)\n",
    "\n",
    "\n",
    "# for s in S:\n",
    "#   for h in range(2,len(H)+1):\n",
    "#     for i,o in enumerate(O):\n",
    "#       for j,p in enumerate(o):\n",
    "#         m.addConstr(z[s,h,i]>=quicksum(x[s,h,k,len(T)] for k in o[j:])-quicksum(x[s,h-1,k,len(T)] for k in o[j:]))\n",
    "\n",
    "# for i in range(len(O)):\n",
    "#   m.addConstr(w[i]>=quicksum(z[s,h,i] for s in S for h in H if h!=1)-alpha)"
   ]
  },
  {
   "cell_type": "code",
   "execution_count": 41,
   "metadata": {},
   "outputs": [
    {
     "data": {
      "text/plain": [
       "<gurobi.Constr *Awaiting Model Update*>"
      ]
     },
     "execution_count": 41,
     "metadata": {},
     "output_type": "execute_result"
    }
   ],
   "source": [
    "# 初期配置の制約\n",
    "\n",
    "m.addConstr(x[1,1,4,1]==1)\n",
    "m.addConstr(x[1,2,4,1]==1)\n",
    "m.addConstr(x[1,3,2,1]==1)\n",
    "m.addConstr(x[1,4,3,1]==1)\n",
    "m.addConstr(x[2,1,4,1]==1)\n",
    "m.addConstr(x[2,2,2,1]==1)\n",
    "m.addConstr(x[2,3,3,1]==1)\n",
    "m.addConstr(x[2,4,1,1]==1)\n",
    "m.addConstr(x[3,1,2,1]==1)\n",
    "m.addConstr(x[3,2,2,1]==1)\n",
    "# m.addConstr(x[3,3,O1[4],1]==1)\n",
    "# m.addConstr(x[3,4,O1[2],1]==1)\n",
    "# m.addConstr(x[3,5,O1[0],1]==1)\n",
    "# m.addConstr(x[4,1,O1[7],1]==1)\n",
    "# m.addConstr(x[4,2,O1[4],1]==1)\n",
    "# m.addConstr(x[4,3,O1[0],1]==1)\n",
    "# m.addConstr(x[4,4,O1[2],1]==1)\n",
    "# m.addConstr(x[5,1,O1[6],1]==1)\n",
    "# m.addConstr(x[5,2,O1[1],1]==1)\n",
    "# m.addConstr(x[6,1,O1[7],1]==1)\n",
    "# m.addConstr(x[6,2,O1[4],1]==1)\n",
    "# m.addConstr(x[6,3,O1[6],1]==1)\n",
    "# m.addConstr(x[6,4,O1[3],1]==1)"
   ]
  },
  {
   "cell_type": "code",
   "execution_count": 42,
   "metadata": {},
   "outputs": [],
   "source": [
    "# beta=0.8\n",
    "# m.setObjective(alpha+10**(-5)*quicksum(y[s,k,t] for s in S for k in S if s!=k for t in range(1,len(T)))+quicksum(w[i] for i in range(len(O)))/((1-beta)*len(O)))\n",
    "m.setObjective(quicksum(z[s,h,p,t] for s in S for h in H for p in P for t in range(1,len(T))))"
   ]
  },
  {
   "cell_type": "code",
   "execution_count": 43,
   "metadata": {},
   "outputs": [
    {
     "name": "stdout",
     "output_type": "stream",
     "text": [
      "Gurobi Optimizer version 9.5.1 build v9.5.1rc2 (win64)\n",
      "Thread count: 4 physical cores, 8 logical processors, using up to 8 threads\n",
      "Optimize a model with 975 rows, 1440 columns and 9343 nonzeros\n",
      "Model fingerprint: 0xb9ae1f95\n",
      "Variable types: 960 continuous, 480 integer (480 binary)\n",
      "Coefficient statistics:\n",
      "  Matrix range     [1e+00, 1e+00]\n",
      "  Objective range  [1e+00, 1e+00]\n",
      "  Bounds range     [1e+00, 1e+00]\n",
      "  RHS range        [1e+00, 2e+00]\n",
      "Presolve removed 348 rows and 552 columns\n",
      "Presolve time: 0.12s\n",
      "Presolved: 627 rows, 888 columns, 6167 nonzeros\n",
      "Variable types: 542 continuous, 346 integer (346 binary)\n",
      "\n",
      "Root relaxation: objective 2.433962e+00, 735 iterations, 0.09 seconds (0.02 work units)\n",
      "\n",
      "    Nodes    |    Current Node    |     Objective Bounds      |     Work\n",
      " Expl Unexpl |  Obj  Depth IntInf | Incumbent    BestBd   Gap | It/Node Time\n",
      "\n",
      "     0     0    2.43396    0  119          -    2.43396      -     -    0s\n",
      "     0     0    2.75318    0  133          -    2.75318      -     -    0s\n",
      "     0     0    2.83158    0  127          -    2.83158      -     -    0s\n",
      "     0     0    2.83158    0  125          -    2.83158      -     -    0s\n",
      "H    0     0                       8.0000000    2.83158  64.6%     -    0s\n",
      "     0     0    2.83158    0  124    8.00000    2.83158  64.6%     -    0s\n",
      "     0     0    2.83158    0  114    8.00000    2.83158  64.6%     -    1s\n",
      "     0     2    2.83245    0  114    8.00000    2.83245  64.6%     -    1s\n",
      "*  134    48               7       6.0000000    3.73684  37.7%   120    2s\n",
      "\n",
      "Cutting planes:\n",
      "  Gomory: 16\n",
      "  Cover: 1\n",
      "  MIR: 2\n",
      "  Flow cover: 1\n",
      "  RLT: 2\n",
      "  Relax-and-lift: 2\n",
      "\n",
      "Explored 208 nodes (22365 simplex iterations) in 2.78 seconds (0.86 work units)\n",
      "Thread count was 8 (of 8 available processors)\n",
      "\n",
      "Solution count 2: 6 8 \n",
      "\n",
      "Optimal solution found (tolerance 1.00e-04)\n",
      "Best objective 6.000000000000e+00, best bound 6.000000000000e+00, gap 0.0000%\n",
      "2\n"
     ]
    }
   ],
   "source": [
    "m.optimize()\n",
    "print(m.Status)"
   ]
  },
  {
   "cell_type": "code",
   "execution_count": 45,
   "metadata": {},
   "outputs": [
    {
     "name": "stdout",
     "output_type": "stream",
     "text": [
      "z[ 1, 3, 3, 4]=1.0\n",
      "z[ 1, 4, 3, 5]=1.0\n",
      "z[ 2, 3, 2, 6]=1.0\n",
      "z[ 2, 4, 3, 2]=1.0\n",
      "z[ 3, 3, 1, 1]=1.0\n",
      "z[ 3, 4, 2, 3]=1.0\n",
      "w[ 1, 3, 2, 3]=1.0\n",
      "w[ 1, 4, 3, 2]=1.0\n",
      "w[ 2, 3, 3, 5]=1.0\n",
      "w[ 2, 4, 1, 1]=1.0\n",
      "w[ 2, 4, 3, 4]=1.0\n",
      "w[ 3, 4, 2, 6]=1.0\n",
      "the objective function 6.0\n"
     ]
    }
   ],
   "source": [
    "EPS=1.e-6\n",
    "\n",
    "if m.Status == GRB.OPTIMAL:\n",
    "  # for (s,h,p,t) in x:\n",
    "  #   if t==1:\n",
    "  #     if x[s,h,p,t].X>EPS:\n",
    "  #       print(\"x[%2s,%2s,%2s,%2s]=%3s\" %(s,h,p,t,x[s,h,p,t].X))\n",
    "\n",
    "  #   if t>=2:\n",
    "  #     if (x[s,h,p,t].X-x[s,h,p,t-1].X)>EPS:\n",
    "  #       print(\"x[%2s,%2s,%2s,%2s]=%3s\" %(s,h,p,t,x[s,h,p,t].X))\n",
    "\n",
    "  for (s,h,p,t) in z:\n",
    "    if z[s,h,p,t].X>EPS:\n",
    "      print(\"z[%2s,%2s,%2s,%2s]=%3s\" %(s,h,p,t,z[s,h,p,t].X))\n",
    "\n",
    "  for (s,h,p,t) in w:\n",
    "    if w[s,h,p,t].X>EPS:\n",
    "      print(\"w[%2s,%2s,%2s,%2s]=%3s\" %(s,h,p,t,w[s,h,p,t].X))\n",
    "\n",
    "  # for (s,h,i) in z:\n",
    "  #   if z[s,h,i].X>EPS:\n",
    "  #     print(\"z[%2s,%2s,%2s]=%3s\" %(s,h,i,z[s,h,i].X))\n",
    "  print(\"the objective function\", m.objVal)\n",
    "  # print(\"VaR=\",alpha.X)"
   ]
  },
  {
   "cell_type": "code",
   "execution_count": null,
   "metadata": {},
   "outputs": [],
   "source": [
    "O"
   ]
  },
  {
   "cell_type": "code",
   "execution_count": null,
   "metadata": {},
   "outputs": [],
   "source": []
  }
 ],
 "metadata": {
  "kernelspec": {
   "display_name": "Python 3.9.13 64-bit (microsoft store)",
   "language": "python",
   "name": "python3"
  },
  "language_info": {
   "codemirror_mode": {
    "name": "ipython",
    "version": 3
   },
   "file_extension": ".py",
   "mimetype": "text/x-python",
   "name": "python",
   "nbconvert_exporter": "python",
   "pygments_lexer": "ipython3",
   "version": "3.9.13"
  },
  "orig_nbformat": 4,
  "vscode": {
   "interpreter": {
    "hash": "0bc652a6662848c169ddaad7e75fc7966486f1f662e7670e7ffb2b305ef6abae"
   }
  }
 },
 "nbformat": 4,
 "nbformat_minor": 2
}
