{
 "cells": [
  {
   "cell_type": "code",
   "execution_count": 1,
   "metadata": {},
   "outputs": [
    {
     "name": "stdout",
     "output_type": "stream",
     "text": [
      "Name: gurobipy\n",
      "Version: 9.5.1\n",
      "Summary: Python interface to Gurobi\n",
      "Home-page: https://www.gurobi.com\n",
      "Author: Gurobi Optimization, LLC\n",
      "Author-email: \n",
      "License: Proprietary\n",
      "Location: c:\\users\\daiki\\appdata\\local\\packages\\pythonsoftwarefoundation.python.3.9_qbz5n2kfra8p0\\localcache\\local-packages\\python39\\site-packages\n",
      "Requires: \n",
      "Required-by: gurobipy-stubs\n",
      "Note: you may need to restart the kernel to use updated packages.\n"
     ]
    }
   ],
   "source": [
    "# pip show gurobipy"
   ]
  },
  {
   "cell_type": "code",
   "execution_count": 1,
   "metadata": {},
   "outputs": [],
   "source": [
    "from gurobipy import *"
   ]
  },
  {
   "cell_type": "markdown",
   "metadata": {},
   "source": [
    "## 問題例2 不確実性を考慮"
   ]
  },
  {
   "cell_type": "code",
   "execution_count": 41,
   "metadata": {},
   "outputs": [],
   "source": [
    "# nと初期配置を変更しなければいけない\n",
    "ship_num=4\n",
    "stack_num=4\n",
    "height=4\n",
    "time = 5\n",
    "\n",
    "O1=[i+1 for i in range(ship_num)]\n",
    "\n",
    "S=[i+1 for i in range(stack_num)]\n",
    "H=[i+1 for i in range(height)]\n",
    "P=[i+1 for i in range(ship_num)]\n",
    "T=[i+1 for i in range(time)]\n",
    "\n",
    "# S,H,P,T,n1,O"
   ]
  },
  {
   "cell_type": "code",
   "execution_count": 42,
   "metadata": {},
   "outputs": [
    {
     "name": "stderr",
     "output_type": "stream",
     "text": [
      "C:\\Users\\daiki\\AppData\\Local\\Temp\\ipykernel_13380\\239299481.py:22: RuntimeWarning: covariance is not positive-semidefinite.\n",
      "  data_1 = np.random.multivariate_normal(mean, cov, size=size)\n"
     ]
    }
   ],
   "source": [
    "from asyncio.constants import SENDFILE_FALLBACK_READBUFFER_SIZE\n",
    "import random\n",
    "from random import seed\n",
    "import numpy as np\n",
    "from scipy.stats import multivariate_normal\n",
    "\n",
    "np.random.seed(0)\n",
    "\n",
    "# 期待値と分散共分散行列の準備\n",
    "mean = np.arange(1,2*ship_num,2)\n",
    "cov=np.zeros((ship_num,ship_num))\n",
    "for i in range(ship_num):\n",
    "  for j in range(ship_num):\n",
    "    if i==j:\n",
    "      cov[i][i]=4*np.random.randn()\n",
    "    elif i>j:\n",
    "      cov[i][j]=np.random.randn()\n",
    "      cov[j][i]=cov[i][j]\n",
    "\n",
    "# numpy を用いた生成\n",
    "size=10\n",
    "data_1 = np.random.multivariate_normal(mean, cov, size=size)\n",
    "\n",
    "# print(data_1.shape)\n",
    "\n",
    "# print(np.mean(data_1, axis=0))\n",
    "\n",
    "# print(np.cov(data_1, rowvar=False))\n",
    "\n",
    "# print(data_1)\n",
    "O_=np.argsort(data_1)\n",
    "O_=O_+np.ones((size,ship_num)).astype(int)\n",
    "O=O_.tolist()\n",
    "\n",
    "# data_2 = multivariate_normal(mean, cov).rvs(size=200)\n",
    "\n",
    "# print(data_2.shape)\n",
    "\n",
    "# print(np.mean(data_2, axis=0))\n",
    "\n",
    "# print(np.cov(data_2, rowvar=False))"
   ]
  },
  {
   "cell_type": "code",
   "execution_count": 43,
   "metadata": {},
   "outputs": [
    {
     "data": {
      "text/plain": [
       "{(1, 3, 2, 4): 3,\n",
       " (2, 1, 3, 4): 2,\n",
       " (1, 4, 2, 3): 1,\n",
       " (1, 2, 3, 4): 1,\n",
       " (1, 4, 3, 2): 1,\n",
       " (3, 2, 1, 4): 1,\n",
       " (2, 3, 1, 4): 1}"
      ]
     },
     "execution_count": 43,
     "metadata": {},
     "output_type": "execute_result"
    }
   ],
   "source": [
    "a=[]\n",
    "d={}\n",
    "for i in O:\n",
    "  # print(i)\n",
    "  if not i in a:\n",
    "    a.append(i)\n",
    "for j in a:\n",
    "  d[tuple(j)]=O.count(j)\n",
    "\n",
    "d\n"
   ]
  },
  {
   "cell_type": "code",
   "execution_count": 48,
   "metadata": {},
   "outputs": [],
   "source": [
    "m=Model(\"IP6\")\n",
    "\n",
    "alpha=m.addVar(vtype=\"C\")\n",
    "\n",
    "# 変数の定義\n",
    "x,z,w,c,d={},{},{},{},{}\n",
    "for s in S:\n",
    "  for h in H:\n",
    "    for p in P:\n",
    "      for t in T:\n",
    "        x[s,h,p,t]=m.addVar(vtype=\"B\")\n",
    "\n",
    "\n",
    "for s in S:\n",
    "  for h in H:\n",
    "    for p in P:\n",
    "      for t in T:\n",
    "        w[s,h,p,t]=m.addVar(vtype=\"C\",lb=0)\n",
    "        z[s,h,p,t]=m.addVar(vtype=\"C\",lb=0)\n",
    "\n",
    "\n",
    "for s in S:\n",
    "  for h in range(2,len(H)+1):\n",
    "    for i,o in enumerate(O):\n",
    "      c[s,h,i]=m.addVar(vtype=\"c\",lb=0)\n",
    "\n",
    "for i in range(len(O)):\n",
    "  d[i]=m.addVar(vtype=\"C\",lb=0)\n",
    "\n",
    "# 制約条件\n",
    "for p in P:\n",
    "   for t in range(1,len(T)):\n",
    "      m.addConstr(quicksum(w[s,h,p,t] for s in S for h in H)==quicksum(z[s,h,p,t] for s in S for h in H))\n",
    "\n",
    "for t in range(1,len(T)):\n",
    "   m.addConstr(quicksum(w[s,h,p,t] for s in S for h in H for p in P)<=1)\n",
    "   m.addConstr(quicksum(z[s,h,p,t] for s in S for h in H for p in P)<=1)\n",
    "\n",
    "for t in range(1,len(T)-1):\n",
    "  m.addConstr(quicksum(w[s,h,p,t+1] for s in S for h in H for p in P)<=quicksum(w[s,h,p,t] for s in S for h in H for p in P))\n",
    "\n",
    "for s in S:\n",
    "  for t in range(2,len(T)+1):\n",
    "    m.addConstr(quicksum(x[s,1,p,t] for p in P)+quicksum(z[s,1,p,t] for p in P)<=1)\n",
    "\n",
    "for s in S:\n",
    "  for h in range(1,len(H)):\n",
    "    for t in range(1,len(T)+1):\n",
    "      m.addConstr(quicksum(x[s,h+1,p,t] for p in P)+quicksum(w[s,h,p,t] for p in P)+quicksum(z[s,h+1,p,t] for p in P)<=quicksum(x[s,h,p,t] for p in P))\n",
    "\n",
    "for s in S:\n",
    "  for h in H:\n",
    "    for p in P:\n",
    "      for t in range(1,len(T)):\n",
    "        m.addConstr(x[s,h,p,t]+z[s,h,p,t]==x[s,h,p,t+1]+w[s,h,p,t])\n",
    "\n",
    "for s in S:\n",
    "  for h in range(1,len(H)):\n",
    "    for t in range(1,len(T)):\n",
    "      m.addConstr(quicksum(x[s,h,p,t] for p in P)+quicksum(x[s,h+1,p,t] for p in P)+quicksum(w[s,h,p,t] for p in P)+quicksum(z[s,h+1,p,t] for p in P)+quicksum(z[s,h,p,t] for p in P)<=2)\n",
    "\n",
    "for s in S:\n",
    "  for t in range(1,len(T)-1):\n",
    "    m.addConstr(quicksum(z[s,h,p,t] for h in H for p in P)+quicksum(w[s,h,p,t+1] for h in H for p in P)<=1)\n",
    "\n",
    "for s in S:\n",
    "  for p in P:\n",
    "    for t in range(1,len(T)-1):\n",
    "      m.addConstr(quicksum(w[s,h,p,t] for h in H)+quicksum(z[s,h,p,t+1] for h in H)<=1)\n",
    "\n",
    "# for s in S:\n",
    "#   for h in range(1,len(H)):\n",
    "#     for p in P:\n",
    "#       m.addConstr(quicksum(x[s,h+1,k,len(T)] for k in range(p,len(P)+1))<=quicksum(x[s,h,k,len(T)] for k in range(p,len(P)+1)))\n",
    "\n",
    "for s in S:\n",
    "  for h in H:\n",
    "    m.addConstr(w[s,h,1,len(T)-1]==0)\n",
    "\n",
    "for s in S:\n",
    "  for p in range(2,len(P)+1):\n",
    "    m.addConstr(w[s,1,p,len(T)-1]==0)\n",
    "\n",
    "for s in S:\n",
    "  for h in H:\n",
    "    for p in P:\n",
    "      m.addConstr(z[s,h,p,len(T)]==0)\n",
    "      m.addConstr(w[s,h,p,len(T)]==0)\n",
    "\n",
    "for s in S:\n",
    "  for h in range(2,len(H)+1):\n",
    "    for h_ in range(1,h):\n",
    "      for i,o in enumerate(O):\n",
    "        for j,p in enumerate(o):\n",
    "          m.addConstr(c[s,h,i]>=quicksum(x[s,h,k,len(T)] for k in o[j:])-quicksum(x[s,h_,k,len(T)] for k in o[j:]))\n",
    "\n",
    "for i in range(len(O)):\n",
    "  m.addConstr(d[i]>=quicksum(c[s,h,i] for s in S for h in H if h!=1)-alpha)"
   ]
  },
  {
   "cell_type": "code",
   "execution_count": 49,
   "metadata": {},
   "outputs": [
    {
     "data": {
      "text/plain": [
       "<gurobi.Constr *Awaiting Model Update*>"
      ]
     },
     "execution_count": 49,
     "metadata": {},
     "output_type": "execute_result"
    }
   ],
   "source": [
    "# 初期配置の制約\n",
    "\n",
    "m.addConstr(x[1,1,4,1]==1)\n",
    "m.addConstr(x[1,2,4,1]==1)\n",
    "m.addConstr(x[1,3,3,1]==1)\n",
    "# m.addConstr(x[1,4,3,1]==1)\n",
    "m.addConstr(x[2,1,4,1]==1)\n",
    "m.addConstr(x[2,2,3,1]==1)\n",
    "m.addConstr(x[2,3,2,1]==1)\n",
    "# m.addConstr(x[2,4,1,1]==1)\n",
    "m.addConstr(x[3,1,3,1]==1)\n",
    "m.addConstr(x[3,2,3,1]==1)\n",
    "# m.addConstr(x[3,3,O1[4],1]==1)\n",
    "# m.addConstr(x[3,4,O1[2],1]==1)\n",
    "# m.addConstr(x[3,5,O1[0],1]==1)\n",
    "m.addConstr(x[4,1,2,1]==1)\n",
    "m.addConstr(x[4,2,1,1]==1)\n",
    "# m.addConstr(x[4,3,O1[0],1]==1)\n",
    "# m.addConstr(x[4,4,O1[2],1]==1)\n",
    "# m.addConstr(x[5,1,O1[6],1]==1)\n",
    "# m.addConstr(x[5,2,O1[1],1]==1)\n",
    "# m.addConstr(x[6,1,O1[7],1]==1)\n",
    "# m.addConstr(x[6,2,O1[4],1]==1)\n",
    "# m.addConstr(x[6,3,O1[6],1]==1)\n",
    "# m.addConstr(x[6,4,O1[3],1]==1)"
   ]
  },
  {
   "cell_type": "code",
   "execution_count": 50,
   "metadata": {},
   "outputs": [],
   "source": [
    "beta=0.8\n",
    "# m.setObjective(alpha+10**(-5)*quicksum(y[s,k,t] for s in S for k in S if s!=k for t in range(1,len(T)))+quicksum(w[i] for i in range(len(O)))/((1-beta)*len(O)))\n",
    "m.setObjective(alpha+quicksum(d[i] for i in range(len(O)))/((1-beta)*len(O))+10**(-5)*quicksum(z[s,h,p,t] for s in S for h in H for p in P for t in range(1,len(T))))"
   ]
  },
  {
   "cell_type": "code",
   "execution_count": 51,
   "metadata": {},
   "outputs": [
    {
     "name": "stdout",
     "output_type": "stream",
     "text": [
      "Gurobi Optimizer version 9.5.1 build v9.5.1rc2 (win64)\n",
      "Thread count: 4 physical cores, 8 logical processors, using up to 8 threads\n",
      "Optimize a model with 1603 rows, 1091 columns and 11314 nonzeros\n",
      "Model fingerprint: 0xd8834ed8\n",
      "Variable types: 771 continuous, 320 integer (320 binary)\n",
      "Coefficient statistics:\n",
      "  Matrix range     [1e+00, 1e+00]\n",
      "  Objective range  [1e-05, 1e+00]\n",
      "  Bounds range     [1e+00, 1e+00]\n",
      "  RHS range        [1e+00, 2e+00]\n",
      "Presolve removed 866 rows and 538 columns\n",
      "Presolve time: 0.15s\n",
      "Presolved: 737 rows, 553 columns, 6624 nonzeros\n",
      "Variable types: 339 continuous, 214 integer (214 binary)\n",
      "\n",
      "Root relaxation: objective 4.000000e-05, 258 iterations, 0.01 seconds (0.01 work units)\n",
      "\n",
      "    Nodes    |    Current Node    |     Objective Bounds      |     Work\n",
      " Expl Unexpl |  Obj  Depth IntInf | Incumbent    BestBd   Gap | It/Node Time\n",
      "\n",
      "*    0     0               0       0.0000400    0.00004  0.00%     -    0s\n",
      "\n",
      "Explored 1 nodes (449 simplex iterations) in 0.28 seconds (0.08 work units)\n",
      "Thread count was 8 (of 8 available processors)\n",
      "\n",
      "Solution count 1: 4e-05 \n",
      "\n",
      "Optimal solution found (tolerance 1.00e-04)\n",
      "Best objective 4.000000000000e-05, best bound 4.000000000000e-05, gap 0.0000%\n",
      "2\n"
     ]
    }
   ],
   "source": [
    "m.optimize()\n",
    "print(m.Status)"
   ]
  },
  {
   "cell_type": "code",
   "execution_count": 52,
   "metadata": {},
   "outputs": [
    {
     "name": "stdout",
     "output_type": "stream",
     "text": [
      "y[ 4, 1, 1, 2]=1.0\n",
      "y[ 1, 3, 3, 1]=1.0\n",
      "y[ 2, 3, 3, 4]=1.0\n",
      "y[ 2, 4, 2, 3]=1.0\n",
      "the objective function 4e-05\n",
      "[1, 2, 3, 4]\n"
     ]
    }
   ],
   "source": [
    "EPS=1.e-6\n",
    "\n",
    "if m.Status == GRB.OPTIMAL:\n",
    "  # for (s,h,p,t) in x:\n",
    "  #   if t==1:\n",
    "  #     if x[s,h,p,t].X>EPS:\n",
    "  #       print(\"x[%2s,%2s,%2s,%2s]=%3s\" %(s,h,p,t,x[s,h,p,t].X))\n",
    "\n",
    "  #   if t>=2:\n",
    "  #     if (x[s,h,p,t].X-x[s,h,p,t-1].X)>EPS:\n",
    "  #       print(\"x[%2s,%2s,%2s,%2s]=%3s\" %(s,h,p,t,x[s,h,p,t].X))\n",
    "  y=[]\n",
    "  for (s,h,p,t) in z:\n",
    "    for (s_,h_,p_,t_) in w:\n",
    "      if z[s,h,p,t].X>EPS:\n",
    "        if w[s_,h_,p_,t_].X>EPS:\n",
    "          if t==t_:\n",
    "            y.append(t)\n",
    "            y.sort()\n",
    "            for y_ in y:\n",
    "              if y_==t:\n",
    "                print(\"y[%2s,%2s,%2s,%2s]=%3s\" %(s_,s,p,t,z[s,h,p,t].X))\n",
    "      # print(\"w[%2s,%2s,%2s,%2s]=%3s\" %(s,h,p,t,w[s,h,p,t].X))\n",
    "\n",
    "  for (s,h,i) in c:\n",
    "    if c[s,h,i].X>EPS:\n",
    "      print(\"c[%2s,%2s,%2s]=%3s\" %(s,h,i,c[s,h,i].X))\n",
    "  print(\"the objective function\", m.objVal)\n",
    "  # print(\"VaR=\",alpha.X)"
   ]
  },
  {
   "cell_type": "code",
   "execution_count": 37,
   "metadata": {},
   "outputs": [
    {
     "data": {
      "text/plain": [
       "<gurobi.Var C0 (value 0.0)>"
      ]
     },
     "execution_count": 37,
     "metadata": {},
     "output_type": "execute_result"
    }
   ],
   "source": []
  },
  {
   "cell_type": "code",
   "execution_count": null,
   "metadata": {},
   "outputs": [],
   "source": []
  }
 ],
 "metadata": {
  "kernelspec": {
   "display_name": "Python 3.9.13 64-bit (microsoft store)",
   "language": "python",
   "name": "python3"
  },
  "language_info": {
   "codemirror_mode": {
    "name": "ipython",
    "version": 3
   },
   "file_extension": ".py",
   "mimetype": "text/x-python",
   "name": "python",
   "nbconvert_exporter": "python",
   "pygments_lexer": "ipython3",
   "version": "3.9.13"
  },
  "orig_nbformat": 4,
  "vscode": {
   "interpreter": {
    "hash": "0bc652a6662848c169ddaad7e75fc7966486f1f662e7670e7ffb2b305ef6abae"
   }
  }
 },
 "nbformat": 4,
 "nbformat_minor": 2
}
