{
 "cells": [
  {
   "cell_type": "code",
   "execution_count": 1,
   "metadata": {},
   "outputs": [],
   "source": [
    "# !pip install gurobipy"
   ]
  },
  {
   "cell_type": "code",
   "execution_count": 2,
   "metadata": {},
   "outputs": [],
   "source": [
    "from gurobipy import *"
   ]
  },
  {
   "cell_type": "markdown",
   "metadata": {},
   "source": [
    " ### ρの値の検討"
   ]
  },
  {
   "cell_type": "code",
   "execution_count": 34,
   "metadata": {},
   "outputs": [],
   "source": [
    "def order(a,b):\n",
    "  return [a,b]"
   ]
  },
  {
   "cell_type": "code",
   "execution_count": 35,
   "metadata": {},
   "outputs": [
    {
     "data": {
      "text/plain": [
       "([1, 2], [1, 2], [1, 2], [1, 2, 3, 4, 5, 6], [1, 1])"
      ]
     },
     "execution_count": 35,
     "metadata": {},
     "output_type": "execute_result"
    }
   ],
   "source": [
    "O1=order(1,2)\n",
    "O2=order(2,1)\n",
    "O=[O1,O1,O1,O1,O2]\n",
    "\n",
    "S=[i for i in range(1,3)]\n",
    "H=[i for i in range(1,3)]\n",
    "P=[i for i in range(1,3)]\n",
    "T=[i for i in range(1,7)]\n",
    "n_=[1,1]\n",
    "n1=[n_[O1[0]-1],n_[O1[1]-1]]\n",
    "\n",
    "S,H,P,T,n1"
   ]
  },
  {
   "cell_type": "code",
   "execution_count": 36,
   "metadata": {},
   "outputs": [],
   "source": [
    "m=Model(\"IP3\")\n",
    "\n",
    "# 変数の定義\n",
    "x,y,pre,penalty,minus={},{},{},{},{}\n",
    "for s in S:\n",
    "  for h in H:\n",
    "    for p in P:\n",
    "      for t in T:\n",
    "        x[s,h,p,t]=m.addVar(vtype=\"B\")\n",
    "\n",
    "\n",
    "for s in S:\n",
    "  for k in S:\n",
    "    if s!=k:\n",
    "      for t in T:\n",
    "        if t!=len(T):\n",
    "          y[s,k,t]=m.addVar(vtype=\"B\")\n",
    "\n",
    "\n",
    "for s in S:\n",
    "  for h in range(2,len(H)+1):\n",
    "    for p in P:\n",
    "      for i,o in enumerate(O):\n",
    "        penalty[s,h,i]=m.addVar(vtype=\"c\",lb=0)\n",
    "\n",
    "# 制約条件\n",
    "for p in P:\n",
    "   for t in T:\n",
    "      m.addConstr(quicksum(x[s,h,p,t] for s in S for h in H)==n1[p-1])\n",
    "\n",
    "for t in range(1,len(T)):\n",
    "   m.addConstr(quicksum(y[s,k,t] for s in S for k in S if k!=s)<=1)\n",
    "\n",
    "for t in range(1,len(T)-1):\n",
    "  m.addConstr(quicksum(y[s,k,t+1] for s in S for k in S if s!=k)<=quicksum(y[s,k,t] for s in S for k in S if k!=s))\n",
    "\n",
    "for s in S:\n",
    "  for t in range(2,len(T)+1):\n",
    "    m.addConstr(quicksum(x[s,1,p,t] for p in P)<=1)\n",
    "\n",
    "for s in S:\n",
    "  for h in range(1,len(H)):\n",
    "    for t in range(2,len(T)+1):\n",
    "      m.addConstr(quicksum(x[s,h+1,p,t] for p in P)<=quicksum(x[s,h,p,t] for p in P))\n",
    "\n",
    "for s in S:\n",
    "  for h in range(1,len(H)):\n",
    "    for p in P:\n",
    "      for t in range(1,len(T)):\n",
    "        m.addConstr(x[s,h,p,t]+quicksum(x[s,h+1,k,t] for k in P)<=1+x[s,h,p,t+1])\n",
    "\n",
    "\n",
    "for s in S:\n",
    "  for h in H:\n",
    "    for p in P:\n",
    "      for t in range(1,len(T)):\n",
    "        m.addConstr(x[s,h,p,t]<=x[s,h,p,t+1]+quicksum(y[s,k,t] for k in S if k!=s))\n",
    "        m.addConstr(x[s,h,p,t+1]<=x[s,h,p,t]+quicksum(y[k,s,t] for k in S if k!=s))\n",
    "\n",
    "for k in S:\n",
    "   for t in range(1,len(T)-1):\n",
    "    m.addConstr(quicksum(y[s,k,t] for s in S if s!=k)+quicksum(y[k,s,t+1] for s in S if s!=k)<=1)\n",
    "\n",
    "# 同じ場所でpenaltyが加算される場合がある。\n",
    "for s in S:\n",
    "  for h in range(2,len(H)+1):\n",
    "\n",
    "    for i,o in enumerate(O):\n",
    "      # m.addConstr(minus[s,h,i]<=quicksum(penalty[s,h,p,i] for p in P))\n",
    "      for j,p in enumerate(o):\n",
    "        m.addConstr(penalty[s,h,i]>=quicksum(x[s,h,k,len(T)] for k in o[j:])-quicksum(x[s,h-1,k,len(T)] for k in o[j:]))"
   ]
  },
  {
   "cell_type": "code",
   "execution_count": 37,
   "metadata": {},
   "outputs": [
    {
     "data": {
      "text/plain": [
       "<gurobi.Constr *Awaiting Model Update*>"
      ]
     },
     "execution_count": 37,
     "metadata": {},
     "output_type": "execute_result"
    }
   ],
   "source": [
    "m.addConstr(x[1,1,O1[1],1]==1)\n",
    "m.addConstr(x[1,2,O1[0],1]==1)"
   ]
  },
  {
   "cell_type": "code",
   "execution_count": 38,
   "metadata": {},
   "outputs": [],
   "source": [
    "m.setObjective(quicksum(y[s,k,t] for s in S for k in S if k!=s for t in range(1,len(T)))\n",
    "+1/len(O)*quicksum(penalty[s,h,i] for s in S for h in H if h!=1 for i in range(len(O))))"
   ]
  },
  {
   "cell_type": "code",
   "execution_count": 39,
   "metadata": {},
   "outputs": [
    {
     "name": "stdout",
     "output_type": "stream",
     "text": [
      "Gurobi Optimizer version 9.5.2 build v9.5.2rc0 (win64)\n",
      "Thread count: 4 physical cores, 8 logical processors, using up to 8 threads\n",
      "Optimize a model with 171 rows, 78 columns and 552 nonzeros\n",
      "Model fingerprint: 0x46630fe6\n",
      "Variable types: 20 continuous, 58 integer (58 binary)\n",
      "Coefficient statistics:\n",
      "  Matrix range     [1e+00, 1e+00]\n",
      "  Objective range  [2e-01, 1e+00]\n",
      "  Bounds range     [1e+00, 1e+00]\n",
      "  RHS range        [1e+00, 1e+00]\n",
      "Found heuristic solution: objective 4.0000000\n",
      "Presolve removed 171 rows and 78 columns\n",
      "Presolve time: 0.01s\n",
      "Presolve: All rows and columns removed\n",
      "\n",
      "Explored 0 nodes (0 simplex iterations) in 0.05 seconds (0.00 work units)\n",
      "Thread count was 1 (of 8 available processors)\n",
      "\n",
      "Solution count 2: 0.2 4 \n",
      "\n",
      "Optimal solution found (tolerance 1.00e-04)\n",
      "Best objective 2.000000000000e-01, best bound 2.000000000000e-01, gap 0.0000%\n",
      "2\n"
     ]
    }
   ],
   "source": [
    "m.optimize()\n",
    "print(m.Status)"
   ]
  },
  {
   "cell_type": "code",
   "execution_count": 40,
   "metadata": {},
   "outputs": [
    {
     "name": "stdout",
     "output_type": "stream",
     "text": [
      "x[ 1, 1, 2, 1]=1.0\n",
      "x[ 1, 2, 1, 1]=1.0\n",
      "penalty[ 1, 2, 4]=1.0\n",
      "the objective function 0.2\n"
     ]
    }
   ],
   "source": [
    "EPS=1.e-6\n",
    "\n",
    "if m.Status == GRB.OPTIMAL:\n",
    "  for (s,h,p,t) in x:\n",
    "    if t==1:\n",
    "      if x[s,h,p,t].X>EPS:\n",
    "        print(\"x[%2s,%2s,%2s,%2s]=%3s\" %(s,h,p,t,x[s,h,p,t].X))\n",
    "\n",
    "    if t>=2:\n",
    "      if (x[s,h,p,t].X-x[s,h,p,t-1].X)>EPS:\n",
    "        print(\"x[%2s,%2s,%2s,%2s]=%3s\" %(s,h,p,t,x[s,h,p,t].X))\n",
    "\n",
    "    # if t==len(T):\n",
    "    #   if x[s,h,p,t].X>EPS:\n",
    "    #     print(\"x[%2s,%2s,%2s,%2s]=%3s\" %(s,h,p,t,x[s,h,p,t].X))\n",
    "\n",
    "  for (s,k,t) in y:\n",
    "    if y[s,k,t].X>EPS:\n",
    "      print(\"y[%2s,%2s,%2s]=%3s\" %(s,k,t,y[s,k,t].X))\n",
    "\n",
    "  for (s,h,i) in penalty:\n",
    "    if penalty[s,h,i].X>EPS:\n",
    "      print(\"penalty[%2s,%2s,%2s]=%3s\" %(s,h,i,penalty[s,h,i].X))\n",
    "  print(\"the objective function\", m.objVal)"
   ]
  },
  {
   "cell_type": "markdown",
   "metadata": {},
   "source": [
    "## 問題例11 複数のシナリオを生成し同時に解く"
   ]
  },
  {
   "cell_type": "code",
   "execution_count": 65,
   "metadata": {},
   "outputs": [],
   "source": [
    "def order(a,b,c,d):\n",
    "  return [a,b,c,d]"
   ]
  },
  {
   "cell_type": "code",
   "execution_count": 66,
   "metadata": {},
   "outputs": [
    {
     "data": {
      "text/plain": [
       "([1, 2, 3, 4], [1, 2, 3, 4], [1, 2, 3, 4], [1, 2, 3, 4, 5, 6], [1, 2, 4, 3])"
      ]
     },
     "execution_count": 66,
     "metadata": {},
     "output_type": "execute_result"
    }
   ],
   "source": [
    "# nと初期配置を変更しなければいけない\n",
    "O1=order(1,2,3,4)\n",
    "O2=order(3,1,2,4)\n",
    "O3=order(3,4,1,2)\n",
    "O4=order(1,2,4,3)\n",
    "O5=order(2,3,1,4)\n",
    "O6=order(2,1,3,4)\n",
    "O7=order(1,3,2,4)\n",
    "\n",
    "O=[O1,O1,O1,O1,O1,O2,O3,O3,O3,O4,O4,O4,O5]\n",
    "O_=[O1,O6]\n",
    "S=[i for i in range(1,5)]\n",
    "H=[i for i in range(1,5)]\n",
    "P=[i for i in range(1,5)]\n",
    "T=[i for i in range(1,7)]\n",
    "n_=[1,2,4,3]\n",
    "n1=[n_[O1[0]-1],n_[O1[1]-1],n_[O1[2]-1],n_[O1[3]-1]]\n",
    "\n",
    "S,H,P,T,n1"
   ]
  },
  {
   "cell_type": "code",
   "execution_count": 67,
   "metadata": {},
   "outputs": [],
   "source": [
    "m=Model(\"IP3\")\n",
    "\n",
    "# 変数の定義\n",
    "x,y,pre,penalty,minus={},{},{},{},{}\n",
    "for s in S:\n",
    "  for h in H:\n",
    "    for p in P:\n",
    "      for t in T:\n",
    "        x[s,h,p,t]=m.addVar(vtype=\"B\")\n",
    "\n",
    "\n",
    "for s in S:\n",
    "  for k in S:\n",
    "    if s!=k:\n",
    "      for t in T:\n",
    "        if t!=len(T):\n",
    "          y[s,k,t]=m.addVar(vtype=\"B\")\n",
    "\n",
    "\n",
    "for s in S:\n",
    "  for h in range(2,len(H)+1):\n",
    "    for p in P:\n",
    "      for i,o in enumerate(O):\n",
    "        penalty[s,h,i]=m.addVar(vtype=\"c\",lb=0)\n",
    "\n",
    "# 制約条件\n",
    "for p in P:\n",
    "   for t in T:\n",
    "      m.addConstr(quicksum(x[s,h,p,t] for s in S for h in H)==n1[p-1])\n",
    "\n",
    "for t in range(1,len(T)):\n",
    "   m.addConstr(quicksum(y[s,k,t] for s in S for k in S if k!=s)<=1)\n",
    "\n",
    "for t in range(1,len(T)-1):\n",
    "  m.addConstr(quicksum(y[s,k,t+1] for s in S for k in S if s!=k)<=quicksum(y[s,k,t] for s in S for k in S if k!=s))\n",
    "\n",
    "for s in S:\n",
    "  for t in range(2,len(T)+1):\n",
    "    m.addConstr(quicksum(x[s,1,p,t] for p in P)<=1)\n",
    "\n",
    "for s in S:\n",
    "  for h in range(1,len(H)):\n",
    "    for t in range(2,len(T)+1):\n",
    "      m.addConstr(quicksum(x[s,h+1,p,t] for p in P)<=quicksum(x[s,h,p,t] for p in P))\n",
    "\n",
    "for s in S:\n",
    "  for h in range(1,len(H)):\n",
    "    for p in P:\n",
    "      for t in range(1,len(T)):\n",
    "        m.addConstr(x[s,h,p,t]+quicksum(x[s,h+1,k,t] for k in P)<=1+x[s,h,p,t+1])\n",
    "\n",
    "\n",
    "for s in S:\n",
    "  for h in H:\n",
    "    for p in P:\n",
    "      for t in range(1,len(T)):\n",
    "        m.addConstr(x[s,h,p,t]<=x[s,h,p,t+1]+quicksum(y[s,k,t] for k in S if k!=s))\n",
    "        m.addConstr(x[s,h,p,t+1]<=x[s,h,p,t]+quicksum(y[k,s,t] for k in S if k!=s))\n",
    "\n",
    "for k in S:\n",
    "   for t in range(1,len(T)-1):\n",
    "    m.addConstr(quicksum(y[s,k,t] for s in S if s!=k)+quicksum(y[k,s,t+1] for s in S if s!=k)<=1)\n",
    "\n",
    "# 同じ場所でpenaltyが加算される場合がある。\n",
    "for s in S:\n",
    "  for h in range(2,len(H)+1):\n",
    "\n",
    "    for i,o in enumerate(O):\n",
    "      # m.addConstr(minus[s,h,i]<=quicksum(penalty[s,h,p,i] for p in P))\n",
    "      for j,p in enumerate(o):\n",
    "        m.addConstr(penalty[s,h,i]>=quicksum(x[s,h,k,len(T)] for k in o[j:])-quicksum(x[s,h-1,k,len(T)] for k in o[j:]))"
   ]
  },
  {
   "cell_type": "code",
   "execution_count": 68,
   "metadata": {},
   "outputs": [
    {
     "data": {
      "text/plain": [
       "<gurobi.Constr *Awaiting Model Update*>"
      ]
     },
     "execution_count": 68,
     "metadata": {},
     "output_type": "execute_result"
    }
   ],
   "source": [
    "# 初期配置の制約\n",
    "\n",
    "m.addConstr(x[1,1,O1[3],1]==1)\n",
    "m.addConstr(x[1,2,O1[3],1]==1)\n",
    "m.addConstr(x[1,3,O1[2],1]==1)\n",
    "m.addConstr(x[2,1,O1[3],1]==1)\n",
    "m.addConstr(x[2,2,O1[2],1]==1)\n",
    "m.addConstr(x[2,3,O1[1],1]==1)\n",
    "m.addConstr(x[3,1,O1[2],1]==1)\n",
    "m.addConstr(x[3,2,O1[2],1]==1)\n",
    "m.addConstr(x[4,1,O1[1],1]==1)\n",
    "m.addConstr(x[4,2,O1[0],1]==1)"
   ]
  },
  {
   "cell_type": "code",
   "execution_count": 69,
   "metadata": {},
   "outputs": [],
   "source": [
    "m.setObjective(quicksum(y[s,k,t] for s in S for k in S if k!=s for t in range(1,len(T)))\n",
    "+1/(len(O)**0.25)*quicksum(penalty[s,h,i] for s in S for h in H if h!=1 for i in range(len(O))))"
   ]
  },
  {
   "cell_type": "code",
   "execution_count": 70,
   "metadata": {},
   "outputs": [
    {
     "name": "stdout",
     "output_type": "stream",
     "text": [
      "Gurobi Optimizer version 9.5.2 build v9.5.2rc0 (win64)\n",
      "Thread count: 4 physical cores, 8 logical processors, using up to 8 threads\n",
      "Optimize a model with 1643 rows, 1068 columns and 9590 nonzeros\n",
      "Model fingerprint: 0x6791b857\n",
      "Variable types: 624 continuous, 444 integer (444 binary)\n",
      "Coefficient statistics:\n",
      "  Matrix range     [1e+00, 1e+00]\n",
      "  Objective range  [5e-01, 1e+00]\n",
      "  Bounds range     [1e+00, 1e+00]\n",
      "  RHS range        [1e+00, 4e+00]\n",
      "Presolve removed 823 rows and 711 columns\n",
      "Presolve time: 0.13s\n",
      "Presolved: 820 rows, 357 columns, 4471 nonzeros\n",
      "Variable types: 0 continuous, 357 integer (297 binary)\n",
      "Found heuristic solution: objective 17.2192905\n",
      "\n",
      "Root relaxation: objective 1.992994e+00, 571 iterations, 0.04 seconds (0.01 work units)\n",
      "\n",
      "    Nodes    |    Current Node    |     Objective Bounds      |     Work\n",
      " Expl Unexpl |  Obj  Depth IntInf | Incumbent    BestBd   Gap | It/Node Time\n",
      "\n",
      "     0     0    1.99299    0  116   17.21929    1.99299  88.4%     -    0s\n",
      "H    0     0                      10.7930443    1.99299  81.5%     -    0s\n",
      "H    0     0                       9.8996058    1.99299  79.9%     -    0s\n",
      "     0     0    2.64321    0  101    9.89961    2.64321  73.3%     -    0s\n",
      "H    0     0                       6.2131231    2.64321  57.5%     -    0s\n",
      "H    0     0                       5.2131231    2.64321  49.3%     -    0s\n",
      "     0     0    2.71452    0  114    5.21312    2.71452  47.9%     -    0s\n",
      "     0     0    2.76205    0  111    5.21312    2.76205  47.0%     -    0s\n",
      "     0     0    2.76205    0  116    5.21312    2.76205  47.0%     -    0s\n",
      "     0     0    2.76205    0  115    5.21312    2.76205  47.0%     -    0s\n",
      "     0     0    3.30480    0  167    5.21312    3.30480  36.6%     -    0s\n",
      "     0     0    3.30537    0  134    5.21312    3.30537  36.6%     -    0s\n",
      "     0     0    3.30537    0  134    5.21312    3.30537  36.6%     -    0s\n",
      "     0     0    3.38664    0  166    5.21312    3.38664  35.0%     -    0s\n",
      "     0     0    3.39241    0  163    5.21312    3.39241  34.9%     -    0s\n",
      "     0     0    3.39320    0  162    5.21312    3.39320  34.9%     -    0s\n",
      "     0     0    3.39321    0  179    5.21312    3.39321  34.9%     -    0s\n",
      "     0     0    3.49148    0  183    5.21312    3.49148  33.0%     -    0s\n",
      "     0     0    3.49621    0  183    5.21312    3.49621  32.9%     -    0s\n",
      "     0     0    3.49631    0  184    5.21312    3.49631  32.9%     -    0s\n",
      "     0     0    3.51203    0  166    5.21312    3.51203  32.6%     -    1s\n",
      "     0     0    3.51432    0  179    5.21312    3.51432  32.6%     -    1s\n",
      "     0     0    3.51487    0  179    5.21312    3.51487  32.6%     -    1s\n",
      "     0     0    3.51494    0  179    5.21312    3.51494  32.6%     -    1s\n",
      "     0     0    3.56612    0  171    5.21312    3.56612  31.6%     -    1s\n",
      "     0     0    3.56622    0  167    5.21312    3.56622  31.6%     -    1s\n",
      "     0     0    3.56628    0  171    5.21312    3.56628  31.6%     -    1s\n",
      "H    0     0                       5.1065616    3.56628  30.2%     -    1s\n",
      "     0     0    3.56633    0  170    5.10656    3.56633  30.2%     -    1s\n",
      "     0     0    3.56667    0  170    5.10656    3.56667  30.2%     -    1s\n",
      "     0     0    3.56667    0  170    5.10656    3.56667  30.2%     -    1s\n",
      "     0     2    3.56667    0  170    5.10656    3.56667  30.2%     -    1s\n",
      "\n",
      "Cutting planes:\n",
      "  Gomory: 3\n",
      "  Cover: 1\n",
      "  Implied bound: 9\n",
      "  Clique: 1\n",
      "  MIR: 53\n",
      "  Zero half: 22\n",
      "  RLT: 29\n",
      "  Relax-and-lift: 1\n",
      "\n",
      "Explored 786 nodes (69037 simplex iterations) in 3.60 seconds (1.61 work units)\n",
      "Thread count was 8 (of 8 available processors)\n",
      "\n",
      "Solution count 6: 5.10656 5.21312 6.21312 ... 17.2193\n",
      "\n",
      "Optimal solution found (tolerance 1.00e-04)\n",
      "Best objective 5.106561551392e+00, best bound 5.106561551392e+00, gap 0.0000%\n",
      "2\n"
     ]
    }
   ],
   "source": [
    "m.optimize()\n",
    "print(m.Status)"
   ]
  },
  {
   "cell_type": "code",
   "execution_count": 71,
   "metadata": {},
   "outputs": [
    {
     "name": "stdout",
     "output_type": "stream",
     "text": [
      "x[ 1, 1, 4, 1]=1.0\n",
      "x[ 1, 2, 4, 1]=1.0\n",
      "x[ 1, 3, 2, 3]=1.0\n",
      "x[ 1, 3, 3, 1]=1.0\n",
      "x[ 2, 1, 4, 1]=1.0\n",
      "x[ 2, 2, 3, 1]=1.0\n",
      "x[ 2, 3, 2, 1]=1.0\n",
      "x[ 3, 1, 3, 1]=1.0\n",
      "x[ 3, 2, 3, 1]=1.0\n",
      "x[ 3, 3, 3, 2]=1.0\n",
      "x[ 3, 4, 3, 4]=1.0\n",
      "x[ 4, 1, 2, 1]=1.0\n",
      "x[ 4, 2, 1, 1]=1.0\n",
      "y[ 1, 3, 1]=1.0\n",
      "y[ 2, 1, 2]=1.0\n",
      "y[ 2, 3, 3]=1.0\n",
      "penalty[ 1, 3, 6]=1.0\n",
      "penalty[ 1, 3, 7]=1.0\n",
      "penalty[ 1, 3, 8]=1.0\n",
      "penalty[ 4, 2,12]=1.0\n",
      "the objective function 5.106561551391707\n"
     ]
    }
   ],
   "source": [
    "EPS=1.e-6\n",
    "\n",
    "if m.Status == GRB.OPTIMAL:\n",
    "  for (s,h,p,t) in x:\n",
    "    if t==1:\n",
    "      if x[s,h,p,t].X>EPS:\n",
    "        print(\"x[%2s,%2s,%2s,%2s]=%3s\" %(s,h,p,t,x[s,h,p,t].X))\n",
    "\n",
    "    if t>=2:\n",
    "      if (x[s,h,p,t].X-x[s,h,p,t-1].X)>EPS:\n",
    "        print(\"x[%2s,%2s,%2s,%2s]=%3s\" %(s,h,p,t,x[s,h,p,t].X))\n",
    "\n",
    "    # if t==len(T):\n",
    "    #   if x[s,h,p,t].X>EPS:\n",
    "    #     print(\"x[%2s,%2s,%2s,%2s]=%3s\" %(s,h,p,t,x[s,h,p,t].X))\n",
    "\n",
    "  for (s,k,t) in y:\n",
    "    if y[s,k,t].X>EPS:\n",
    "      print(\"y[%2s,%2s,%2s]=%3s\" %(s,k,t,y[s,k,t].X))\n",
    "\n",
    "  for (s,h,i) in penalty:\n",
    "    if penalty[s,h,i].X>EPS:\n",
    "      print(\"penalty[%2s,%2s,%2s]=%3s\" %(s,h,i,penalty[s,h,i].X))\n",
    "  print(\"the objective function\", m.objVal)"
   ]
  },
  {
   "cell_type": "code",
   "execution_count": 64,
   "metadata": {},
   "outputs": [
    {
     "data": {
      "text/plain": [
       "13"
      ]
     },
     "execution_count": 64,
     "metadata": {},
     "output_type": "execute_result"
    }
   ],
   "source": [
    "len(O)"
   ]
  },
  {
   "cell_type": "code",
   "execution_count": 42,
   "metadata": {},
   "outputs": [
    {
     "data": {
      "text/plain": [
       "[[1, 2, 3, 4],\n",
       " [1, 2, 3, 4],\n",
       " [1, 2, 3, 4],\n",
       " [1, 2, 3, 4],\n",
       " [1, 2, 3, 4],\n",
       " [3, 1, 2, 4],\n",
       " [3, 4, 1, 2],\n",
       " [3, 4, 1, 2],\n",
       " [3, 4, 1, 2],\n",
       " [1, 2, 4, 3],\n",
       " [1, 2, 4, 3],\n",
       " [1, 2, 4, 3],\n",
       " [2, 3, 1, 4]]"
      ]
     },
     "execution_count": 42,
     "metadata": {},
     "output_type": "execute_result"
    }
   ],
   "source": [
    "O"
   ]
  },
  {
   "cell_type": "code",
   "execution_count": null,
   "metadata": {},
   "outputs": [],
   "source": []
  }
 ],
 "metadata": {
  "kernelspec": {
   "display_name": "Python 3.8.3",
   "language": "python",
   "name": "python3"
  },
  "language_info": {
   "codemirror_mode": {
    "name": "ipython",
    "version": 3
   },
   "file_extension": ".py",
   "mimetype": "text/x-python",
   "name": "python",
   "nbconvert_exporter": "python",
   "pygments_lexer": "ipython3",
   "version": "3.8.3"
  },
  "orig_nbformat": 4,
  "vscode": {
   "interpreter": {
    "hash": "339b61edfe2862de78527346fab7b54ea336c8710f2c1713032939182b3058a7"
   }
  }
 },
 "nbformat": 4,
 "nbformat_minor": 2
}
