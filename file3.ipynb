{
 "cells": [
  {
   "cell_type": "code",
   "execution_count": 2,
   "metadata": {},
   "outputs": [
    {
     "name": "stdout",
     "output_type": "stream",
     "text": [
      "Collecting gurobipy\n",
      "  Using cached gurobipy-9.5.2-cp38-cp38-win_amd64.whl (8.9 MB)\n",
      "Installing collected packages: gurobipy\n",
      "Successfully installed gurobipy-9.5.2\n"
     ]
    }
   ],
   "source": [
    "!pip install gurobipy"
   ]
  },
  {
   "cell_type": "code",
   "execution_count": 3,
   "metadata": {},
   "outputs": [],
   "source": [
    "from gurobipy import *"
   ]
  },
  {
   "cell_type": "markdown",
   "metadata": {},
   "source": [
    "## 問題例3"
   ]
  },
  {
   "cell_type": "code",
   "execution_count": 23,
   "metadata": {},
   "outputs": [],
   "source": [
    "S=[i for i in range(1,4)]\n",
    "H=[i for i in range(1,5)]\n",
    "P=[i for i in range(1,5)]\n",
    "T=[i for i in range(1,10)]\n",
    "n=[1,4,2,3]"
   ]
  },
  {
   "cell_type": "code",
   "execution_count": 24,
   "metadata": {},
   "outputs": [],
   "source": [
    "m=Model(\"IP3\")"
   ]
  },
  {
   "cell_type": "code",
   "execution_count": 25,
   "metadata": {},
   "outputs": [],
   "source": [
    "x,y={},{}\n",
    "for s in S:\n",
    "  for h in H:\n",
    "    for p in P:\n",
    "      for t in T:\n",
    "        x[s,h,p,t]=m.addVar(vtype=\"B\")\n",
    "\n",
    "for s in S:\n",
    "  for k in S:\n",
    "    if s!=k:\n",
    "      for t in T:\n",
    "        if t!=len(T):\n",
    "          y[s,k,t]=m.addVar(vtype=\"C\",lb=0)\n",
    "\n"
   ]
  },
  {
   "cell_type": "code",
   "execution_count": 26,
   "metadata": {},
   "outputs": [],
   "source": [
    "for p in P:\n",
    "   for t in T:\n",
    "      m.addConstr(quicksum(x[s,h,p,t] for s in S for h in H)==n[p-1])\n",
    "\n",
    "for t in range(1,len(T)):\n",
    "   m.addConstr(quicksum(y[s,k,t] for s in S for k in S if k!=s)<=1)"
   ]
  },
  {
   "cell_type": "code",
   "execution_count": 27,
   "metadata": {},
   "outputs": [],
   "source": [
    "for t in range(1,len(T)-1):\n",
    "  m.addConstr(quicksum(y[s,k,t+1] for s in S for k in S if s!=k)<=quicksum(y[s,k,t] for s in S for k in S if k!=s))\n",
    "\n",
    "for s in S:\n",
    "  for t in range(2,len(T)+1):\n",
    "    m.addConstr(quicksum(x[s,1,p,t] for p in P)<=1)\n",
    "\n",
    "for s in S:\n",
    "  for h in range(1,len(H)):\n",
    "    for t in range(2,len(T)):\n",
    "      m.addConstr(quicksum(x[s,h+1,p,t] for p in P)<=quicksum(x[s,h,p,t] for p in P))\n",
    "\n",
    "for s in S:\n",
    "  for h in range(1,len(H)):\n",
    "    for p in P:\n",
    "      for t in range(1,len(T)):\n",
    "        m.addConstr(x[s,h,p,t]+quicksum(x[s,h+1,k,t] for k in P)<=1+x[s,h,p,t+1])"
   ]
  },
  {
   "cell_type": "code",
   "execution_count": 28,
   "metadata": {},
   "outputs": [],
   "source": [
    "for s in S:\n",
    "  for h in H:\n",
    "    for p in P:\n",
    "      for t in range(1,len(T)):\n",
    "        m.addConstr(x[s,h,p,t]<=x[s,h,p,t+1]+quicksum(y[s,k,t] for k in S if k!=s))\n",
    "        m.addConstr(x[s,h,p,t+1]<=x[s,h,p,t]+quicksum(y[k,s,t] for k in S if k!=s))\n",
    "\n",
    "for s in S:\n",
    "  for h in range(1,len(H)):\n",
    "    for p in P:\n",
    "      m.addConstr(quicksum(x[s,h+1,k,len(T)] for k in range(p,len(P)+1))<=quicksum(x[s,h,k,len(T)] for k in range(p,len(P)+1)))\n",
    "\n",
    "for k in S:\n",
    "   for t in range(1,len(T)-1):\n",
    "    m.addConstr(quicksum(y[s,k,t] for s in S if s!=k)+quicksum(y[k,s,t+1] for s in S if s!=k)<=1)"
   ]
  },
  {
   "cell_type": "code",
   "execution_count": 29,
   "metadata": {},
   "outputs": [
    {
     "data": {
      "text/plain": [
       "<gurobi.Constr *Awaiting Model Update*>"
      ]
     },
     "execution_count": 29,
     "metadata": {},
     "output_type": "execute_result"
    }
   ],
   "source": [
    "m.addConstr(x[1,1,4,1]==1)\n",
    "m.addConstr(x[1,2,4,1]==1)\n",
    "m.addConstr(x[1,3,2,1]==1)\n",
    "m.addConstr(x[1,4,3,1]==1)\n",
    "m.addConstr(x[2,1,4,1]==1)\n",
    "m.addConstr(x[2,2,2,1]==1)\n",
    "m.addConstr(x[2,3,3,1]==1)\n",
    "m.addConstr(x[2,4,1,1]==1)\n",
    "m.addConstr(x[3,1,2,1]==1)\n",
    "m.addConstr(x[3,2,2,1]==1)"
   ]
  },
  {
   "cell_type": "code",
   "execution_count": 30,
   "metadata": {},
   "outputs": [
    {
     "name": "stdout",
     "output_type": "stream",
     "text": [
      "Gurobi Optimizer version 9.5.2 build v9.5.2rc0 (win64)\n",
      "Thread count: 4 physical cores, 8 logical processors, using up to 8 threads\n",
      "Optimize a model with 1261 rows, 480 columns and 6238 nonzeros\n",
      "Model fingerprint: 0xb9c4b730\n",
      "Variable types: 48 continuous, 432 integer (432 binary)\n",
      "Coefficient statistics:\n",
      "  Matrix range     [1e+00, 1e+00]\n",
      "  Objective range  [1e+00, 1e+00]\n",
      "  Bounds range     [1e+00, 1e+00]\n",
      "  RHS range        [1e+00, 4e+00]\n",
      "Presolve removed 304 rows and 116 columns\n",
      "Presolve time: 0.08s\n",
      "Presolved: 957 rows, 364 columns, 4734 nonzeros\n",
      "Variable types: 48 continuous, 316 integer (316 binary)\n",
      "\n",
      "Root relaxation: objective 1.150629e+00, 780 iterations, 0.08 seconds (0.03 work units)\n",
      "\n",
      "    Nodes    |    Current Node    |     Objective Bounds      |     Work\n",
      " Expl Unexpl |  Obj  Depth IntInf | Incumbent    BestBd   Gap | It/Node Time\n",
      "\n",
      "     0     0    1.15063    0  173          -    1.15063      -     -    0s\n",
      "     0     0    2.03665    0  138          -    2.03665      -     -    0s\n",
      "     0     0    2.03665    0  138          -    2.03665      -     -    0s\n",
      "     0     0    2.08407    0  143          -    2.08407      -     -    0s\n",
      "     0     0    2.08595    0  151          -    2.08595      -     -    0s\n",
      "     0     0    2.08616    0  145          -    2.08616      -     -    0s\n",
      "     0     0    2.09267    0  114          -    2.09267      -     -    0s\n",
      "     0     0    2.09428    0  115          -    2.09428      -     -    0s\n",
      "     0     0    2.09428    0  115          -    2.09428      -     -    0s\n",
      "     0     0    2.09870    0  165          -    2.09870      -     -    0s\n",
      "     0     0    2.09922    0  158          -    2.09922      -     -    0s\n",
      "     0     0    2.09936    0  158          -    2.09936      -     -    0s\n",
      "     0     0    2.11928    0  161          -    2.11928      -     -    1s\n",
      "     0     0    2.11934    0  161          -    2.11934      -     -    1s\n",
      "     0     0    2.12121    0  146          -    2.12121      -     -    1s\n",
      "     0     0    2.12123    0  152          -    2.12123      -     -    1s\n",
      "     0     0    2.12123    0  150          -    2.12123      -     -    1s\n",
      "     0     0    2.12123    0  150          -    2.12123      -     -    1s\n",
      "     0     2    2.12123    0  125          -    2.12123      -     -    1s\n",
      "*  191    96              13       8.0000000    2.16452  72.9%   259    4s\n",
      "*  271    87              16       6.0000000    3.80000  36.7%   212    4s\n",
      "\n",
      "Cutting planes:\n",
      "  Gomory: 9\n",
      "  Cover: 1\n",
      "  Implied bound: 3\n",
      "  MIR: 39\n",
      "  Inf proof: 2\n",
      "  Mod-K: 6\n",
      "  RLT: 7\n",
      "\n",
      "Explored 416 nodes (67016 simplex iterations) in 4.91 seconds (2.13 work units)\n",
      "Thread count was 8 (of 8 available processors)\n",
      "\n",
      "Solution count 2: 6 8 \n",
      "\n",
      "Optimal solution found (tolerance 1.00e-04)\n",
      "Best objective 6.000000000000e+00, best bound 6.000000000000e+00, gap 0.0000%\n"
     ]
    }
   ],
   "source": [
    "m.setObjective(quicksum(y[s,k,t] for s in S for k in S if k!=s for t in range(1,len(T))))\n",
    "m.optimize()"
   ]
  },
  {
   "cell_type": "code",
   "execution_count": 31,
   "metadata": {},
   "outputs": [
    {
     "name": "stdout",
     "output_type": "stream",
     "text": [
      "x[ 1, 1, 4, 1]=1.0\n",
      "x[ 1, 2, 4, 1]=1.0\n",
      "x[ 1, 3, 2, 1]=1.0\n",
      "x[ 1, 3, 3, 5]=1.0\n",
      "x[ 1, 4, 3, 1]=1.0\n",
      "x[ 1, 4, 3, 6]=1.0\n",
      "x[ 2, 1, 4, 1]=1.0\n",
      "x[ 2, 2, 2, 1]=1.0\n",
      "x[ 2, 3, 2, 7]=1.0\n",
      "x[ 2, 3, 3, 1]=1.0\n",
      "x[ 2, 4, 1, 1]=1.0\n",
      "x[ 2, 4, 3, 3]=1.0\n",
      "x[ 3, 1, 2, 1]=1.0\n",
      "x[ 3, 2, 2, 1]=1.0\n",
      "x[ 3, 3, 1, 2]=1.0\n",
      "x[ 3, 4, 2, 4]=1.0\n",
      "y[ 1, 2, 2]=1.0\n",
      "y[ 1, 3, 3]=1.0\n",
      "y[ 2, 1, 4]=1.0\n",
      "y[ 2, 1, 5]=0.9999999999998335\n",
      "y[ 2, 3, 1]=1.0\n",
      "y[ 3, 2, 6]=0.9999999999999414\n",
      "the number of moves 5.999999999999912\n"
     ]
    }
   ],
   "source": [
    "EPS=1.e-6\n",
    "\n",
    "for (s,h,p,t) in x:\n",
    "  if t==1:\n",
    "    if x[s,h,p,t].X>EPS:\n",
    "      print(\"x[%2s,%2s,%2s,%2s]=%3s\" %(s,h,p,t,x[s,h,p,t].X))\n",
    "\n",
    "  if t>=2:\n",
    "    if (x[s,h,p,t].X-x[s,h,p,t-1].X)>EPS:\n",
    "      print(\"x[%2s,%2s,%2s,%2s]=%3s\" %(s,h,p,t,x[s,h,p,t].X))\n",
    "\n",
    "for (s,k,t) in y:\n",
    "  if y[s,k,t].X>EPS:\n",
    "    print(\"y[%2s,%2s,%2s]=%3s\" %(s,k,t,y[s,k,t].X))\n",
    "print(\"the number of moves\", m.objVal)"
   ]
  },
  {
   "cell_type": "code",
   "execution_count": null,
   "metadata": {},
   "outputs": [],
   "source": []
  }
 ],
 "metadata": {
  "kernelspec": {
   "display_name": "Python 3.8.3 ('base')",
   "language": "python",
   "name": "python3"
  },
  "language_info": {
   "codemirror_mode": {
    "name": "ipython",
    "version": 3
   },
   "file_extension": ".py",
   "mimetype": "text/x-python",
   "name": "python",
   "nbconvert_exporter": "python",
   "pygments_lexer": "ipython3",
   "version": "3.8.3"
  },
  "orig_nbformat": 4,
  "vscode": {
   "interpreter": {
    "hash": "2844b23249f28ed4b814590c1b3b84af338e5b1fa5afd1b04b6f0a149a030b4b"
   }
  }
 },
 "nbformat": 4,
 "nbformat_minor": 2
}
