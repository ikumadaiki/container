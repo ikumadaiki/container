{
 "cells": [
  {
   "cell_type": "code",
   "execution_count": 1,
   "metadata": {},
   "outputs": [
    {
     "name": "stdout",
     "output_type": "stream",
     "text": [
      "Requirement already satisfied: gurobipy in c:\\users\\daiki\\anaconda31\\lib\\site-packages (9.5.2)\n"
     ]
    }
   ],
   "source": [
    "!pip install gurobipy"
   ]
  },
  {
   "cell_type": "code",
   "execution_count": 2,
   "metadata": {},
   "outputs": [],
   "source": [
    "from gurobipy import *"
   ]
  },
  {
   "cell_type": "markdown",
   "metadata": {},
   "source": [
    "## 問題例4 不確実性を導入"
   ]
  },
  {
   "cell_type": "code",
   "execution_count": 3,
   "metadata": {},
   "outputs": [],
   "source": [
    "def order(a,b,c,d):\n",
    "  return [a,b,c,d]"
   ]
  },
  {
   "cell_type": "code",
   "execution_count": 4,
   "metadata": {},
   "outputs": [
    {
     "data": {
      "text/plain": [
       "([1, 2, 3],\n",
       " [1, 2, 3, 4],\n",
       " [1, 2, 3, 4],\n",
       " [1, 2, 3, 4, 5, 6, 7, 8, 9],\n",
       " [1, 4, 2, 3])"
      ]
     },
     "execution_count": 4,
     "metadata": {},
     "output_type": "execute_result"
    }
   ],
   "source": [
    "# nと初期配置を変更しなければいけない\n",
    "O=order(1,3,2,4)\n",
    "S=[i for i in range(1,4)]\n",
    "H=[i for i in range(1,5)]\n",
    "P=[i for i in range(1,5)]\n",
    "T=[i for i in range(1,10)]\n",
    "n1=[1,2,4,3]\n",
    "n=[n1[O[0]-1],n1[O[1]-1],n1[O[2]-1],n1[O[3]-1]]\n",
    "\n",
    "S,H,P,T,n"
   ]
  },
  {
   "cell_type": "code",
   "execution_count": 5,
   "metadata": {},
   "outputs": [
    {
     "name": "stdout",
     "output_type": "stream",
     "text": [
      "Restricted license - for non-production use only - expires 2023-10-25\n"
     ]
    }
   ],
   "source": [
    "m=Model(\"IP3\")"
   ]
  },
  {
   "cell_type": "code",
   "execution_count": 6,
   "metadata": {},
   "outputs": [],
   "source": [
    "x,y={},{}\n",
    "for s in S:\n",
    "  for h in H:\n",
    "    for p in P:\n",
    "      for t in T:\n",
    "        x[s,h,p,t]=m.addVar(vtype=\"B\")\n",
    "\n",
    "for s in S:\n",
    "  for k in S:\n",
    "    if s!=k:\n",
    "      for t in T:\n",
    "        if t!=len(T):\n",
    "          y[s,k,t]=m.addVar(vtype=\"B\")\n",
    "\n"
   ]
  },
  {
   "cell_type": "code",
   "execution_count": 7,
   "metadata": {},
   "outputs": [],
   "source": [
    "for p in P:\n",
    "   for t in T:\n",
    "      m.addConstr(quicksum(x[s,h,p,t] for s in S for h in H)==n[p-1])\n",
    "\n",
    "for t in range(1,len(T)):\n",
    "   m.addConstr(quicksum(y[s,k,t] for s in S for k in S if k!=s)<=1)"
   ]
  },
  {
   "cell_type": "code",
   "execution_count": 8,
   "metadata": {},
   "outputs": [],
   "source": [
    "for t in range(1,len(T)-1):\n",
    "  m.addConstr(quicksum(y[s,k,t+1] for s in S for k in S if s!=k)<=quicksum(y[s,k,t] for s in S for k in S if k!=s))\n",
    "\n",
    "for s in S:\n",
    "  for t in range(2,len(T)+1):\n",
    "    m.addConstr(quicksum(x[s,1,p,t] for p in P)<=1)\n",
    "\n",
    "for s in S:\n",
    "  for h in range(1,len(H)):\n",
    "    for t in range(2,len(T)+1):\n",
    "      m.addConstr(quicksum(x[s,h+1,p,t] for p in P)<=quicksum(x[s,h,p,t] for p in P))\n",
    "\n",
    "for s in S:\n",
    "  for h in range(1,len(H)):\n",
    "    for p in P:\n",
    "      for t in range(1,len(T)):\n",
    "        m.addConstr(x[s,h,p,t]+quicksum(x[s,h+1,k,t] for k in P)<=1+x[s,h,p,t+1])"
   ]
  },
  {
   "cell_type": "code",
   "execution_count": 9,
   "metadata": {},
   "outputs": [],
   "source": [
    "for s in S:\n",
    "  for h in H:\n",
    "    for p in P:\n",
    "      for t in range(1,len(T)):\n",
    "        m.addConstr(x[s,h,p,t]<=x[s,h,p,t+1]+quicksum(y[s,k,t] for k in S if k!=s))\n",
    "        m.addConstr(x[s,h,p,t+1]<=x[s,h,p,t]+quicksum(y[k,s,t] for k in S if k!=s))\n",
    "\n",
    "for s in S:\n",
    "  for h in range(1,len(H)):\n",
    "    for p in P:\n",
    "      m.addConstr(quicksum(x[s,h+1,k,len(T)] for k in range(p,len(P)+1))<=quicksum(x[s,h,k,len(T)] for k in range(p,len(P)+1)))\n",
    "\n",
    "for k in S:\n",
    "   for t in range(1,len(T)-1):\n",
    "    m.addConstr(quicksum(y[s,k,t] for s in S if s!=k)+quicksum(y[k,s,t+1] for s in S if s!=k)<=1)"
   ]
  },
  {
   "cell_type": "code",
   "execution_count": 10,
   "metadata": {},
   "outputs": [
    {
     "data": {
      "text/plain": [
       "<gurobi.Constr *Awaiting Model Update*>"
      ]
     },
     "execution_count": 10,
     "metadata": {},
     "output_type": "execute_result"
    }
   ],
   "source": [
    "m.addConstr(x[1,1,O[3],1]==1)\n",
    "m.addConstr(x[1,2,O[3],1]==1)\n",
    "m.addConstr(x[1,3,O[2],1]==1)\n",
    "m.addConstr(x[1,4,O[1],1]==1)\n",
    "m.addConstr(x[2,1,O[3],1]==1)\n",
    "m.addConstr(x[2,2,O[2],1]==1)\n",
    "m.addConstr(x[2,3,O[1],1]==1)\n",
    "m.addConstr(x[2,4,O[0],1]==1)\n",
    "m.addConstr(x[3,1,O[2],1]==1)\n",
    "m.addConstr(x[3,2,O[2],1]==1)"
   ]
  },
  {
   "cell_type": "code",
   "execution_count": 11,
   "metadata": {},
   "outputs": [
    {
     "name": "stdout",
     "output_type": "stream",
     "text": [
      "Gurobi Optimizer version 9.5.2 build v9.5.2rc0 (win64)\n",
      "Thread count: 4 physical cores, 8 logical processors, using up to 8 threads\n",
      "Optimize a model with 1270 rows, 480 columns and 6310 nonzeros\n",
      "Model fingerprint: 0x3f78619c\n",
      "Variable types: 0 continuous, 480 integer (480 binary)\n",
      "Coefficient statistics:\n",
      "  Matrix range     [1e+00, 1e+00]\n",
      "  Objective range  [1e+00, 1e+00]\n",
      "  Bounds range     [1e+00, 1e+00]\n",
      "  RHS range        [1e+00, 4e+00]\n",
      "Presolve removed 558 rows and 201 columns\n",
      "Presolve time: 0.04s\n",
      "Presolved: 712 rows, 279 columns, 3309 nonzeros\n",
      "Variable types: 0 continuous, 279 integer (279 binary)\n",
      "\n",
      "Root relaxation: objective 4.088530e+00, 738 iterations, 0.03 seconds (0.02 work units)\n",
      "\n",
      "    Nodes    |    Current Node    |     Objective Bounds      |     Work\n",
      " Expl Unexpl |  Obj  Depth IntInf | Incumbent    BestBd   Gap | It/Node Time\n",
      "\n",
      "     0     0    4.08853    0  193          -    4.08853      -     -    0s\n",
      "H    0     0                       6.0000000    4.08853  31.9%     -    0s\n",
      "     0     0    5.00000    0   96    6.00000    5.00000  16.7%     -    0s\n",
      "     0     0    5.00000    0  101    6.00000    5.00000  16.7%     -    0s\n",
      "     0     0    5.00000    0   63    6.00000    5.00000  16.7%     -    0s\n",
      "     0     0    5.00000    0   64    6.00000    5.00000  16.7%     -    0s\n",
      "     0     0    5.00000    0   70    6.00000    5.00000  16.7%     -    0s\n",
      "     0     0    5.00000    0   66    6.00000    5.00000  16.7%     -    0s\n",
      "     0     0    5.00000    0   67    6.00000    5.00000  16.7%     -    0s\n",
      "     0     0    5.00000    0   67    6.00000    5.00000  16.7%     -    0s\n",
      "\n",
      "Cutting planes:\n",
      "  Implied bound: 6\n",
      "  Clique: 18\n",
      "  MIR: 5\n",
      "  Zero half: 3\n",
      "  RLT: 5\n",
      "\n",
      "Explored 1 nodes (2816 simplex iterations) in 0.56 seconds (0.20 work units)\n",
      "Thread count was 8 (of 8 available processors)\n",
      "\n",
      "Solution count 1: 6 \n",
      "\n",
      "Optimal solution found (tolerance 1.00e-04)\n",
      "Best objective 6.000000000000e+00, best bound 6.000000000000e+00, gap 0.0000%\n"
     ]
    }
   ],
   "source": [
    "m.setObjective(quicksum(y[s,k,t] for s in S for k in S if k!=s for t in range(1,len(T))))\n",
    "m.optimize()"
   ]
  },
  {
   "cell_type": "code",
   "execution_count": 12,
   "metadata": {},
   "outputs": [
    {
     "name": "stdout",
     "output_type": "stream",
     "text": [
      "x[ 1, 1, 4, 1]=1.0\n",
      "x[ 1, 2, 4, 1]=1.0\n",
      "x[ 1, 3, 2, 1]=1.0\n",
      "x[ 1, 3, 3, 5]=1.0\n",
      "x[ 1, 4, 3, 1]=1.0\n",
      "x[ 1, 4, 3, 6]=1.0\n",
      "x[ 2, 1, 4, 1]=1.0\n",
      "x[ 2, 2, 2, 1]=1.0\n",
      "x[ 2, 3, 2, 7]=1.0\n",
      "x[ 2, 3, 3, 1]=1.0\n",
      "x[ 2, 4, 1, 1]=1.0\n",
      "x[ 2, 4, 3, 3]=1.0\n",
      "x[ 3, 1, 2, 1]=1.0\n",
      "x[ 3, 2, 2, 1]=1.0\n",
      "x[ 3, 3, 1, 2]=1.0\n",
      "x[ 3, 4, 2, 4]=1.0\n",
      "y[ 1, 2, 2]=1.0\n",
      "y[ 1, 3, 3]=1.0\n",
      "y[ 2, 1, 4]=1.0\n",
      "y[ 2, 1, 5]=1.0\n",
      "y[ 2, 3, 1]=1.0\n",
      "y[ 3, 2, 6]=1.0\n",
      "the number of moves 6.0\n"
     ]
    }
   ],
   "source": [
    "EPS=1.e-6\n",
    "\n",
    "for (s,h,p,t) in x:\n",
    "  if t==1:\n",
    "    if x[s,h,p,t].X>EPS:\n",
    "      print(\"x[%2s,%2s,%2s,%2s]=%3s\" %(s,h,p,t,x[s,h,p,t].X))\n",
    "\n",
    "  if t>=2:\n",
    "    if (x[s,h,p,t].X-x[s,h,p,t-1].X)>EPS:\n",
    "      print(\"x[%2s,%2s,%2s,%2s]=%3s\" %(s,h,p,t,x[s,h,p,t].X))\n",
    "\n",
    "for (s,k,t) in y:\n",
    "  if y[s,k,t].X>EPS:\n",
    "    print(\"y[%2s,%2s,%2s]=%3s\" %(s,k,t,y[s,k,t].X))\n",
    "print(\"the number of moves\", m.objVal)"
   ]
  },
  {
   "cell_type": "code",
   "execution_count": null,
   "metadata": {},
   "outputs": [],
   "source": []
  },
  {
   "cell_type": "code",
   "execution_count": null,
   "metadata": {},
   "outputs": [],
   "source": []
  }
 ],
 "metadata": {
  "kernelspec": {
   "display_name": "Python 3.8.3 ('base')",
   "language": "python",
   "name": "python3"
  },
  "language_info": {
   "codemirror_mode": {
    "name": "ipython",
    "version": 3
   },
   "file_extension": ".py",
   "mimetype": "text/x-python",
   "name": "python",
   "nbconvert_exporter": "python",
   "pygments_lexer": "ipython3",
   "version": "3.8.3"
  },
  "orig_nbformat": 4,
  "vscode": {
   "interpreter": {
    "hash": "2844b23249f28ed4b814590c1b3b84af338e5b1fa5afd1b04b6f0a149a030b4b"
   }
  }
 },
 "nbformat": 4,
 "nbformat_minor": 2
}
