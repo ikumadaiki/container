{
 "cells": [
  {
   "cell_type": "code",
   "execution_count": 1,
   "metadata": {},
   "outputs": [
    {
     "name": "stdout",
     "output_type": "stream",
     "text": [
      "Requirement already satisfied: gurobipy in c:\\users\\daiki\\anaconda31\\lib\\site-packages (9.5.2)\n"
     ]
    }
   ],
   "source": [
    "!pip install gurobipy"
   ]
  },
  {
   "cell_type": "code",
   "execution_count": 2,
   "metadata": {},
   "outputs": [],
   "source": [
    "from gurobipy import *"
   ]
  },
  {
   "cell_type": "markdown",
   "metadata": {},
   "source": [
    "## 問題例5 手数に上限を加えて制約を満たしていないものにペナルティを加える。"
   ]
  },
  {
   "cell_type": "code",
   "execution_count": 49,
   "metadata": {},
   "outputs": [],
   "source": [
    "def order(a,b):\n",
    "  return [a,b]"
   ]
  },
  {
   "cell_type": "code",
   "execution_count": 50,
   "metadata": {},
   "outputs": [
    {
     "data": {
      "text/plain": [
       "([1, 2], [1, 2], [1, 2], [1, 2, 3, 4, 5, 6], [1, 2])"
      ]
     },
     "execution_count": 50,
     "metadata": {},
     "output_type": "execute_result"
    }
   ],
   "source": [
    "# nと初期配置を変更しなければいけない\n",
    "O=order(1,2)\n",
    "S=[i for i in range(1,3)]\n",
    "H=[i for i in range(1,3)]\n",
    "P=[i for i in range(1,3)]\n",
    "T=[i for i in range(1,7)]\n",
    "n1=[1,2]\n",
    "n=[n1[O[0]-1],n1[O[1]-1]]\n",
    "\n",
    "S,H,P,T,n"
   ]
  },
  {
   "cell_type": "code",
   "execution_count": 63,
   "metadata": {},
   "outputs": [],
   "source": [
    "m=Model(\"IP3\")"
   ]
  },
  {
   "cell_type": "code",
   "execution_count": 64,
   "metadata": {},
   "outputs": [],
   "source": [
    "x,y,pre,penalty={},{},{},{}\n",
    "for s in S:\n",
    "  for h in H:\n",
    "    for p in P:\n",
    "      for t in T:\n",
    "        x[s,h,p,t]=m.addVar(vtype=\"B\")\n",
    "\n",
    "for s in S:\n",
    "  for k in S:\n",
    "    if s!=k:\n",
    "      for t in T:\n",
    "        if t!=len(T):\n",
    "          y[s,k,t]=m.addVar(vtype=\"B\")\n",
    "\n",
    "\n",
    "# for s in S:\n",
    "#   for h in range(1,len(H)):\n",
    "#     for p in P:\n",
    "#       pre[s,h,p]=m.addVar(vtype=\"C\")\n",
    "#       penalty[s,h,p]=m.addVar(vtype=\"c\")\n",
    "\n"
   ]
  },
  {
   "cell_type": "code",
   "execution_count": 65,
   "metadata": {},
   "outputs": [],
   "source": [
    "for p in P:\n",
    "   for t in T:\n",
    "      m.addConstr(quicksum(x[s,h,p,t] for s in S for h in H)==n[p-1])\n",
    "\n",
    "for t in range(1,len(T)):\n",
    "   m.addConstr(quicksum(y[s,k,t] for s in S for k in S if k!=s)<=1)"
   ]
  },
  {
   "cell_type": "code",
   "execution_count": 66,
   "metadata": {},
   "outputs": [],
   "source": [
    "for t in range(1,len(T)-1):\n",
    "  m.addConstr(quicksum(y[s,k,t+1] for s in S for k in S if s!=k)<=quicksum(y[s,k,t] for s in S for k in S if k!=s))\n",
    "\n",
    "for s in S:\n",
    "  for t in range(2,len(T)+1):\n",
    "    m.addConstr(quicksum(x[s,1,p,t] for p in P)<=1)\n",
    "\n",
    "for s in S:\n",
    "  for h in range(1,len(H)):\n",
    "    for t in range(2,len(T)):\n",
    "      m.addConstr(quicksum(x[s,h+1,p,t] for p in P)<=quicksum(x[s,h,p,t] for p in P))\n",
    "\n",
    "for s in S:\n",
    "  for h in range(1,len(H)):\n",
    "    for p in P:\n",
    "      for t in range(1,len(T)):\n",
    "        m.addConstr(x[s,h,p,t]+quicksum(x[s,h+1,k,t] for k in P)<=1+x[s,h,p,t+1])"
   ]
  },
  {
   "cell_type": "code",
   "execution_count": null,
   "metadata": {},
   "outputs": [],
   "source": []
  },
  {
   "cell_type": "code",
   "execution_count": 67,
   "metadata": {},
   "outputs": [],
   "source": [
    "for s in S:\n",
    "  for h in H:\n",
    "    for p in P:\n",
    "      for t in range(1,len(T)):\n",
    "        m.addConstr(x[s,h,p,t]<=x[s,h,p,t+1]+quicksum(y[s,k,t] for k in S if k!=s))\n",
    "        m.addConstr(x[s,h,p,t+1]<=x[s,h,p,t]+quicksum(y[k,s,t] for k in S if k!=s))\n",
    "\n",
    "\n",
    "# for s in S:\n",
    "#   for h in range(1,len(H)):\n",
    "#     for p in P:\n",
    "#       L= [0,quicksum(x[s,h+1,k,len(T)] for k in range(p,len(P)+1))-quicksum(x[s,h,k,len(T)] for k in range(p,len(P)+1))]\n",
    "#       m.addConstr(penalty[s,h,p]==max(L))\n",
    "\n",
    "for k in S:\n",
    "   for t in range(1,len(T)-1):\n",
    "    m.addConstr(quicksum(y[s,k,t] for s in S if s!=k)+quicksum(y[k,s,t+1] for s in S if s!=k)<=1)"
   ]
  },
  {
   "cell_type": "code",
   "execution_count": 68,
   "metadata": {},
   "outputs": [
    {
     "data": {
      "text/plain": [
       "<gurobi.Constr *Awaiting Model Update*>"
      ]
     },
     "execution_count": 68,
     "metadata": {},
     "output_type": "execute_result"
    }
   ],
   "source": [
    "# m.addConstr(x[1,1,O[3],1]==1)\n",
    "# m.addConstr(x[1,2,O[3],1]==1)\n",
    "# m.addConstr(x[1,3,O[2],1]==1)\n",
    "# m.addConstr(x[1,4,O[1],1]==1)\n",
    "# m.addConstr(x[2,1,O[3],1]==1)\n",
    "# m.addConstr(x[2,2,O[2],1]==1)\n",
    "# m.addConstr(x[2,3,O[1],1]==1)\n",
    "# m.addConstr(x[2,4,O[0],1]==1)\n",
    "# m.addConstr(x[3,1,O[2],1]==1)\n",
    "# m.addConstr(x[3,2,O[2],1]==1)\n",
    "\n",
    "m.addConstr(x[1,1,O[0],1]==1)\n",
    "m.addConstr(x[1,2,O[1],1]==1)\n",
    "m.addConstr(x[2,1,O[1],1]==1)"
   ]
  },
  {
   "cell_type": "code",
   "execution_count": 70,
   "metadata": {},
   "outputs": [],
   "source": [
    "for s in S:\n",
    "  for h in range(1,len(H)):\n",
    "    for p in P:\n",
    "      # m.addConstr(pre[s,h,p]==quicksum(x[s,h+1,k,len(T)-1] for k in range(p,len(P)+1))-quicksum(x[s,h,k,len(T)-1] for k in range(p,len(P)+1)))\n",
    "      a=[0]\n",
    "      pre[s,h,p]=sum(x[s,h+1,k,len(T)] for k in range(p,len(P)+1))-sum(x[s,h,k,len(T)] for k in range(p,len(P)+1))\n",
    "      a.append(pre[s,h,p])\n",
    "      penalty[s,h,p]=max_(a)\n",
    "      # print(penalty[s,h,p])\n"
   ]
  },
  {
   "cell_type": "code",
   "execution_count": 71,
   "metadata": {},
   "outputs": [
    {
     "ename": "TypeError",
     "evalue": "unsupported operand type(s) for +: 'int' and 'GenExprMax'",
     "output_type": "error",
     "traceback": [
      "\u001b[1;31m---------------------------------------------------------------------------\u001b[0m",
      "\u001b[1;31mTypeError\u001b[0m                                 Traceback (most recent call last)",
      "\u001b[1;32m<ipython-input-71-be3d6aff6851>\u001b[0m in \u001b[0;36m<module>\u001b[1;34m\u001b[0m\n\u001b[0;32m      1\u001b[0m m.setObjective(quicksum(y[s,k,t] for s in S for k in S if k!=s for t in range(1,len(T)))\n\u001b[1;32m----> 2\u001b[1;33m +1.1*sum(penalty[s,h,p] for s in S for h in H if h!=len(H) for p in P))\n\u001b[0m\u001b[0;32m      3\u001b[0m \u001b[0mm\u001b[0m\u001b[1;33m.\u001b[0m\u001b[0moptimize\u001b[0m\u001b[1;33m(\u001b[0m\u001b[1;33m)\u001b[0m\u001b[1;33m\u001b[0m\u001b[1;33m\u001b[0m\u001b[0m\n\u001b[0;32m      4\u001b[0m \u001b[0mprint\u001b[0m\u001b[1;33m(\u001b[0m\u001b[0mm\u001b[0m\u001b[1;33m.\u001b[0m\u001b[0mStatus\u001b[0m\u001b[1;33m)\u001b[0m\u001b[1;33m\u001b[0m\u001b[1;33m\u001b[0m\u001b[0m\n",
      "\u001b[1;31mTypeError\u001b[0m: unsupported operand type(s) for +: 'int' and 'GenExprMax'"
     ]
    }
   ],
   "source": [
    "m.setObjective(quicksum(y[s,k,t] for s in S for k in S if k!=s for t in range(1,len(T)))\n",
    "+1.1*sum(penalty[s,h,p] for s in S for h in H if h!=len(H) for p in P))\n",
    "m.optimize()\n",
    "print(m.Status)"
   ]
  },
  {
   "cell_type": "code",
   "execution_count": 32,
   "metadata": {},
   "outputs": [],
   "source": [
    "EPS=1.e-6\n",
    "\n",
    "if m.Status == GRB.OPTIMAL:\n",
    "  for (s,h,p,t) in x:\n",
    "    # if t==1:\n",
    "    #   if x[s,h,p,t].X>EPS:\n",
    "    #     print(\"x[%2s,%2s,%2s,%2s]=%3s\" %(s,h,p,t,x[s,h,p,t].X))\n",
    "\n",
    "    # if t>=2:\n",
    "    #   if (x[s,h,p,t].X-x[s,h,p,t-1].X)>EPS:\n",
    "    #     print(\"x[%2s,%2s,%2s,%2s]=%3s\" %(s,h,p,t,x[s,h,p,t].X))\n",
    "\n",
    "    if t==len(T):\n",
    "      if x[s,h,p,t].X>EPS:\n",
    "        print(\"x[%2s,%2s,%2s,%2s]=%3s\" %(s,h,p,t,x[s,h,p,t].X))\n",
    "\n",
    "  for (s,k,t) in y:\n",
    "    if y[s,k,t].X>EPS:\n",
    "      print(\"y[%2s,%2s,%2s]=%3s\" %(s,k,t,y[s,k,t].X))\n",
    "  print(\"the number of moves\", m.objVal)"
   ]
  }
 ],
 "metadata": {
  "kernelspec": {
   "display_name": "Python 3.8.3 ('base')",
   "language": "python",
   "name": "python3"
  },
  "language_info": {
   "codemirror_mode": {
    "name": "ipython",
    "version": 3
   },
   "file_extension": ".py",
   "mimetype": "text/x-python",
   "name": "python",
   "nbconvert_exporter": "python",
   "pygments_lexer": "ipython3",
   "version": "3.8.3"
  },
  "orig_nbformat": 4,
  "vscode": {
   "interpreter": {
    "hash": "2844b23249f28ed4b814590c1b3b84af338e5b1fa5afd1b04b6f0a149a030b4b"
   }
  }
 },
 "nbformat": 4,
 "nbformat_minor": 2
}
