{
 "cells": [
  {
   "cell_type": "code",
   "execution_count": 1,
   "metadata": {},
   "outputs": [],
   "source": [
    "import pulp"
   ]
  },
  {
   "cell_type": "code",
   "execution_count": 18,
   "metadata": {},
   "outputs": [
    {
     "name": "stderr",
     "output_type": "stream",
     "text": [
      "C:\\Users\\daiki\\AppData\\Local\\Packages\\PythonSoftwareFoundation.Python.3.9_qbz5n2kfra8p0\\LocalCache\\local-packages\\Python39\\site-packages\\pulp\\pulp.py:1352: UserWarning: Spaces are not permitted in the name. Converted to '_'\n",
      "  warnings.warn(\"Spaces are not permitted in the name. Converted to '_'\")\n"
     ]
    }
   ],
   "source": [
    "m = pulp.LpProblem('Problem Name', pulp.LpMinimize) # 最小化する場合"
   ]
  },
  {
   "cell_type": "code",
   "execution_count": 3,
   "metadata": {},
   "outputs": [
    {
     "data": {
      "text/plain": [
       "([1, 2, 3],\n",
       " [1, 2, 3, 4],\n",
       " [1, 2, 3, 4],\n",
       " [1, 2, 3, 4, 5, 6, 7, 8, 9],\n",
       " [1, 4, 2, 3])"
      ]
     },
     "execution_count": 3,
     "metadata": {},
     "output_type": "execute_result"
    }
   ],
   "source": [
    "def order(a,b,c,d):\n",
    "  return [a,b,c,d]\n",
    "\n",
    "# nと初期配置を変更しなければいけない\n",
    "O=order(1,3,2,4)\n",
    "S=[i for i in range(1,4)]\n",
    "H=[i for i in range(1,5)]\n",
    "P=[i for i in range(1,5)]\n",
    "T=[i for i in range(1,10)]\n",
    "n1=[1,2,4,3]\n",
    "n=[n1[O[0]-1],n1[O[1]-1],n1[O[2]-1],n1[O[3]-1]]\n",
    "\n",
    "S,H,P,T,n"
   ]
  },
  {
   "cell_type": "code",
   "execution_count": 24,
   "metadata": {},
   "outputs": [
    {
     "data": {
      "text/plain": [
       "x1111"
      ]
     },
     "execution_count": 24,
     "metadata": {},
     "output_type": "execute_result"
    }
   ],
   "source": [
    "\n",
    "x = [pulp.LpVariable('x%d%d%d%d'%(s,h,p,t), cat=pulp.LpBinary) for s in S for h in H for p in P for t in T]\n",
    "\n",
    "y=[pulp.LpVariable('y%d%d%d'%(s,k,t), cat=pulp.LpBinary) for s in S for k in S if s!=k for t in T]\n",
    "\n",
    "x[0]"
   ]
  },
  {
   "cell_type": "code",
   "execution_count": 19,
   "metadata": {},
   "outputs": [
    {
     "ename": "NameError",
     "evalue": "name 'xshpt' is not defined",
     "output_type": "error",
     "traceback": [
      "\u001b[1;31m---------------------------------------------------------------------------\u001b[0m",
      "\u001b[1;31mNameError\u001b[0m                                 Traceback (most recent call last)",
      "\u001b[1;32mセル5 を Ubuntu\\home\\ikumadaiki\\container\\pulp.ipynb\u001b[0m in \u001b[0;36m<cell line: 1>\u001b[1;34m()\u001b[0m\n\u001b[0;32m      <a href='vscode-notebook-cell://wsl.localhost/Ubuntu/home/ikumadaiki/container/pulp.ipynb#ch0000004?line=0'>1</a>\u001b[0m \u001b[39mfor\u001b[39;00m p \u001b[39min\u001b[39;00m P:\n\u001b[0;32m      <a href='vscode-notebook-cell://wsl.localhost/Ubuntu/home/ikumadaiki/container/pulp.ipynb#ch0000004?line=1'>2</a>\u001b[0m    \u001b[39mfor\u001b[39;00m t \u001b[39min\u001b[39;00m T:\n\u001b[1;32m----> <a href='vscode-notebook-cell://wsl.localhost/Ubuntu/home/ikumadaiki/container/pulp.ipynb#ch0000004?line=2'>3</a>\u001b[0m       m \u001b[39m+\u001b[39m\u001b[39m=\u001b[39m pulp\u001b[39m.\u001b[39mlpSum([xshpt \u001b[39mfor\u001b[39;00m s \u001b[39min\u001b[39;00m S \u001b[39mfor\u001b[39;00m h \u001b[39min\u001b[39;00m H]) \u001b[39m==\u001b[39m n[p\u001b[39m-\u001b[39m\u001b[39m1\u001b[39m]\n",
      "\u001b[1;32mセル5 を Ubuntu\\home\\ikumadaiki\\container\\pulp.ipynb\u001b[0m in \u001b[0;36m<listcomp>\u001b[1;34m(.0)\u001b[0m\n\u001b[0;32m      <a href='vscode-notebook-cell://wsl.localhost/Ubuntu/home/ikumadaiki/container/pulp.ipynb#ch0000004?line=0'>1</a>\u001b[0m \u001b[39mfor\u001b[39;00m p \u001b[39min\u001b[39;00m P:\n\u001b[0;32m      <a href='vscode-notebook-cell://wsl.localhost/Ubuntu/home/ikumadaiki/container/pulp.ipynb#ch0000004?line=1'>2</a>\u001b[0m    \u001b[39mfor\u001b[39;00m t \u001b[39min\u001b[39;00m T:\n\u001b[1;32m----> <a href='vscode-notebook-cell://wsl.localhost/Ubuntu/home/ikumadaiki/container/pulp.ipynb#ch0000004?line=2'>3</a>\u001b[0m       m \u001b[39m+\u001b[39m\u001b[39m=\u001b[39m pulp\u001b[39m.\u001b[39mlpSum([xshpt \u001b[39mfor\u001b[39;00m s \u001b[39min\u001b[39;00m S \u001b[39mfor\u001b[39;00m h \u001b[39min\u001b[39;00m H]) \u001b[39m==\u001b[39m n[p\u001b[39m-\u001b[39m\u001b[39m1\u001b[39m]\n",
      "\u001b[1;31mNameError\u001b[0m: name 'xshpt' is not defined"
     ]
    }
   ],
   "source": [
    "for p in P:\n",
    "   for t in T:\n",
    "      m += pulp.lpSum([xshpt for s in S for h in H]) == n[p-1]\n",
    "\n",
    "# for t in range(1,len(T)):\n",
    "#    m.addConstr(quicksum(y[s,k,t] for s in S for k in S if k!=s)<=1)"
   ]
  }
 ],
 "metadata": {
  "kernelspec": {
   "display_name": "Python 3.9.13 64-bit (windows store)",
   "language": "python",
   "name": "python3"
  },
  "language_info": {
   "codemirror_mode": {
    "name": "ipython",
    "version": 3
   },
   "file_extension": ".py",
   "mimetype": "text/x-python",
   "name": "python",
   "nbconvert_exporter": "python",
   "pygments_lexer": "ipython3",
   "version": "3.9.13"
  },
  "orig_nbformat": 4,
  "vscode": {
   "interpreter": {
    "hash": "0bc652a6662848c169ddaad7e75fc7966486f1f662e7670e7ffb2b305ef6abae"
   }
  }
 },
 "nbformat": 4,
 "nbformat_minor": 2
}
